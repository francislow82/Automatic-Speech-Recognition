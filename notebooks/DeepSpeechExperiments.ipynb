{
 "cells": [
  {
   "cell_type": "code",
   "execution_count": 1,
   "metadata": {},
   "outputs": [
    {
     "name": "stdout",
     "output_type": "stream",
     "text": [
      "Automatic pdb calling has been turned ON\n"
     ]
    }
   ],
   "source": [
    "%pdb on"
   ]
  },
  {
   "cell_type": "code",
   "execution_count": 2,
   "metadata": {},
   "outputs": [],
   "source": [
    "import numpy as np\n",
    "import tensorflow as tf\n",
    "import sys\n",
    "import os\n",
    "if os.path.abspath('../') not in sys.path:\n",
    "    sys.path.append(os.path.abspath('../'))\n",
    "import automatic_speech_recognition as asr\n",
    "import time"
   ]
  },
  {
   "cell_type": "markdown",
   "metadata": {},
   "source": [
    "# Train/Eval Part"
   ]
  },
  {
   "cell_type": "code",
   "execution_count": null,
   "metadata": {},
   "outputs": [],
   "source": []
  },
  {
   "cell_type": "code",
   "execution_count": 3,
   "metadata": {},
   "outputs": [],
   "source": [
    "dev_dataset = asr.dataset.Audio.from_csv('./data/data_5s.csv', batch_size=1, use_filesizes=True, relative_paths=False)\n",
    "alphabet = asr.text.Alphabet(lang='en')\n",
    "features_extractor = asr.features.MFCC(\n",
    "    features_num=26,\n",
    "    sample_rate=16000,\n",
    "    standardize=None,\n",
    "    winlen=0.032,\n",
    "    winstep=0.02,\n",
    ")"
   ]
  },
  {
   "cell_type": "code",
   "execution_count": null,
   "metadata": {},
   "outputs": [],
   "source": []
  },
  {
   "cell_type": "code",
   "execution_count": 4,
   "metadata": {},
   "outputs": [
    {
     "name": "stdout",
     "output_type": "stream",
     "text": [
      "load graph\n",
      "WARNING:tensorflow:From /Users/roman/Documents/projects/asr_speedup/src/Automatic-Speech-Recognition/automatic_speech_recognition/utils/utils.py:90: FastGFile.__init__ (from tensorflow.python.platform.gfile) is deprecated and will be removed in a future version.\n",
      "Instructions for updating:\n",
      "Use tf.gfile.GFile.\n",
      "['IteratorV2', 'IteratorGetNext', 'Shape', 'strided_slice/stack', 'strided_slice/stack_1', 'strided_slice/stack_2', 'strided_slice', 'Const', 'conv1d/ExpandDims/dim', 'conv1d/ExpandDims', 'conv1d/ExpandDims_1/dim', 'conv1d/ExpandDims_1', 'conv1d', 'conv1d/Squeeze', 'Reshape/shape/1', 'Reshape/shape/2', 'Reshape/shape/3', 'Reshape/shape', 'Reshape', 'transpose/perm', 'transpose', 'Reshape_1/shape', 'Reshape_1', 'layer_1/bias', 'layer_1/bias/read', 'layer_1/weights', 'layer_1/weights/read', 'MatMul', 'BiasAdd', 'Relu', 'Minimum/y', 'Minimum', 'StringFormat', 'PrintV2', 'Identity', 'layer_2/bias', 'layer_2/bias/read', 'layer_2/weights', 'layer_2/weights/read', 'MatMul_1', 'BiasAdd_1', 'Relu_1', 'Minimum_1/y', 'Minimum_1', 'layer_3/bias', 'layer_3/bias/read', 'layer_3/weights', 'layer_3/weights/read', 'MatMul_2', 'BiasAdd_2', 'Relu_2', 'Minimum_2/y', 'Minimum_2', 'Reshape_2/shape', 'Reshape_2', 'cudnn_lstm/rnn/multi_rnn_cell/cell_0/cudnn_compatible_lstm_cell/kernel', 'cudnn_lstm/rnn/multi_rnn_cell/cell_0/cudnn_compatible_lstm_cell/kernel/read', 'cudnn_lstm/rnn/multi_rnn_cell/cell_0/cudnn_compatible_lstm_cell/bias', 'cudnn_lstm/rnn/multi_rnn_cell/cell_0/cudnn_compatible_lstm_cell/bias/read', 'cudnn_lstm/rnn/multi_rnn_cell/cell_0/cudnn_compatible_lstm_cell/Shape', 'cudnn_lstm/rnn/multi_rnn_cell/cell_0/cudnn_compatible_lstm_cell/strided_slice/stack', 'cudnn_lstm/rnn/multi_rnn_cell/cell_0/cudnn_compatible_lstm_cell/strided_slice/stack_1', 'cudnn_lstm/rnn/multi_rnn_cell/cell_0/cudnn_compatible_lstm_cell/strided_slice/stack_2', 'cudnn_lstm/rnn/multi_rnn_cell/cell_0/cudnn_compatible_lstm_cell/strided_slice', 'cudnn_lstm/rnn/multi_rnn_cell/cell_0/cudnn_compatible_lstm_cell/stack', 'cudnn_lstm/rnn/multi_rnn_cell/cell_0/cudnn_compatible_lstm_cell/zeros/Const', 'cudnn_lstm/rnn/multi_rnn_cell/cell_0/cudnn_compatible_lstm_cell/zeros', 'cudnn_lstm/rnn/multi_rnn_cell/cell_0/cudnn_compatible_lstm_cell/zeros_1/shape_as_tensor', 'cudnn_lstm/rnn/multi_rnn_cell/cell_0/cudnn_compatible_lstm_cell/zeros_1/Const', 'cudnn_lstm/rnn/multi_rnn_cell/cell_0/cudnn_compatible_lstm_cell/zeros_1', 'cudnn_lstm/rnn/multi_rnn_cell/cell_0/cudnn_compatible_lstm_cell/Const', 'cudnn_lstm/rnn/multi_rnn_cell/cell_0/cudnn_compatible_lstm_cell/Max', 'cudnn_lstm/rnn/multi_rnn_cell/cell_0/cudnn_compatible_lstm_cell/Cast', 'cudnn_lstm/rnn/multi_rnn_cell/cell_0/cudnn_compatible_lstm_cell/BlockLSTM', 'cudnn_lstm/rnn/multi_rnn_cell/cell_0/cudnn_compatible_lstm_cell/SequenceMask/Const', 'cudnn_lstm/rnn/multi_rnn_cell/cell_0/cudnn_compatible_lstm_cell/SequenceMask/Const_1', 'cudnn_lstm/rnn/multi_rnn_cell/cell_0/cudnn_compatible_lstm_cell/SequenceMask/Range', 'cudnn_lstm/rnn/multi_rnn_cell/cell_0/cudnn_compatible_lstm_cell/SequenceMask/ExpandDims/dim', 'cudnn_lstm/rnn/multi_rnn_cell/cell_0/cudnn_compatible_lstm_cell/SequenceMask/ExpandDims', 'cudnn_lstm/rnn/multi_rnn_cell/cell_0/cudnn_compatible_lstm_cell/SequenceMask/Cast', 'cudnn_lstm/rnn/multi_rnn_cell/cell_0/cudnn_compatible_lstm_cell/SequenceMask/Less', 'cudnn_lstm/rnn/multi_rnn_cell/cell_0/cudnn_compatible_lstm_cell/SequenceMask/Cast_1', 'cudnn_lstm/rnn/multi_rnn_cell/cell_0/cudnn_compatible_lstm_cell/transpose/perm', 'cudnn_lstm/rnn/multi_rnn_cell/cell_0/cudnn_compatible_lstm_cell/transpose', 'cudnn_lstm/rnn/multi_rnn_cell/cell_0/cudnn_compatible_lstm_cell/ExpandDims/dim', 'cudnn_lstm/rnn/multi_rnn_cell/cell_0/cudnn_compatible_lstm_cell/ExpandDims', 'cudnn_lstm/rnn/multi_rnn_cell/cell_0/cudnn_compatible_lstm_cell/Tile/multiples', 'cudnn_lstm/rnn/multi_rnn_cell/cell_0/cudnn_compatible_lstm_cell/Tile', 'cudnn_lstm/rnn/multi_rnn_cell/cell_0/cudnn_compatible_lstm_cell/mul', 'Reshape_3/shape', 'Reshape_3', 'layer_5/bias', 'layer_5/bias/read', 'layer_5/weights', 'layer_5/weights/read', 'MatMul_3', 'BiasAdd_3', 'Relu_3', 'Minimum_3/y', 'Minimum_3', 'layer_6/bias', 'layer_6/bias/read', 'layer_6/weights', 'layer_6/weights/read', 'MatMul_4', 'BiasAdd_4', 'raw_logits/shape', 'raw_logits']\n",
      "[]\n",
      "Found weight tensor layer_1/bias with shape (2048,)\n",
      "Found weight tensor layer_1/weights with shape (494, 2048)\n",
      "Found weight tensor layer_2/bias with shape (2048,)\n",
      "Found weight tensor layer_2/weights with shape (2048, 2048)\n",
      "Found weight tensor layer_3/bias with shape (2048,)\n",
      "Found weight tensor layer_3/weights with shape (2048, 2048)\n",
      "Found weight tensor cudnn_lstm/rnn/multi_rnn_cell/cell_0/cudnn_compatible_lstm_cell/kernel with shape (4096, 8192)\n",
      "Found weight tensor cudnn_lstm/rnn/multi_rnn_cell/cell_0/cudnn_compatible_lstm_cell/bias with shape (8192,)\n",
      "Found weight tensor layer_5/bias with shape (2048,)\n",
      "Found weight tensor layer_5/weights with shape (2048, 2048)\n",
      "Found weight tensor layer_6/bias with shape (29,)\n",
      "Found weight tensor layer_6/weights with shape (2048, 29)\n",
      "Shapes of weights prepared to be loaded into keras model\n",
      "[(494, 2048), (2048,), (2048, 2048), (2048,), (2048, 2048), (2048,), (2048, 8192), (2048, 8192), (8192,), (2048, 2048), (2048,), (2048, 29), (29,)]\n"
     ]
    }
   ],
   "source": [
    "# model = asr.model.get_deepspeech(\n",
    "#     input_dim=26,\n",
    "#     output_dim=29,\n",
    "#     units=1024,\n",
    "#     random_state=24,\n",
    "#     dropouts=(0,0.0,0.0,0.0,0),\n",
    "#     context=9,\n",
    "#     # rnn_units=800,\n",
    "#     # is_mixed_precision=False,\n",
    "# )\n",
    "model = asr.model.load_mozilla_deepspeech('./data/mozilla_deepspeech.pb')\n",
    "optimizer = tf.optimizers.Adam(\n",
    "    lr=1e-3,\n",
    "    beta_1=0.9,\n",
    "    beta_2=0.999\n",
    ")\n",
    "decoder = asr.decoder.GreedyDecoder()\n",
    "pipeline = asr.pipeline.CTCPipeline(\n",
    "    alphabet, features_extractor, model, optimizer, decoder\n",
    ")\n",
    "callbacks = []\n",
    "# pipeline.fit(dataset, dev_dataset, epochs=1000, callbacks=callbacks)\n",
    "# pipeline.save('./checkpoint')"
   ]
  },
  {
   "cell_type": "code",
   "execution_count": 5,
   "metadata": {},
   "outputs": [
    {
     "name": "stdout",
     "output_type": "stream",
     "text": [
      "['shortly after passing one of these chapels we came suddenly upon a village which started up out of the mist and i was alarmed lest i should be made an object of curiosity or dislike']\n",
      "['my guids however were well known and the natural politeness of the people prevented them from putting me to any inconvenience but they could not help eyeing me nor ei them']\n",
      "['the streets were narrow an unpaved bat very fairly clean']\n",
      "['the vine gr outside many of the houses and there were some with signboards on which was painted abottle an the glass that made me feel much at home']\n",
      "WARNING:tensorflow:5 out of the last 5 calls to <function Model.make_predict_function.<locals>.predict_function at 0x130ba3200> triggered tf.function retracing. Tracing is expensive and the excessive number of tracings is likely due to passing python objects instead of tensors. Also, tf.function has experimental_relax_shapes=True option that relaxes argument shapes that can avoid unnecessary retracing. Please refer to https://www.tensorflow.org/tutorials/customization/performance#python_or_tensor_args and https://www.tensorflow.org/api_docs/python/tf/function for more details.\n",
      "['even on this lege of human society there was a stunted girwh of shoplets which had taken invegetated somehow though as in an air marcantile of the bleakest']\n",
      "WER: 0.13806451612903228   CER: 0.035877050349450865\n",
      "Elapsed time 17.380148887634277\n"
     ]
    }
   ],
   "source": [
    "start = time.time()\n",
    "wer, cer = asr.evaluate.calculate_error_rates(pipeline, dev_dataset, print_pred=True)\n",
    "elapsed_time = time.time() - start\n",
    "print(f'WER: {wer}   CER: {cer}')\n",
    "print(f'Elapsed time {elapsed_time}')"
   ]
  },
  {
   "cell_type": "code",
   "execution_count": 6,
   "metadata": {},
   "outputs": [
    {
     "name": "stdout",
     "output_type": "stream",
     "text": [
      "Model: \"DeepSpeech\"\n",
      "__________________________________________________________________________________________________\n",
      "Layer (type)                    Output Shape         Param #     Connected to                     \n",
      "==================================================================================================\n",
      "X (InputLayer)                  [(None, None, 26)]   0                                            \n",
      "__________________________________________________________________________________________________\n",
      "tf_op_layer_ExpandDims (TensorF [(None, 1, None, 26) 0           X[0][0]                          \n",
      "__________________________________________________________________________________________________\n",
      "tf_op_layer_Shape (TensorFlowOp [(3,)]               0           X[0][0]                          \n",
      "__________________________________________________________________________________________________\n",
      "tf_op_layer_Conv2D (TensorFlowO [(None, 1, None, 494 0           tf_op_layer_ExpandDims[0][0]     \n",
      "__________________________________________________________________________________________________\n",
      "tf_op_layer_strided_slice (Tens [()]                 0           tf_op_layer_Shape[0][0]          \n",
      "__________________________________________________________________________________________________\n",
      "tf_op_layer_Squeeze (TensorFlow [(None, None, 494)]  0           tf_op_layer_Conv2D[0][0]         \n",
      "__________________________________________________________________________________________________\n",
      "tf_op_layer_Reshape/shape (Tens [(3,)]               0           tf_op_layer_strided_slice[0][0]  \n",
      "__________________________________________________________________________________________________\n",
      "tf_op_layer_Reshape (TensorFlow [(None, None, 494)]  0           tf_op_layer_Squeeze[0][0]        \n",
      "                                                                 tf_op_layer_Reshape/shape[0][0]  \n",
      "__________________________________________________________________________________________________\n",
      "reshape (Reshape)               (None, None, 494)    0           tf_op_layer_Reshape[0][0]        \n",
      "__________________________________________________________________________________________________\n",
      "dense_1 (TimeDistributed)       (None, None, 2048)   1013760     reshape[0][0]                    \n",
      "__________________________________________________________________________________________________\n",
      "re_lu (ReLU)                    (None, None, 2048)   0           dense_1[0][0]                    \n",
      "__________________________________________________________________________________________________\n",
      "dropout (Dropout)               (None, None, 2048)   0           re_lu[0][0]                      \n",
      "__________________________________________________________________________________________________\n",
      "dense_2 (TimeDistributed)       (None, None, 2048)   4196352     dropout[0][0]                    \n",
      "__________________________________________________________________________________________________\n",
      "re_lu_1 (ReLU)                  (None, None, 2048)   0           dense_2[0][0]                    \n",
      "__________________________________________________________________________________________________\n",
      "dropout_1 (Dropout)             (None, None, 2048)   0           re_lu_1[0][0]                    \n",
      "__________________________________________________________________________________________________\n",
      "dense_3 (TimeDistributed)       (None, None, 2048)   4196352     dropout_1[0][0]                  \n",
      "__________________________________________________________________________________________________\n",
      "re_lu_2 (ReLU)                  (None, None, 2048)   0           dense_3[0][0]                    \n",
      "__________________________________________________________________________________________________\n",
      "dropout_2 (Dropout)             (None, None, 2048)   0           re_lu_2[0][0]                    \n",
      "__________________________________________________________________________________________________\n",
      "lstm_1 (LSTM)                   (None, None, 2048)   33562624    dropout_2[0][0]                  \n",
      "__________________________________________________________________________________________________\n",
      "dropout_3 (Dropout)             (None, None, 2048)   0           lstm_1[0][0]                     \n",
      "__________________________________________________________________________________________________\n",
      "dense_4 (TimeDistributed)       (None, None, 2048)   4196352     dropout_3[0][0]                  \n",
      "__________________________________________________________________________________________________\n",
      "re_lu_3 (ReLU)                  (None, None, 2048)   0           dense_4[0][0]                    \n",
      "__________________________________________________________________________________________________\n",
      "dropout_4 (Dropout)             (None, None, 2048)   0           re_lu_3[0][0]                    \n",
      "__________________________________________________________________________________________________\n",
      "feature_lengths (InputLayer)    [(None, 1)]          0                                            \n",
      "__________________________________________________________________________________________________\n",
      "label_lengths (InputLayer)      [(None, 1)]          0                                            \n",
      "__________________________________________________________________________________________________\n",
      "dense_5 (TimeDistributed)       (None, None, 29)     59421       dropout_4[0][0]                  \n",
      "==================================================================================================\n",
      "Total params: 47,224,861\n",
      "Trainable params: 47,224,861\n",
      "Non-trainable params: 0\n",
      "__________________________________________________________________________________________________\n"
     ]
    }
   ],
   "source": [
    "model.summary()"
   ]
  },
  {
   "cell_type": "markdown",
   "metadata": {},
   "source": [
    "# Export Part"
   ]
  },
  {
   "cell_type": "code",
   "execution_count": 9,
   "metadata": {},
   "outputs": [
    {
     "name": "stdout",
     "output_type": "stream",
     "text": [
      "load graph\n",
      "['IteratorV2', 'IteratorGetNext', 'Shape', 'strided_slice/stack', 'strided_slice/stack_1', 'strided_slice/stack_2', 'strided_slice', 'Const', 'conv1d/ExpandDims/dim', 'conv1d/ExpandDims', 'conv1d/ExpandDims_1/dim', 'conv1d/ExpandDims_1', 'conv1d', 'conv1d/Squeeze', 'Reshape/shape/1', 'Reshape/shape/2', 'Reshape/shape/3', 'Reshape/shape', 'Reshape', 'transpose/perm', 'transpose', 'Reshape_1/shape', 'Reshape_1', 'layer_1/bias', 'layer_1/bias/read', 'layer_1/weights', 'layer_1/weights/read', 'MatMul', 'BiasAdd', 'Relu', 'Minimum/y', 'Minimum', 'StringFormat', 'PrintV2', 'Identity', 'layer_2/bias', 'layer_2/bias/read', 'layer_2/weights', 'layer_2/weights/read', 'MatMul_1', 'BiasAdd_1', 'Relu_1', 'Minimum_1/y', 'Minimum_1', 'layer_3/bias', 'layer_3/bias/read', 'layer_3/weights', 'layer_3/weights/read', 'MatMul_2', 'BiasAdd_2', 'Relu_2', 'Minimum_2/y', 'Minimum_2', 'Reshape_2/shape', 'Reshape_2', 'cudnn_lstm/rnn/multi_rnn_cell/cell_0/cudnn_compatible_lstm_cell/kernel', 'cudnn_lstm/rnn/multi_rnn_cell/cell_0/cudnn_compatible_lstm_cell/kernel/read', 'cudnn_lstm/rnn/multi_rnn_cell/cell_0/cudnn_compatible_lstm_cell/bias', 'cudnn_lstm/rnn/multi_rnn_cell/cell_0/cudnn_compatible_lstm_cell/bias/read', 'cudnn_lstm/rnn/multi_rnn_cell/cell_0/cudnn_compatible_lstm_cell/Shape', 'cudnn_lstm/rnn/multi_rnn_cell/cell_0/cudnn_compatible_lstm_cell/strided_slice/stack', 'cudnn_lstm/rnn/multi_rnn_cell/cell_0/cudnn_compatible_lstm_cell/strided_slice/stack_1', 'cudnn_lstm/rnn/multi_rnn_cell/cell_0/cudnn_compatible_lstm_cell/strided_slice/stack_2', 'cudnn_lstm/rnn/multi_rnn_cell/cell_0/cudnn_compatible_lstm_cell/strided_slice', 'cudnn_lstm/rnn/multi_rnn_cell/cell_0/cudnn_compatible_lstm_cell/stack', 'cudnn_lstm/rnn/multi_rnn_cell/cell_0/cudnn_compatible_lstm_cell/zeros/Const', 'cudnn_lstm/rnn/multi_rnn_cell/cell_0/cudnn_compatible_lstm_cell/zeros', 'cudnn_lstm/rnn/multi_rnn_cell/cell_0/cudnn_compatible_lstm_cell/zeros_1/shape_as_tensor', 'cudnn_lstm/rnn/multi_rnn_cell/cell_0/cudnn_compatible_lstm_cell/zeros_1/Const', 'cudnn_lstm/rnn/multi_rnn_cell/cell_0/cudnn_compatible_lstm_cell/zeros_1', 'cudnn_lstm/rnn/multi_rnn_cell/cell_0/cudnn_compatible_lstm_cell/Const', 'cudnn_lstm/rnn/multi_rnn_cell/cell_0/cudnn_compatible_lstm_cell/Max', 'cudnn_lstm/rnn/multi_rnn_cell/cell_0/cudnn_compatible_lstm_cell/Cast', 'cudnn_lstm/rnn/multi_rnn_cell/cell_0/cudnn_compatible_lstm_cell/BlockLSTM', 'cudnn_lstm/rnn/multi_rnn_cell/cell_0/cudnn_compatible_lstm_cell/SequenceMask/Const', 'cudnn_lstm/rnn/multi_rnn_cell/cell_0/cudnn_compatible_lstm_cell/SequenceMask/Const_1', 'cudnn_lstm/rnn/multi_rnn_cell/cell_0/cudnn_compatible_lstm_cell/SequenceMask/Range', 'cudnn_lstm/rnn/multi_rnn_cell/cell_0/cudnn_compatible_lstm_cell/SequenceMask/ExpandDims/dim', 'cudnn_lstm/rnn/multi_rnn_cell/cell_0/cudnn_compatible_lstm_cell/SequenceMask/ExpandDims', 'cudnn_lstm/rnn/multi_rnn_cell/cell_0/cudnn_compatible_lstm_cell/SequenceMask/Cast', 'cudnn_lstm/rnn/multi_rnn_cell/cell_0/cudnn_compatible_lstm_cell/SequenceMask/Less', 'cudnn_lstm/rnn/multi_rnn_cell/cell_0/cudnn_compatible_lstm_cell/SequenceMask/Cast_1', 'cudnn_lstm/rnn/multi_rnn_cell/cell_0/cudnn_compatible_lstm_cell/transpose/perm', 'cudnn_lstm/rnn/multi_rnn_cell/cell_0/cudnn_compatible_lstm_cell/transpose', 'cudnn_lstm/rnn/multi_rnn_cell/cell_0/cudnn_compatible_lstm_cell/ExpandDims/dim', 'cudnn_lstm/rnn/multi_rnn_cell/cell_0/cudnn_compatible_lstm_cell/ExpandDims', 'cudnn_lstm/rnn/multi_rnn_cell/cell_0/cudnn_compatible_lstm_cell/Tile/multiples', 'cudnn_lstm/rnn/multi_rnn_cell/cell_0/cudnn_compatible_lstm_cell/Tile', 'cudnn_lstm/rnn/multi_rnn_cell/cell_0/cudnn_compatible_lstm_cell/mul', 'Reshape_3/shape', 'Reshape_3', 'layer_5/bias', 'layer_5/bias/read', 'layer_5/weights', 'layer_5/weights/read', 'MatMul_3', 'BiasAdd_3', 'Relu_3', 'Minimum_3/y', 'Minimum_3', 'layer_6/bias', 'layer_6/bias/read', 'layer_6/weights', 'layer_6/weights/read', 'MatMul_4', 'BiasAdd_4', 'raw_logits/shape', 'raw_logits']\n",
      "[]\n",
      "Found weight tensor layer_1/bias with shape (2048,)\n",
      "Found weight tensor layer_1/weights with shape (494, 2048)\n",
      "Found weight tensor layer_2/bias with shape (2048,)\n",
      "Found weight tensor layer_2/weights with shape (2048, 2048)\n",
      "Found weight tensor layer_3/bias with shape (2048,)\n",
      "Found weight tensor layer_3/weights with shape (2048, 2048)\n",
      "Found weight tensor cudnn_lstm/rnn/multi_rnn_cell/cell_0/cudnn_compatible_lstm_cell/kernel with shape (4096, 8192)\n",
      "Found weight tensor cudnn_lstm/rnn/multi_rnn_cell/cell_0/cudnn_compatible_lstm_cell/bias with shape (8192,)\n",
      "Found weight tensor layer_5/bias with shape (2048,)\n",
      "Found weight tensor layer_5/weights with shape (2048, 2048)\n",
      "Found weight tensor layer_6/bias with shape (29,)\n",
      "Found weight tensor layer_6/weights with shape (2048, 29)\n",
      "Shapes of weights prepared to be loaded into keras model\n",
      "[(494, 2048), (2048,), (2048, 2048), (2048,), (2048, 2048), (2048,), (2048, 8192), (2048, 8192), (8192,), (2048, 2048), (2048,), (2048, 29), (29,)]\n",
      "Test successful. Tflite and Keras give similar results\n"
     ]
    }
   ],
   "source": [
    "model = asr.model.load_mozilla_deepspeech('./data/mozilla_deepspeech.pb', tflite_version=True)\n",
    "\n",
    "exporter = asr.utils.export.KerasTfLiteExporter(model, skip_on_load_fail=True)\n",
    "exporter.experimental_new_converter = True\n",
    "exporter.allow_custom_ops = True\n",
    "exporter.export('./ds.tflite')\n"
   ]
  },
  {
   "cell_type": "code",
   "execution_count": 10,
   "metadata": {},
   "outputs": [
    {
     "name": "stdout",
     "output_type": "stream",
     "text": [
      "Model: \"DeepSpeech\"\n",
      "__________________________________________________________________________________________________\n",
      "Layer (type)                    Output Shape         Param #     Connected to                     \n",
      "==================================================================================================\n",
      "X (InputLayer)                  [(None, 3, 26)]      0                                            \n",
      "__________________________________________________________________________________________________\n",
      "tf_op_layer_ExpandDims_3 (Tenso [(None, 1, 3, 26)]   0           X[0][0]                          \n",
      "__________________________________________________________________________________________________\n",
      "tf_op_layer_Shape_3 (TensorFlow [(3,)]               0           X[0][0]                          \n",
      "__________________________________________________________________________________________________\n",
      "tf_op_layer_Conv2D_3 (TensorFlo [(None, 1, 3, 494)]  0           tf_op_layer_ExpandDims_3[0][0]   \n",
      "__________________________________________________________________________________________________\n",
      "tf_op_layer_strided_slice_3 (Te [()]                 0           tf_op_layer_Shape_3[0][0]        \n",
      "__________________________________________________________________________________________________\n",
      "tf_op_layer_Squeeze_3 (TensorFl [(None, 3, 494)]     0           tf_op_layer_Conv2D_3[0][0]       \n",
      "__________________________________________________________________________________________________\n",
      "tf_op_layer_Reshape_4/shape (Te [(3,)]               0           tf_op_layer_strided_slice_3[0][0]\n",
      "__________________________________________________________________________________________________\n",
      "tf_op_layer_Reshape_4 (TensorFl [(None, None, 494)]  0           tf_op_layer_Squeeze_3[0][0]      \n",
      "                                                                 tf_op_layer_Reshape_4/shape[0][0]\n",
      "__________________________________________________________________________________________________\n",
      "reshape_3 (Reshape)             (None, 3, 494)       0           tf_op_layer_Reshape_4[0][0]      \n",
      "__________________________________________________________________________________________________\n",
      "dense_1 (TimeDistributed)       (None, 3, 2048)      1013760     reshape_3[0][0]                  \n",
      "__________________________________________________________________________________________________\n",
      "re_lu_12 (ReLU)                 (None, 3, 2048)      0           dense_1[0][0]                    \n",
      "__________________________________________________________________________________________________\n",
      "dropout_15 (Dropout)            (None, 3, 2048)      0           re_lu_12[0][0]                   \n",
      "__________________________________________________________________________________________________\n",
      "dense_2 (TimeDistributed)       (None, 3, 2048)      4196352     dropout_15[0][0]                 \n",
      "__________________________________________________________________________________________________\n",
      "re_lu_13 (ReLU)                 (None, 3, 2048)      0           dense_2[0][0]                    \n",
      "__________________________________________________________________________________________________\n",
      "dropout_16 (Dropout)            (None, 3, 2048)      0           re_lu_13[0][0]                   \n",
      "__________________________________________________________________________________________________\n",
      "dense_3 (TimeDistributed)       (None, 3, 2048)      4196352     dropout_16[0][0]                 \n",
      "__________________________________________________________________________________________________\n",
      "re_lu_14 (ReLU)                 (None, 3, 2048)      0           dense_3[0][0]                    \n",
      "__________________________________________________________________________________________________\n",
      "dropout_17 (Dropout)            (None, 3, 2048)      0           re_lu_14[0][0]                   \n",
      "__________________________________________________________________________________________________\n",
      "lstm_1 (LSTM)                   (None, 3, 2048)      33562624    dropout_17[0][0]                 \n",
      "__________________________________________________________________________________________________\n",
      "dropout_18 (Dropout)            (None, 3, 2048)      0           lstm_1[0][0]                     \n",
      "__________________________________________________________________________________________________\n",
      "dense_4 (TimeDistributed)       (None, 3, 2048)      4196352     dropout_18[0][0]                 \n",
      "__________________________________________________________________________________________________\n",
      "re_lu_15 (ReLU)                 (None, 3, 2048)      0           dense_4[0][0]                    \n",
      "__________________________________________________________________________________________________\n",
      "dropout_19 (Dropout)            (None, 3, 2048)      0           re_lu_15[0][0]                   \n",
      "__________________________________________________________________________________________________\n",
      "dense_5 (TimeDistributed)       (None, 3, 29)        59421       dropout_19[0][0]                 \n",
      "==================================================================================================\n",
      "Total params: 47,224,861\n",
      "Trainable params: 47,224,861\n",
      "Non-trainable params: 0\n",
      "__________________________________________________________________________________________________\n"
     ]
    }
   ],
   "source": [
    "model.summary()"
   ]
  },
  {
   "cell_type": "code",
   "execution_count": 12,
   "metadata": {},
   "outputs": [],
   "source": []
  },
  {
   "cell_type": "code",
   "execution_count": 17,
   "metadata": {},
   "outputs": [],
   "source": []
  },
  {
   "cell_type": "code",
   "execution_count": 15,
   "metadata": {},
   "outputs": [],
   "source": [
    "model.save('ds.h5', save_format='h5')"
   ]
  },
  {
   "cell_type": "code",
   "execution_count": 16,
   "metadata": {},
   "outputs": [
    {
     "name": "stdout",
     "output_type": "stream",
     "text": [
      "DeepSpeechExperiments.ipynb  deepspeech_speedup.ipynb     ds.tflite                    \u001b[34mmodels\u001b[m\u001b[m/\r\n",
      "\u001b[34mdata\u001b[m\u001b[m/                        ds.h5                        model.png                    \u001b[34mtflite_models\u001b[m\u001b[m/\r\n"
     ]
    }
   ],
   "source": []
  },
  {
   "cell_type": "code",
   "execution_count": null,
   "metadata": {},
   "outputs": [],
   "source": []
  }
 ],
 "metadata": {
  "kernelspec": {
   "display_name": "tf2",
   "language": "python",
   "name": "tf2"
  },
  "language_info": {
   "codemirror_mode": {
    "name": "ipython",
    "version": 3
   },
   "file_extension": ".py",
   "mimetype": "text/x-python",
   "name": "python",
   "nbconvert_exporter": "python",
   "pygments_lexer": "ipython3",
   "version": "3.7.7"
  },
  "toc": {
   "base_numbering": 1,
   "nav_menu": {},
   "number_sections": true,
   "sideBar": true,
   "skip_h1_title": false,
   "title_cell": "Table of Contents",
   "title_sidebar": "Contents",
   "toc_cell": false,
   "toc_position": {},
   "toc_section_display": true,
   "toc_window_display": false
  }
 },
 "nbformat": 4,
 "nbformat_minor": 4
}
