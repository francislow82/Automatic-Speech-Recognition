{
 "cells": [
  {
   "cell_type": "code",
   "execution_count": 1,
   "metadata": {},
   "outputs": [],
   "source": [
    "import tensorflow as tf\n",
    "# tf.debugging.set_log_device_placement(True)\n",
    "import tensorflow_addons as tfa\n",
    "import sys\n",
    "import os\n",
    "if os.path.abspath('../') not in sys.path:\n",
    "    sys.path.append(os.path.abspath('../'))\n",
    "if os.path.abspath('../../tt_keras') not in sys.path:\n",
    "    sys.path.append(os.path.abspath('../../tt_keras'))\n",
    "if os.path.abspath('../../tf2-gradient-checkpointing') not in sys.path:\n",
    "    sys.path.append(os.path.abspath('../../tf2-gradient-checkpointing'))\n",
    "\n",
    "if os.path.abspath('../../t3f') not in sys.path:\n",
    "    sys.path.append(os.path.abspath('../../t3f'))\n",
    "\n",
    "import automatic_speech_recognition as asr\n",
    "from automatic_speech_recognition.utils import wrap_call_methods, select_layers\n",
    "import time\n",
    "from datetime import datetime\n",
    "import argparse\n",
    "import pickle\n",
    "from checkpointing import checkpointable\n",
    "from functools import partial\n",
    "from transform_model import transform"
   ]
  },
  {
   "cell_type": "code",
   "execution_count": 2,
   "metadata": {},
   "outputs": [],
   "source": [
    "import numpy as np\n",
    "import pandas as pd\n",
    "import matplotlib.pyplot as plt\n",
    "import matplotlib.image as mpimg\n",
    "from tqdm.notebook import tqdm\n",
    "from h5_to_tflite import TF_CUSTOM_OBJECTS"
   ]
  },
  {
   "cell_type": "code",
   "execution_count": 3,
   "metadata": {},
   "outputs": [],
   "source": [
    "from tensorflow import keras\n",
    "from tensorflow.keras.callbacks import LearningRateScheduler\n",
    "from tensorflow.keras.mixed_precision import experimental as mixed_precision"
   ]
  },
  {
   "cell_type": "code",
   "execution_count": 4,
   "metadata": {},
   "outputs": [],
   "source": [
    "import horovod.tensorflow.keras as hvd"
   ]
  },
  {
   "cell_type": "code",
   "execution_count": 5,
   "metadata": {},
   "outputs": [],
   "source": [
    "#%load_ext tensorboard\n",
    "#%tensorboard --logdir=./models/ --port=32779"
   ]
  },
  {
   "cell_type": "code",
   "execution_count": 6,
   "metadata": {},
   "outputs": [],
   "source": [
    "# %pdb on"
   ]
  },
  {
   "cell_type": "markdown",
   "metadata": {},
   "source": [
    "# Create Model"
   ]
  },
  {
   "cell_type": "code",
   "execution_count": null,
   "metadata": {},
   "outputs": [
    {
     "name": "stdout",
     "output_type": "stream",
     "text": [
      "load graph\n",
      "WARNING:tensorflow:From /gpfs/data/home/g.leleitner/lab/Horovod/Automatic-Speech-Recognition/automatic_speech_recognition/utils/utils.py:126: FastGFile.__init__ (from tensorflow.python.platform.gfile) is deprecated and will be removed in a future version.\n",
      "Instructions for updating:\n",
      "Use tf.gfile.GFile.\n"
     ]
    }
   ],
   "source": [
    "deepspeech = asr.model.load_mozilla_deepspeech('./data/myfrozen.pb', verbose=False)\n",
    "deepspeech.save('./models/mozilla_deepspeech.pb')"
   ]
  },
  {
   "cell_type": "code",
   "execution_count": null,
   "metadata": {},
   "outputs": [],
   "source": [
    "# tt_ranks = np.arange(2, 32, 1)\n",
    "# # shape = ((16, 2, 2, 2, 16), (16, 2, 2, 2, 16))\n",
    "# shape = ((4, 4, 8, 4, 4), (4, 4, 8, 4, 4))"
   ]
  },
  {
   "cell_type": "code",
   "execution_count": null,
   "metadata": {},
   "outputs": [],
   "source": [
    "# model = asr.model.get_deepspeech(26, 29)"
   ]
  },
  {
   "cell_type": "code",
   "execution_count": null,
   "metadata": {},
   "outputs": [],
   "source": [
    "# tt_rank = 12"
   ]
  },
  {
   "cell_type": "code",
   "execution_count": null,
   "metadata": {},
   "outputs": [],
   "source": [
    "# replacement_config = {\n",
    "#     'dense_3': {\n",
    "#         'config': {\n",
    "#             'name': 'tt_dense_3',\n",
    "#             'input_dims': shape[0],\n",
    "#             'output_dims': shape[1],\n",
    "#             'tt_rank': tt_rank,\n",
    "#         },\n",
    "# #         'init': {\n",
    "# #             'max_tt_rank': tt_rank,\n",
    "# #             'epsilon': 0.0\n",
    "# #         }\n",
    "#     },\n",
    "    \n",
    "#     'dense_2': {\n",
    "#         'config': {\n",
    "#             'name': 'tt_dense_2',\n",
    "#             'input_dims': shape[0],\n",
    "#             'output_dims': shape[1],\n",
    "#             'tt_rank': tt_rank,\n",
    "#         },\n",
    "# #         'init': {\n",
    "# #             'max_tt_rank': tt_rank,\n",
    "# #             'epsilon': 0.0\n",
    "# #         }\n",
    "#     },\n",
    "    \n",
    "    \n",
    "#     'dense_4': {\n",
    "#         'config': {\n",
    "#             'name': 'tt_dense_4',\n",
    "#             'input_dims': shape[0],\n",
    "#             'output_dims': shape[1],\n",
    "#             'tt_rank': tt_rank,\n",
    "#         },\n",
    "# #         'init': {\n",
    "# #             'max_tt_rank': tt_rank,\n",
    "# #             'epsilon': 0.0\n",
    "# #         }\n",
    "#     },\n",
    "# #     'lstm_1': {\n",
    "# #             'cell_type': 'FusedTTLSTMCell',\n",
    "# #             'config': {\n",
    "# #                 'name': 'tt_fusedlstm_0',\n",
    "# #                 'input_dims': shape[0],\n",
    "# #                 'output_dims': shape[1],\n",
    "# #                 'tt_rank': tt_rank,\n",
    "# #                 'recurrent_tt_rank': tt_rank,\n",
    "# #             },\n",
    "# # #             'init': {\n",
    "# # #                 'kernel': {\n",
    "# # #                     'max_tt_rank': 12,\n",
    "# # #                     'epsilon': 0.0\n",
    "# # #                 },\n",
    "# # #                 'recurrent': {\n",
    "# # #                     'max_tt_rank': 12,\n",
    "# # #                     'epsilon': 0.0\n",
    "# # #                 }\n",
    "# # #             }\n",
    "# #         }\n",
    "# }\n",
    "# transformed_model = transform(model, replacement_config)"
   ]
  },
  {
   "cell_type": "code",
   "execution_count": null,
   "metadata": {},
   "outputs": [],
   "source": [
    "# model.summary()"
   ]
  },
  {
   "cell_type": "markdown",
   "metadata": {},
   "source": [
    "## Train"
   ]
  },
  {
   "cell_type": "code",
   "execution_count": null,
   "metadata": {},
   "outputs": [],
   "source": [
    "#os.environ[\"CUDA_VISIBLE_DEVICES\"] = \"-1\""
   ]
  },
  {
   "cell_type": "code",
   "execution_count": null,
   "metadata": {},
   "outputs": [],
   "source": [
    "# Initialize Horovod\n",
    "hvd.init()\n",
    "# Pin GPU to be used to process local rank (one GPU per process)\n",
    "gpus = tf.config.experimental.list_physical_devices('GPU')\n",
    "for gpu in gpus:\n",
    "    tf.config.experimental.set_memory_growth(gpu, True)\n",
    "if gpus:\n",
    "    tf.config.experimental.set_visible_devices(gpus[hvd.local_rank()], 'GPU')"
   ]
  },
  {
   "cell_type": "code",
   "execution_count": null,
   "metadata": {},
   "outputs": [],
   "source": [
    "# from tensorflow.keras.mixed_precision import experimental as mixed_precision\n",
    "# policy = mixed_precision.Policy('mixed_float16')\n",
    "# mixed_precision.set_policy(policy)"
   ]
  },
  {
   "cell_type": "code",
   "execution_count": null,
   "metadata": {},
   "outputs": [],
   "source": [
    "def get_pipeline(model, optimizer=None):\n",
    "    alphabet = asr.text.Alphabet(lang='en')\n",
    "    features_extractor = asr.features.MFCC(\n",
    "        features_num=26,\n",
    "        winlen=0.032,\n",
    "        winstep=0.02,\n",
    "    )\n",
    "    if not optimizer:\n",
    "        optimizer = tf.optimizers.Adam(lr=1e-3, beta_1=0.9, beta_2=0.999)\n",
    "    decoder = asr.decoder.GreedyDecoder()\n",
    "    pipeline = asr.pipeline.CTCPipeline(\n",
    "        alphabet, features_extractor, model, optimizer, decoder\n",
    "    )\n",
    "    return pipeline"
   ]
  },
  {
   "cell_type": "code",
   "execution_count": null,
   "metadata": {},
   "outputs": [],
   "source": [
    "def tf_func_wrapper(layer):\n",
    "    return tf.function(layer.call, experimental_relax_shapes=True)\n",
    "\n",
    "def checkpointing_wrapper(layer):\n",
    "    call_method = checkpointable(layer.call)\n",
    "    call_method = partial(call_method, \n",
    "                         _checkpoint=True, \n",
    "                         _watch_vars=layer.trainable_variables)\n",
    "\n",
    "    return call_method"
   ]
  },
  {
   "cell_type": "code",
   "execution_count": null,
   "metadata": {},
   "outputs": [],
   "source": [
    "def train_model(filename, \n",
    "                dataset_idx, \n",
    "                val_dataset_idx=None, \n",
    "                batch_size=10, \n",
    "                epochs=25, \n",
    "                tensorboard=False, \n",
    "                restart_filename=None,\n",
    "                freeze_rnn_layers=False,\n",
    "                freeze_time_distr_layers=False):\n",
    "    basename = os.path.basename(filename).split('.')[0]\n",
    "    model_dir = os.path.join(os.path.dirname(filename), basename + '_train')\n",
    "    os.makedirs(model_dir, exist_ok=True)\n",
    "    \n",
    "    model = keras.models.load_model(filename, custom_objects=TF_CUSTOM_OBJECTS)\n",
    "    \n",
    "    # Wrap layers in tf func and checkpoints.\n",
    "    # If we use autograph on function which is checkpointed then checkpoints will not work \n",
    "    model = wrap_call_methods(model, tf_func_wrapper, \n",
    "                              wrap_rnn_cells=True, \n",
    "                              wrap_time_distributed_inner=True)\n",
    "    model = wrap_call_methods(model, checkpointing_wrapper, \n",
    "                              wrap_rnn_cells=True, \n",
    "                              trainable_only=True,\n",
    "                              wrap_time_distributed_inner=True)\n",
    "    if freeze_rnn_layers:\n",
    "        rnn_layers = select_layers(model, other_predicate=lambda x: isinstance(x, keras.layers.RNN))\n",
    "        for layer in rnn_layers:\n",
    "            layer.trainable = False\n",
    "    if freeze_time_distr_layers:\n",
    "        time_distr_layers = select_layers(model, other_predicate=lambda x: isinstance(x, keras.layers.TimeDistributed))\n",
    "        for layer in time_distr_layers:\n",
    "            layer.trainable = False\n",
    "    \n",
    "    if restart_filename:\n",
    "        model.load_weights(restart_filename)\n",
    "    dataset = asr.dataset.Audio.from_csv(dataset_idx, batch_size=batch_size, use_filesizes=True)\n",
    "    dataset.sort_by_length()\n",
    "    dataset.shuffle_indices()\n",
    "    if val_dataset_idx:\n",
    "        val_dataset = asr.dataset.Audio.from_csv(val_dataset_idx, batch_size=batch_size, use_filesizes=True)\n",
    "\n",
    "#     opt_instance = tf.optimizers.Adam(1e-3 * hvd.size(), beta_1=0.9, beta_2=0.999)\n",
    "    opt_instance = tfa.optimizers.NovoGrad(1e10, beta_1=0.95, beta_2=0.5, weight_decay=0.001)\n",
    "    opt = hvd.DistributedOptimizer(opt_instance)\n",
    "#     opt.apply_gradients = avg_grads(opt.apply_gradients, averager)\n",
    "    \n",
    "    pipeline = get_pipeline(model, opt)\n",
    "    \n",
    "    callbacks = [\n",
    "        hvd.callbacks.BroadcastGlobalVariablesCallback(0),\n",
    "        hvd.callbacks.MetricAverageCallback(),\n",
    "    ]\n",
    "    schedule=tf.keras.experimental.CosineDecayRestarts(\n",
    "        0.0 * hvd.size(), 10, t_mul=2.0, m_mul=1.0, alpha=0.0,\n",
    "    )\n",
    "    callbacks.append(LearningRateScheduler(schedule))\n",
    "    if hvd.rank() == 0:\n",
    "        prefix = datetime.now().strftime(\"%Y%m%d-%H%M%S\")\n",
    "        monitor_metric_name = 'loss' # if not val_dataset_idx else 'val_loss'  # val_loss is wrong and broken\n",
    "        callbacks.append(\n",
    "            keras.callbacks.ModelCheckpoint(\n",
    "                os.path.join(model_dir, prefix + '_best.ckpt'),\n",
    "                monitor=monitor_metric_name, save_weights_only=True,\n",
    "                save_best_only=True))\n",
    "        if tensorboard:\n",
    "            logdir = os.path.join(model_dir, 'tb', prefix)\n",
    "            tensorboard_callback = keras.callbacks.TensorBoard(log_dir=logdir, profile_batch=1)\n",
    "            callbacks.append(tensorboard_callback)\n",
    "\n",
    "    time_start = time.time()\n",
    "\n",
    "    hist = pipeline.fit(dataset, epochs=epochs, dev_dataset=val_dataset,\n",
    "                        callbacks=callbacks,\n",
    "                        verbose=1 if hvd.rank() == 0 else 0,\n",
    "                        validation_steps=10)\n",
    "    elapsed = time.time() - time_start\n",
    "    \n",
    "    if hvd.rank() == 0:\n",
    "        print(f'Elapsed time: {elapsed}')\n",
    "        #np.save(os.path.join(model_dir, prefix + '_hist.p'), np.array(hist))"
   ]
  },
  {
   "cell_type": "code",
   "execution_count": null,
   "metadata": {},
   "outputs": [],
   "source": [
    "train_model(\n",
    "    filename='./models/mozilla_deepspeech.pb',\n",
    "    dataset_idx='./data/dev-clean-index.csv',\n",
    "    val_dataset_idx='./data/test-clean-index.csv',\n",
    "    batch_size=10,\n",
    "    epochs=250,\n",
    "    tensorboard=False,\n",
    "#     restart_filename='./experiments/initall_unfreezeall_denseoutput_r12/checkpoints/final_layer_best.ckpt'\n",
    ")"
   ]
  },
  {
   "cell_type": "markdown",
   "metadata": {},
   "source": [
    "# Cluster Training Scripts"
   ]
  },
  {
   "cell_type": "code",
   "execution_count": 29,
   "metadata": {},
   "outputs": [],
   "source": [
    "filename='./models/ds.h5'\n",
    "dataset_idx='./data/train-clean-100-index.csv'\n",
    "val_dataset_idx='./data/dev-clean-index.csv'\n",
    "epochs=25\n",
    "tensorboard=True\n",
    "restart_filename=None"
   ]
  },
  {
   "cell_type": "code",
   "execution_count": 45,
   "metadata": {},
   "outputs": [],
   "source": [
    "from pathlib import Path\n",
    "import shutil\n",
    "import os\n",
    "\n",
    "def create_horovod_starters(template,\n",
    "                            model_paths, dest_folder='./models',\n",
    "                            train_ds='../../train-clean-100-index.csv',\n",
    "                            val_ds='../../test-clean-index.csv',\n",
    "                            batch_size=10*4,\n",
    "                            epochs=40,\n",
    "                            script_name='slurm_horovod.sh',):\n",
    "    \"\"\"\n",
    "    Creates .sh files for sbatch to intitate training. Returns paths to all created scripts.\n",
    "    \"\"\"\n",
    "    dest_folder = Path(dest_folder)\n",
    "    dest_folder.mkdir(exist_ok=True)\n",
    "    \n",
    "    created_scripts = []\n",
    "    for path in model_paths:\n",
    "        path = Path(path)\n",
    "        model_folder = dest_folder/(path.name.split('.')[0])\n",
    "        model_folder.mkdir(exist_ok=True)\n",
    "        \n",
    "        shutil.copyfile(path, model_folder/path.name)\n",
    "        filled_template = template.format(path.name, train_ds, val_ds, batch_size, epochs)\n",
    "        (model_folder/script_name).write_text(filled_template)\n",
    "        created_scripts.append(model_folder/script_name)\n",
    "    return created_scripts\n",
    "    \n",
    "        \n",
    "def run_sbatch_scripts(script_paths, environ_vars=None):\n",
    "    \"\"\"\n",
    "    Runs sbatch {script_name}.sh for every script in script_paths. Before running changes working directory to script dir.\n",
    "    \"\"\"\n",
    "    # We will set variables using \"A=B C=D sbatch script.sh\" syntax\n",
    "    var_init_str = ' '.join([f'{name}={value}' for name, value in environ_vars.items()])\n",
    "    var_init_str += ' '\n",
    "    \n",
    "    for path in script_paths:\n",
    "        command_string = f\"cd {path.parent}; {var_init_str} sbatch {path.name}\"\n",
    "        print(os.popen(command_string).read())"
   ]
  },
  {
   "cell_type": "code",
   "execution_count": 46,
   "metadata": {},
   "outputs": [],
   "source": [
    "train_all_template = \"\"\"#!/bin/bash\n",
    "#SBATCH -N 1 \n",
    "#SBATCH -n 4\n",
    "#SBATCH -o ./out_DEV_biglr.txt\n",
    "#SBATCH -e ./error_DEV_biglr.txt\n",
    "#SBATCH --gres gpu:4\n",
    "#SBATCH --time=23:00:00    \n",
    "#SBATCH --partition=gpu_small\n",
    "\n",
    "module unload python/python-3.6.8\n",
    "module load gpu/cuda-10.1\n",
    "module load mpi/openmpi-3.1.2\n",
    "source /trinity/home/g.leleitner/lab/Horovod/asr_3.7/bin/activate\n",
    "\n",
    "horovodrun -np 4 -H localhost:4 python ../../horovod_training_biglr.py --filename {} --dataset {} --val_dataset {} --batch_size {} --epochs {}\n",
    "\"\"\""
   ]
  },
  {
   "cell_type": "code",
   "execution_count": 20,
   "metadata": {},
   "outputs": [
    {
     "name": "stdout",
     "output_type": "stream",
     "text": [
      "Submitted batch job 310395\n",
      "\n"
     ]
    }
   ],
   "source": [
    "paths = create_horovod_starters(train_all_template,\n",
    "[\n",
    "#     './models/tt_initall_bn_r12.h5',\n",
    "#     './models/tt_initall_r12.h5',\n",
    "    \n",
    "#     './models/tt_dense234_initall_bn_r12.h5',\n",
    "#     './models/tt_dense234_initall_r12.h5',\n",
    "    './models/tt_dense3_initall_r12.h5',\n",
    "#     './models/tt_dense3_initall_bn_r12.h5',\n",
    "#     './models/tt_dense234_savedall_r12.h5',\n",
    "#     './models/tt_dense3_savedall_r12.h5',\n",
    "    \n",
    "#     '/gpfs/gpfs0/r.schutski/models/tt_ds_uniform_initall_r2.h5',\n",
    "#     '/gpfs/gpfs0/r.schutski/models/tt_ds_uniform_initall_r5.h5',\n",
    "#     '/gpfs/gpfs0/r.schutski/models/tt_ds_uniform_initall_r9.h5',\n",
    "#     '/gpfs/gpfs0/r.schutski/models/tt_ds_uniform_initall_r15.h5',\n",
    "#     '/gpfs/gpfs0/r.schutski/models/tt_ds_uniform_initall_r20.h5',\n",
    "#     '/gpfs/gpfs0/r.schutski/models/tt_ds_uniform_initall_r25.h5',\n",
    "    \n",
    "#     '/gpfs/gpfs0/r.schutski/models/tt_ds_uniform_initdense_r2.h5',\n",
    "#     '/gpfs/gpfs0/r.schutski/models/tt_ds_uniform_initdense_r5.h5',\n",
    "#     '/gpfs/gpfs0/r.schutski/models/tt_ds_uniform_initdense_r9.h5',\n",
    "#     '/gpfs/gpfs0/r.schutski/models/tt_ds_uniform_initdense_r15.h5',\n",
    "# #     '/gpfs/gpfs0/r.schutski/models/tt_ds_uniform_initdense_r20.h5',\n",
    "#     '/gpfs/gpfs0/r.schutski/models/tt_ds_uniform_initdense_r25.h5',\n",
    "], train_ds='../../dev-clean-index.csv', val_ds='../../test-clean-index.csv', batch_size=28-4)\n",
    "# We will add all required libraries by setting PYTHONPATH variable insted of editing it inside of the script\n",
    "run_sbatch_scripts(paths, {\n",
    "    'PYTHONPATH': os.environ['PYTHONPATH']+':/trinity/home/g.leleitner/lab/Horovod/Automatic-Speech-Recognition:\\\n",
    "/trinity/home/g.leleitner/lab/Horovod/tt_keras:/trinity/home/g.leleitner/lab/Horovod/t3f:\\\n",
    "/trinity/home/g.leleitner/lab/Horovod/tf2-gradient-checkpointing'\n",
    "})"
   ]
  },
  {
   "cell_type": "code",
   "execution_count": 10,
   "metadata": {},
   "outputs": [],
   "source": [
    "freeze_rnn_template = \"\"\"#!/bin/bash\n",
    "#SBATCH -N 1 \n",
    "#SBATCH -n 4\n",
    "#SBATCH -o ./out.txt\n",
    "#SBATCH -e ./error.txt\n",
    "#SBATCH --gres gpu:4\n",
    "#SBATCH --time=20:00:00    \n",
    "#SBATCH --partition=gpu_small\n",
    "\n",
    "module unload python/python-3.6.8\n",
    "module load gpu/cuda-10.1\n",
    "module load mpi/openmpi-3.1.2\n",
    "source /trinity/home/g.leleitner/lab/Horovod/asr_3.7/bin/activate\n",
    "\n",
    "horovodrun -np 4 -H localhost:4 python ../../../horovod_training.py --filename {} --dataset {} --val_dataset {} --batch_size {} --epochs {} --freeze_rnn\n",
    "\"\"\""
   ]
  },
  {
   "cell_type": "code",
   "execution_count": 11,
   "metadata": {},
   "outputs": [
    {
     "name": "stdout",
     "output_type": "stream",
     "text": [
      "Submitted batch job 306168\n",
      "\n",
      "Submitted batch job 306169\n",
      "\n",
      "Submitted batch job 306170\n",
      "\n"
     ]
    }
   ],
   "source": [
    "paths = create_horovod_starters(freeze_rnn_template, dest_folder='./models/freeze_rnn_experiments',\n",
    "model_paths=[\n",
    "#     '/gpfs/gpfs0/r.schutski/models/tt_ds_uniform_initall_r2.h5',\n",
    "#     '/gpfs/gpfs0/r.schutski/models/tt_ds_uniform_initall_r5.h5',\n",
    "#     '/gpfs/gpfs0/r.schutski/models/tt_ds_uniform_initall_r9.h5',\n",
    "#     '/gpfs/gpfs0/r.schutski/models/tt_ds_uniform_initall_r15.h5',\n",
    "#     '/gpfs/gpfs0/r.schutski/models/tt_ds_uniform_initall_r20.h5',\n",
    "#     '/gpfs/gpfs0/r.schutski/models/tt_ds_uniform_initall_r25.h5',\n",
    "    \n",
    "#     '/gpfs/gpfs0/r.schutski/models/tt_ds_uniform_initdense_r2.h5',\n",
    "    '/gpfs/gpfs0/r.schutski/models/tt_ds_uniform_initdense_r5.h5',\n",
    "#     '/gpfs/gpfs0/r.schutski/models/tt_ds_uniform_initdense_r9.h5',\n",
    "    '/gpfs/gpfs0/r.schutski/models/tt_ds_uniform_initdense_r15.h5',\n",
    "#     '/gpfs/gpfs0/r.schutski/models/tt_ds_uniform_initdense_r20.h5',\n",
    "    '/gpfs/gpfs0/r.schutski/models/tt_ds_uniform_initdense_r25.h5',\n",
    "])\n",
    "# We will add all required libraries by setting PYTHONPATH variable insted of editing it inside of the script\n",
    "run_sbatch_scripts(paths, {\n",
    "    'PYTHONPATH': os.environ['PYTHONPATH']+':/trinity/home/g.leleitner/lab/Horovod/Automatic-Speech-Recognition:\\\n",
    "/trinity/home/g.leleitner/lab/Horovod/tt_keras:/trinity/home/g.leleitner/lab/Horovod/t3f:\\\n",
    "/trinity/home/g.leleitner/lab/Horovod/tf2-gradient-checkpointing'\n",
    "})"
   ]
  },
  {
   "cell_type": "code",
   "execution_count": null,
   "metadata": {},
   "outputs": [],
   "source": []
  }
 ],
 "metadata": {
  "kernelspec": {
   "display_name": "asr_3.7",
   "language": "python",
   "name": "asr_3.7"
  },
  "language_info": {
   "codemirror_mode": {
    "name": "ipython",
    "version": 3
   },
   "file_extension": ".py",
   "mimetype": "text/x-python",
   "name": "python",
   "nbconvert_exporter": "python",
   "pygments_lexer": "ipython3",
   "version": "3.7.1"
  },
  "toc": {
   "base_numbering": 1,
   "nav_menu": {},
   "number_sections": true,
   "sideBar": true,
   "skip_h1_title": false,
   "title_cell": "Table of Contents",
   "title_sidebar": "Contents",
   "toc_cell": false,
   "toc_position": {},
   "toc_section_display": true,
   "toc_window_display": false
  }
 },
 "nbformat": 4,
 "nbformat_minor": 4
}
