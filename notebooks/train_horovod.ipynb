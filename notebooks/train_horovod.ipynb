{
 "cells": [
  {
   "cell_type": "code",
   "execution_count": 1,
   "metadata": {},
   "outputs": [],
   "source": [
    "import tensorflow as tf\n",
    "import tensorflow_addons as tfa\n",
    "import sys\n",
    "import os\n",
    "if os.path.abspath('../') not in sys.path:\n",
    "    sys.path.append(os.path.abspath('../'))\n",
    "if os.path.abspath('../../tt_keras') not in sys.path:\n",
    "    sys.path.append(os.path.abspath('../../tt_keras'))\n",
    "\n",
    "if os.path.abspath('../../t3f') not in sys.path:\n",
    "    sys.path.append(os.path.abspath('../../t3f'))\n",
    "\n",
    "import automatic_speech_recognition as asr\n",
    "import time\n",
    "from datetime import datetime\n",
    "import argparse\n",
    "import pickle"
   ]
  },
  {
   "cell_type": "code",
   "execution_count": 2,
   "metadata": {},
   "outputs": [],
   "source": [
    "import numpy as np\n",
    "import pandas as pd\n",
    "import matplotlib.pyplot as plt\n",
    "import matplotlib.image as mpimg\n",
    "from tqdm.notebook import tqdm\n",
    "from h5_to_tflite import TF_CUSTOM_OBJECTS"
   ]
  },
  {
   "cell_type": "code",
   "execution_count": 3,
   "metadata": {},
   "outputs": [],
   "source": [
    "from tensorflow import keras\n",
    "from tensorflow.keras.callbacks import LearningRateScheduler\n",
    "from tensorflow.keras.mixed_precision import experimental as mixed_precision"
   ]
  },
  {
   "cell_type": "code",
   "execution_count": 4,
   "metadata": {},
   "outputs": [],
   "source": [
    "import horovod.tensorflow.keras as hvd"
   ]
  },
  {
   "cell_type": "code",
   "execution_count": 5,
   "metadata": {},
   "outputs": [],
   "source": [
    "#%load_ext tensorboard\n",
    "#%tensorboard --logdir=./models/ --port=32779"
   ]
  },
  {
   "cell_type": "code",
   "execution_count": 6,
   "metadata": {},
   "outputs": [
    {
     "name": "stdout",
     "output_type": "stream",
     "text": [
      "Automatic pdb calling has been turned ON\n"
     ]
    }
   ],
   "source": [
    "%pdb on"
   ]
  },
  {
   "cell_type": "markdown",
   "metadata": {},
   "source": [
    "## Train"
   ]
  },
  {
   "cell_type": "code",
   "execution_count": 7,
   "metadata": {},
   "outputs": [],
   "source": [
    "#os.environ[\"CUDA_VISIBLE_DEVICES\"] = \"-1\""
   ]
  },
  {
   "cell_type": "code",
   "execution_count": 8,
   "metadata": {},
   "outputs": [],
   "source": [
    "# Initialize Horovod\n",
    "hvd.init()\n",
    "# Pin GPU to be used to process local rank (one GPU per process)\n",
    "gpus = tf.config.experimental.list_physical_devices('GPU')\n",
    "for gpu in gpus:\n",
    "    tf.config.experimental.set_memory_growth(gpu, True)\n",
    "if gpus:\n",
    "    tf.config.experimental.set_visible_devices(gpus[hvd.local_rank()], 'GPU')"
   ]
  },
  {
   "cell_type": "code",
   "execution_count": 9,
   "metadata": {},
   "outputs": [],
   "source": [
    "def get_pipeline(model, optimizer=None):\n",
    "    alphabet = asr.text.Alphabet(lang='en')\n",
    "    features_extractor = asr.features.MFCC(\n",
    "        features_num=26,\n",
    "        is_standardization=False,\n",
    "        winlen=0.032,\n",
    "        winstep=0.02,\n",
    "    )\n",
    "    if not optimizer:\n",
    "        optimizer = tf.optimizers.Adam(lr=1e-3, beta_1=0.9, beta_2=0.999)\n",
    "    decoder = asr.decoder.GreedyDecoder()\n",
    "    pipeline = asr.pipeline.CTCPipeline(\n",
    "        alphabet, features_extractor, model, optimizer, decoder\n",
    "    )\n",
    "    return pipeline"
   ]
  },
  {
   "cell_type": "code",
   "execution_count": 10,
   "metadata": {},
   "outputs": [],
   "source": [
    "def train_model(filename, dataset_idx, val_dataset_idx=None, epochs=25, tensorboard=False, restart_filename=None, use_mixed_precision=True):\n",
    "    basename = os.path.basename(filename).split('.')[0]\n",
    "    model_dir = os.path.join(os.path.dirname(filename), basename + '_train')\n",
    "    os.makedirs(model_dir, exist_ok=True)\n",
    "    \n",
    "    model = keras.models.load_model(filename, custom_objects=TF_CUSTOM_OBJECTS)\n",
    "    \n",
    "    if restart_filename:\n",
    "        model.load_weights(restart_filename)\n",
    "    dataset = asr.dataset.Audio.from_csv(dataset_idx, batch_size=1, use_filesizes=True)\n",
    "    if val_dataset_idx:\n",
    "        val_dataset = asr.dataset.Audio.from_csv(val_dataset_idx, batch_size=1, use_filesizes=True)\n",
    "\n",
    "    #opt_instance = tf.optimizers.Adam(0.0001 * hvd.size(), beta_1=0.9, beta_2=0.999)\n",
    "    opt_instance = tfa.optimizers.NovoGrad(0.000, beta_1=0.95, beta_2=0.5, weight_decay=0.001)\n",
    "\n",
    "    opt = hvd.DistributedOptimizer(opt_instance)\n",
    "    pipeline = get_pipeline(model, opt)\n",
    "    pipeline.compile_model(experimental_run_tf_function=False) # fix for the tf2.0 bug with horovod\n",
    "    \n",
    "    callbacks = [\n",
    "        hvd.callbacks.BroadcastGlobalVariablesCallback(0),\n",
    "        hvd.callbacks.MetricAverageCallback(),\n",
    "    ]\n",
    "    schedule=tf.keras.experimental.CosineDecayRestarts(\n",
    "        0.000 * hvd.size(), 10, t_mul=2.0, m_mul=1.0, alpha=0.0,\n",
    "    )\n",
    "    callbacks.append(LearningRateScheduler(schedule))\n",
    "    if hvd.rank() == 0:\n",
    "        prefix = datetime.now().strftime(\"%Y%m%d-%H%M%S\")\n",
    "        monitor_metric_name = 'loss' # if not val_dataset_idx else 'val_loss'  # val_loss is wrong and broken\n",
    "        callbacks.append(\n",
    "            keras.callbacks.ModelCheckpoint(\n",
    "                os.path.join(model_dir, prefix + '_best.ckpt'),\n",
    "                monitor=monitor_metric_name, save_weights_only=True,\n",
    "                save_best_only=True))\n",
    "        if tensorboard:\n",
    "            logdir = os.path.join(model_dir, 'tb', prefix)\n",
    "            tensorboard_callback = keras.callbacks.TensorBoard(log_dir=logdir, profile_batch = '8,10')\n",
    "            callbacks.append(tensorboard_callback)\n",
    "\n",
    "    time_start = time.time()\n",
    "\n",
    "    hist = pipeline.fit(dataset, epochs=epochs, dev_dataset=val_dataset,\n",
    "                        callbacks=callbacks, verbose=1 if hvd.rank() == 0 else 0,\n",
    "                        steps_per_epoch=10, validation_steps=10)\n",
    "    elapsed = time.time() - time_start\n",
    "    \n",
    "    if hvd.rank() == 0:\n",
    "        print(f'Elapsed time: {elapsed}')\n",
    "        #np.save(os.path.join(model_dir, prefix + '_hist.p'), np.array(hist))"
   ]
  },
  {
   "cell_type": "code",
   "execution_count": 11,
   "metadata": {},
   "outputs": [
    {
     "name": "stdout",
     "output_type": "stream",
     "text": [
      "WARNING:tensorflow:No training configuration found in the save file, so the model was *not* compiled. Compile it manually.\n",
      "Epoch 1/25\n",
      "WARNING:tensorflow:From /trinity/home/r.schutski/asr_speedup/venv/lib/python3.7/site-packages/tensorflow/python/ops/ctc_ops.py:1399: alias_inplace_add (from tensorflow.python.ops.inplace_ops) is deprecated and will be removed in a future version.\n",
      "Instructions for updating:\n",
      "Prefer tf.tensor_scatter_nd_add, which offers the same functionality with well-defined read-write semantics.\n",
      "WARNING:tensorflow:From /trinity/home/r.schutski/asr_speedup/venv/lib/python3.7/site-packages/tensorflow/python/ops/ctc_ops.py:1382: alias_inplace_update (from tensorflow.python.ops.inplace_ops) is deprecated and will be removed in a future version.\n",
      "Instructions for updating:\n",
      "Prefer tf.tensor_scatter_nd_update, which offers the same functionality with well-defined read-write semantics.\n",
      "10/10 [==============================] - 411s 41s/step - loss: 709.0084 - val_loss: 688.8415 - lr: 0.0000e+00\n",
      "Epoch 2/25\n",
      "10/10 [==============================] - 372s 37s/step - loss: 694.7803 - val_loss: 708.6496 - lr: 0.0000e+00\n",
      "Epoch 3/25\n",
      "10/10 [==============================] - 326s 33s/step - loss: 672.1175 - val_loss: 708.3100 - lr: 0.0000e+00\n",
      "Epoch 4/25\n",
      "10/10 [==============================] - 358s 36s/step - loss: 708.9560 - val_loss: 708.6942 - lr: 0.0000e+00\n",
      "Epoch 5/25\n",
      "10/10 [==============================] - 367s 37s/step - loss: 709.2567 - val_loss: 708.7642 - lr: 0.0000e+00\n",
      "Epoch 6/25\n",
      "10/10 [==============================] - 381s 38s/step - loss: 709.3087 - val_loss: 708.4691 - lr: 0.0000e+00\n",
      "Epoch 7/25\n",
      "10/10 [==============================] - 347s 35s/step - loss: 694.4574 - val_loss: 708.6916 - lr: 0.0000e+00\n",
      "Epoch 8/25\n",
      "10/10 [==============================] - 332s 33s/step - loss: 676.7977 - val_loss: 708.7517 - lr: 0.0000e+00\n",
      "Epoch 9/25\n",
      "10/10 [==============================] - 352s 35s/step - loss: 672.1706 - val_loss: 708.7219 - lr: 0.0000e+00\n",
      "Epoch 10/25\n",
      "10/10 [==============================] - 351s 35s/step - loss: 705.4767 - val_loss: 708.7509 - lr: 0.0000e+00\n",
      "Epoch 11/25\n",
      "10/10 [==============================] - 368s 37s/step - loss: 709.0680 - val_loss: 708.7557 - lr: 0.0000e+00\n",
      "Epoch 12/25\n",
      "10/10 [==============================] - 329s 33s/step - loss: 675.7388 - val_loss: 708.6996 - lr: 0.0000e+00\n",
      "Epoch 13/25\n",
      "10/10 [==============================] - 309s 31s/step - loss: 629.9099 - val_loss: 708.7086 - lr: 0.0000e+00\n",
      "Epoch 14/25\n",
      "10/10 [==============================] - 338s 34s/step - loss: 708.6875 - val_loss: 708.6979 - lr: 0.0000e+00\n",
      "Epoch 15/25\n",
      "10/10 [==============================] - 361s 36s/step - loss: 693.3284 - val_loss: 708.6572 - lr: 0.0000e+00\n",
      "Epoch 16/25\n",
      "10/10 [==============================] - 332s 33s/step - loss: 613.2519 - val_loss: 708.5354 - lr: 0.0000e+00\n",
      "Epoch 17/25\n",
      "10/10 [==============================] - 328s 33s/step - loss: 662.2240 - val_loss: 708.7225 - lr: 0.0000e+00\n",
      "Epoch 18/25\n",
      "10/10 [==============================] - 373s 37s/step - loss: 709.0536 - val_loss: 708.4784 - lr: 0.0000e+00\n",
      "Epoch 19/25\n",
      "10/10 [==============================] - 351s 35s/step - loss: 709.0707 - val_loss: 708.6879 - lr: 0.0000e+00\n",
      "Epoch 20/25\n",
      "10/10 [==============================] - 294s 29s/step - loss: 616.3723 - val_loss: 708.7404 - lr: 0.0000e+00\n",
      "Epoch 21/25\n",
      "10/10 [==============================] - 359s 36s/step - loss: 700.6142 - val_loss: 708.3203 - lr: 0.0000e+00\n",
      "Epoch 22/25\n",
      "10/10 [==============================] - 358s 36s/step - loss: 708.9781 - val_loss: 708.6371 - lr: 0.0000e+00\n",
      "Epoch 23/25\n",
      "10/10 [==============================] - 346s 35s/step - loss: 687.0151 - val_loss: 708.4349 - lr: 0.0000e+00\n",
      "Epoch 24/25\n",
      "10/10 [==============================] - 342s 34s/step - loss: 708.7881 - val_loss: 708.6277 - lr: 0.0000e+00\n",
      "Epoch 25/25\n",
      "10/10 [==============================] - 360s 36s/step - loss: 699.4574 - val_loss: 708.7396 - lr: 0.0000e+00\n",
      "Elapsed time: 9427.539372205734\n"
     ]
    }
   ],
   "source": [
    "train_model(\n",
    "    filename='./models/tt_ds_uniform_initall_r14.h5', \n",
    "    dataset_idx='./train-clean-100-index.csv',\n",
    "    val_dataset_idx='./dev-clean-index.csv',\n",
    "    epochs=25,\n",
    "    tensorboard=True,\n",
    "    restart_filename=None,\n",
    ")"
   ]
  },
  {
   "cell_type": "code",
   "execution_count": null,
   "metadata": {},
   "outputs": [],
   "source": [
    "! ls models/ds_train"
   ]
  },
  {
   "cell_type": "code",
   "execution_count": null,
   "metadata": {},
   "outputs": [],
   "source": []
  },
  {
   "cell_type": "markdown",
   "metadata": {},
   "source": []
  },
  {
   "cell_type": "markdown",
   "metadata": {},
   "source": [
    "if __name__ == '__main__':\n",
    "    parser = argparse.ArgumentParser(\n",
    "        description='Train ctc asr model')\n",
    "    parser.add_argument('--filename', type=str,\n",
    "                        help='filename of the model')\n",
    "    parser.add_argument('--dataset', type=str,\n",
    "                        help='path to the dataset index',)\n",
    "    parser.add_argument('--val_dataset', type=str,\n",
    "                        help='path to the validation dataset index (optional)',\n",
    "                        default=None)\n",
    "    parser.add_argument('--epochs', type=int,\n",
    "                       help='number of epochs to use for training',\n",
    "                       default=25)\n",
    "    parser.add_argument('--tensorboard', type=bool,\n",
    "                       help='if tensorboard log will be written',\n",
    "                       default=False)\n",
    "    parser.add_argument('--restart_filename', type=str,\n",
    "                       help='filename of the checkpoint to restart from',\n",
    "                       default=None)\n",
    "    args = parser.parse_args()\n",
    "    \n",
    "    train_model(args.filename, args.dataset,\n",
    "                args.val_dataset, args.epochs,\n",
    "                args.tensorboard, args.restart_filename)"
   ]
  },
  {
   "cell_type": "markdown",
   "metadata": {},
   "source": [
    "training times: 25 epochs - 10 batch / epoch\n",
    " tt mixed - gpu - 9427s - 1 / batch\n",
    " "
   ]
  },
  {
   "cell_type": "code",
   "execution_count": null,
   "metadata": {},
   "outputs": [],
   "source": []
  },
  {
   "cell_type": "code",
   "execution_count": 13,
   "metadata": {},
   "outputs": [],
   "source": [
    "filename='./models/ds.h5'\n",
    "dataset_idx='./train-clean-100-index.csv'\n",
    "val_dataset_idx='./dev-clean-index.csv'\n",
    "epochs=25\n",
    "tensorboard=True\n",
    "restart_filename=None\n",
    "use_mixed_precision=True"
   ]
  },
  {
   "cell_type": "code",
   "execution_count": 14,
   "metadata": {},
   "outputs": [],
   "source": [
    "policy = mixed_precision.Policy('mixed_float16')\n",
    "mixed_precision.set_policy(policy)"
   ]
  },
  {
   "cell_type": "code",
   "execution_count": 15,
   "metadata": {},
   "outputs": [
    {
     "name": "stdout",
     "output_type": "stream",
     "text": [
      "Compute dtype: float16\n",
      "Variable dtype: float32\n"
     ]
    }
   ],
   "source": [
    "print('Compute dtype: %s' % policy.compute_dtype)\n",
    "print('Variable dtype: %s' % policy.variable_dtype)"
   ]
  },
  {
   "cell_type": "code",
   "execution_count": 16,
   "metadata": {},
   "outputs": [
    {
     "name": "stdout",
     "output_type": "stream",
     "text": [
      "WARNING:tensorflow:No training configuration found in the save file, so the model was *not* compiled. Compile it manually.\n"
     ]
    }
   ],
   "source": [
    "model = keras.models.load_model(filename, custom_objects=TF_CUSTOM_OBJECTS)"
   ]
  },
  {
   "cell_type": "code",
   "execution_count": 17,
   "metadata": {},
   "outputs": [
    {
     "data": {
      "text/plain": [
       "[<tensorflow.python.keras.engine.input_layer.InputLayer at 0x1554b408bc50>,\n",
       " <tensorflow.python.keras.layers.core.Lambda at 0x1554c9431940>,\n",
       " <tensorflow.python.keras.layers.convolutional.ZeroPadding2D at 0x1554b40b9668>,\n",
       " <tensorflow.python.keras.layers.convolutional.Conv2D at 0x1554b40b9978>,\n",
       " <tensorflow.python.keras.layers.core.Lambda at 0x1554b40b9d68>,\n",
       " <tensorflow.python.keras.layers.advanced_activations.ReLU at 0x1554b40b9f28>,\n",
       " <tensorflow.python.keras.layers.core.Dropout at 0x1554b406e0f0>,\n",
       " <tensorflow.python.keras.layers.wrappers.TimeDistributed at 0x1554b406e4a8>,\n",
       " <tensorflow.python.keras.layers.advanced_activations.ReLU at 0x1554b406e7b8>,\n",
       " <tensorflow.python.keras.layers.core.Dropout at 0x1554b406e940>,\n",
       " <tensorflow.python.keras.layers.wrappers.TimeDistributed at 0x1554b406ed30>,\n",
       " <tensorflow.python.keras.layers.advanced_activations.ReLU at 0x1554ac028080>,\n",
       " <tensorflow.python.keras.layers.core.Dropout at 0x1554ac028208>,\n",
       " <tensorflow.python.keras.layers.recurrent_v2.LSTM at 0x1554ac028320>,\n",
       " <tensorflow.python.keras.layers.core.Dropout at 0x1554ac028be0>,\n",
       " <tensorflow.python.keras.layers.wrappers.TimeDistributed at 0x1554ac028fd0>,\n",
       " <tensorflow.python.keras.layers.advanced_activations.ReLU at 0x1554ac044320>,\n",
       " <tensorflow.python.keras.layers.core.Dropout at 0x1554ac0444a8>,\n",
       " <tensorflow.python.keras.layers.wrappers.TimeDistributed at 0x1554ac044898>]"
      ]
     },
     "execution_count": 17,
     "metadata": {},
     "output_type": "execute_result"
    }
   ],
   "source": [
    "model.layers"
   ]
  },
  {
   "cell_type": "code",
   "execution_count": 34,
   "metadata": {},
   "outputs": [],
   "source": [
    "x = tf.zeros([1, 1, 2048])"
   ]
  },
  {
   "cell_type": "code",
   "execution_count": 35,
   "metadata": {},
   "outputs": [],
   "source": [
    "y = model.layers[7](x)"
   ]
  },
  {
   "cell_type": "code",
   "execution_count": 36,
   "metadata": {},
   "outputs": [
    {
     "data": {
      "text/plain": [
       "tf.float32"
      ]
     },
     "execution_count": 36,
     "metadata": {},
     "output_type": "execute_result"
    }
   ],
   "source": [
    "y.dtype"
   ]
  },
  {
   "cell_type": "code",
   "execution_count": 38,
   "metadata": {},
   "outputs": [
    {
     "ename": "ImportError",
     "evalue": "cannot import name 'blah' from 'tensorflow.keras.mixed_precision' (/trinity/home/r.schutski/asr_speedup/venv/lib/python3.7/site-packages/tensorflow/keras/mixed_precision/__init__.py)",
     "output_type": "error",
     "traceback": [
      "\u001b[0;31m---------------------------------------------------------------------------\u001b[0m",
      "\u001b[0;31mImportError\u001b[0m                               Traceback (most recent call last)",
      "\u001b[0;32m<ipython-input-38-3d12bbeb572b>\u001b[0m in \u001b[0;36m<module>\u001b[0;34m\u001b[0m\n\u001b[0;32m----> 1\u001b[0;31m \u001b[0;32mfrom\u001b[0m \u001b[0mtensorflow\u001b[0m\u001b[0;34m.\u001b[0m\u001b[0mkeras\u001b[0m\u001b[0;34m.\u001b[0m\u001b[0mmixed_precision\u001b[0m \u001b[0;32mimport\u001b[0m \u001b[0mblah\u001b[0m\u001b[0;34m\u001b[0m\u001b[0;34m\u001b[0m\u001b[0m\n\u001b[0m",
      "\u001b[0;31mImportError\u001b[0m: cannot import name 'blah' from 'tensorflow.keras.mixed_precision' (/trinity/home/r.schutski/asr_speedup/venv/lib/python3.7/site-packages/tensorflow/keras/mixed_precision/__init__.py)"
     ]
    },
    {
     "name": "stdout",
     "output_type": "stream",
     "text": [
      "> \u001b[0;32m<ipython-input-38-3d12bbeb572b>\u001b[0m(1)\u001b[0;36m<module>\u001b[0;34m()\u001b[0m\n",
      "\u001b[0;32m----> 1 \u001b[0;31m\u001b[0;32mfrom\u001b[0m \u001b[0mtensorflow\u001b[0m\u001b[0;34m.\u001b[0m\u001b[0mkeras\u001b[0m\u001b[0;34m.\u001b[0m\u001b[0mmixed_precision\u001b[0m \u001b[0;32mimport\u001b[0m \u001b[0mblah\u001b[0m\u001b[0;34m\u001b[0m\u001b[0;34m\u001b[0m\u001b[0m\n",
      "\u001b[0m\n"
     ]
    },
    {
     "name": "stdin",
     "output_type": "stream",
     "text": [
      "ipdb>  q\n"
     ]
    }
   ],
   "source": [
    "from tensorflow.keras.mixed_precision import blah"
   ]
  },
  {
   "cell_type": "code",
   "execution_count": null,
   "metadata": {},
   "outputs": [],
   "source": []
  }
 ],
 "metadata": {
  "kernelspec": {
   "display_name": "asr",
   "language": "python",
   "name": "asr"
  },
  "language_info": {
   "codemirror_mode": {
    "name": "ipython",
    "version": 3
   },
   "file_extension": ".py",
   "mimetype": "text/x-python",
   "name": "python",
   "nbconvert_exporter": "python",
   "pygments_lexer": "ipython3",
   "version": "3.7.1"
  },
  "toc": {
   "base_numbering": 1,
   "nav_menu": {},
   "number_sections": true,
   "sideBar": true,
   "skip_h1_title": false,
   "title_cell": "Table of Contents",
   "title_sidebar": "Contents",
   "toc_cell": false,
   "toc_position": {},
   "toc_section_display": true,
   "toc_window_display": false
  }
 },
 "nbformat": 4,
 "nbformat_minor": 4
}
