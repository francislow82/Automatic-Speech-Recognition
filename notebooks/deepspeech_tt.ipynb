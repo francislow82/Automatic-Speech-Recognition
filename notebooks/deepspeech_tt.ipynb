{
 "cells": [
  {
   "cell_type": "code",
   "execution_count": 1,
   "metadata": {},
   "outputs": [
    {
     "name": "stdout",
     "output_type": "stream",
     "text": [
      "Automatic pdb calling has been turned ON\n"
     ]
    }
   ],
   "source": [
    "%pdb on"
   ]
  },
  {
   "cell_type": "code",
   "execution_count": 2,
   "metadata": {},
   "outputs": [],
   "source": [
    "import numpy as np\n",
    "import tensorflow as tf\n",
    "import sys\n",
    "import os\n",
    "if os.path.abspath('../') not in sys.path:\n",
    "    sys.path.append(os.path.abspath('../'))\n",
    "if os.path.abspath('../../tt_keras') not in sys.path:\n",
    "    sys.path.append(os.path.abspath('../../tt_keras'))\n",
    "\n",
    "if os.path.abspath('../../t3f') not in sys.path:\n",
    "    sys.path.append(os.path.abspath('../../t3f'))\n",
    "\n",
    "import automatic_speech_recognition as asr\n",
    "import time"
   ]
  },
  {
   "cell_type": "code",
   "execution_count": 3,
   "metadata": {},
   "outputs": [],
   "source": [
    "import numpy as np\n",
    "import pandas as pd\n",
    "import matplotlib.pyplot as plt\n",
    "import matplotlib.image as mpimg\n",
    "from tqdm.notebook import tqdm"
   ]
  },
  {
   "cell_type": "markdown",
   "metadata": {},
   "source": [
    "## Reference model and scripts"
   ]
  },
  {
   "cell_type": "code",
   "execution_count": 4,
   "metadata": {},
   "outputs": [],
   "source": [
    "def get_pipeline(model):\n",
    "    alphabet = asr.text.Alphabet(lang='en')\n",
    "    features_extractor = asr.features.MFCC(\n",
    "        features_num=26,\n",
    "        is_standardization=False,\n",
    "        winlen=0.032,\n",
    "        winstep=0.02,\n",
    "    )\n",
    "    optimizer = tf.optimizers.Adam(lr=1e-3, beta_1=0.9, beta_2=0.999)\n",
    "    decoder = asr.decoder.GreedyDecoder()\n",
    "    pipeline = asr.pipeline.CTCPipeline(\n",
    "        alphabet, features_extractor, model, optimizer, decoder\n",
    "    )\n",
    "    callbacks = []\n",
    "    return pipeline"
   ]
  },
  {
   "cell_type": "code",
   "execution_count": 5,
   "metadata": {},
   "outputs": [],
   "source": [
    "from transform_model import transform"
   ]
  },
  {
   "cell_type": "code",
   "execution_count": 6,
   "metadata": {},
   "outputs": [],
   "source": [
    "from tt_dense_layer import TTDense\n",
    "from tt_recurrent_layer import SimpleTTRNNCell, TTLSTMCell, FusedTTLSTMCell\n",
    "custom_objects = {'TTDense': TTDense, 'SimpleTTRNNCell': SimpleTTRNNCell, 'TTLSTMCell': TTLSTMCell, 'FusedTTLSTMCell': FusedTTLSTMCell}"
   ]
  },
  {
   "cell_type": "code",
   "execution_count": 7,
   "metadata": {},
   "outputs": [],
   "source": [
    "def get_accuracy_by_rank(test_ds, models_filename_template, ranks):\n",
    "    wers = []\n",
    "    cers = []\n",
    "    for rank in tqdm(ranks):\n",
    "        model_filename = models_filename_template.format(rank)\n",
    "        tt_model = tf.keras.models.load_model(model_filename, custom_objects=custom_objects)\n",
    "        pipeline = get_pipeline(tt_model)\n",
    "        wer, cer = asr.evaluate.calculate_error_rates(pipeline, test_ds, print_pred=False)\n",
    "        wers.append(wer)\n",
    "        cers.append(cer)\n",
    "    return np.array(ranks), np.array(wers), np.array(cers)"
   ]
  },
  {
   "cell_type": "code",
   "execution_count": 8,
   "metadata": {},
   "outputs": [
    {
     "name": "stdout",
     "output_type": "stream",
     "text": [
      "load graph\n",
      "WARNING:tensorflow:From /Users/roman/Documents/projects/asr_speedup/src/Automatic-Speech-Recognition/automatic_speech_recognition/utils/utils.py:91: FastGFile.__init__ (from tensorflow.python.platform.gfile) is deprecated and will be removed in a future version.\n",
      "Instructions for updating:\n",
      "Use tf.gfile.GFile.\n",
      "['IteratorV2', 'IteratorGetNext', 'Shape', 'strided_slice/stack', 'strided_slice/stack_1', 'strided_slice/stack_2', 'strided_slice', 'Const', 'conv1d/ExpandDims/dim', 'conv1d/ExpandDims', 'conv1d/ExpandDims_1/dim', 'conv1d/ExpandDims_1', 'conv1d', 'conv1d/Squeeze', 'Reshape/shape/1', 'Reshape/shape/2', 'Reshape/shape/3', 'Reshape/shape', 'Reshape', 'transpose/perm', 'transpose', 'Reshape_1/shape', 'Reshape_1', 'layer_1/bias', 'layer_1/bias/read', 'layer_1/weights', 'layer_1/weights/read', 'MatMul', 'BiasAdd', 'Relu', 'Minimum/y', 'Minimum', 'StringFormat', 'PrintV2', 'Identity', 'layer_2/bias', 'layer_2/bias/read', 'layer_2/weights', 'layer_2/weights/read', 'MatMul_1', 'BiasAdd_1', 'Relu_1', 'Minimum_1/y', 'Minimum_1', 'layer_3/bias', 'layer_3/bias/read', 'layer_3/weights', 'layer_3/weights/read', 'MatMul_2', 'BiasAdd_2', 'Relu_2', 'Minimum_2/y', 'Minimum_2', 'Reshape_2/shape', 'Reshape_2', 'cudnn_lstm/rnn/multi_rnn_cell/cell_0/cudnn_compatible_lstm_cell/kernel', 'cudnn_lstm/rnn/multi_rnn_cell/cell_0/cudnn_compatible_lstm_cell/kernel/read', 'cudnn_lstm/rnn/multi_rnn_cell/cell_0/cudnn_compatible_lstm_cell/bias', 'cudnn_lstm/rnn/multi_rnn_cell/cell_0/cudnn_compatible_lstm_cell/bias/read', 'cudnn_lstm/rnn/multi_rnn_cell/cell_0/cudnn_compatible_lstm_cell/Shape', 'cudnn_lstm/rnn/multi_rnn_cell/cell_0/cudnn_compatible_lstm_cell/strided_slice/stack', 'cudnn_lstm/rnn/multi_rnn_cell/cell_0/cudnn_compatible_lstm_cell/strided_slice/stack_1', 'cudnn_lstm/rnn/multi_rnn_cell/cell_0/cudnn_compatible_lstm_cell/strided_slice/stack_2', 'cudnn_lstm/rnn/multi_rnn_cell/cell_0/cudnn_compatible_lstm_cell/strided_slice', 'cudnn_lstm/rnn/multi_rnn_cell/cell_0/cudnn_compatible_lstm_cell/stack', 'cudnn_lstm/rnn/multi_rnn_cell/cell_0/cudnn_compatible_lstm_cell/zeros/Const', 'cudnn_lstm/rnn/multi_rnn_cell/cell_0/cudnn_compatible_lstm_cell/zeros', 'cudnn_lstm/rnn/multi_rnn_cell/cell_0/cudnn_compatible_lstm_cell/zeros_1/shape_as_tensor', 'cudnn_lstm/rnn/multi_rnn_cell/cell_0/cudnn_compatible_lstm_cell/zeros_1/Const', 'cudnn_lstm/rnn/multi_rnn_cell/cell_0/cudnn_compatible_lstm_cell/zeros_1', 'cudnn_lstm/rnn/multi_rnn_cell/cell_0/cudnn_compatible_lstm_cell/Const', 'cudnn_lstm/rnn/multi_rnn_cell/cell_0/cudnn_compatible_lstm_cell/Max', 'cudnn_lstm/rnn/multi_rnn_cell/cell_0/cudnn_compatible_lstm_cell/Cast', 'cudnn_lstm/rnn/multi_rnn_cell/cell_0/cudnn_compatible_lstm_cell/BlockLSTM', 'cudnn_lstm/rnn/multi_rnn_cell/cell_0/cudnn_compatible_lstm_cell/SequenceMask/Const', 'cudnn_lstm/rnn/multi_rnn_cell/cell_0/cudnn_compatible_lstm_cell/SequenceMask/Const_1', 'cudnn_lstm/rnn/multi_rnn_cell/cell_0/cudnn_compatible_lstm_cell/SequenceMask/Range', 'cudnn_lstm/rnn/multi_rnn_cell/cell_0/cudnn_compatible_lstm_cell/SequenceMask/ExpandDims/dim', 'cudnn_lstm/rnn/multi_rnn_cell/cell_0/cudnn_compatible_lstm_cell/SequenceMask/ExpandDims', 'cudnn_lstm/rnn/multi_rnn_cell/cell_0/cudnn_compatible_lstm_cell/SequenceMask/Cast', 'cudnn_lstm/rnn/multi_rnn_cell/cell_0/cudnn_compatible_lstm_cell/SequenceMask/Less', 'cudnn_lstm/rnn/multi_rnn_cell/cell_0/cudnn_compatible_lstm_cell/SequenceMask/Cast_1', 'cudnn_lstm/rnn/multi_rnn_cell/cell_0/cudnn_compatible_lstm_cell/transpose/perm', 'cudnn_lstm/rnn/multi_rnn_cell/cell_0/cudnn_compatible_lstm_cell/transpose', 'cudnn_lstm/rnn/multi_rnn_cell/cell_0/cudnn_compatible_lstm_cell/ExpandDims/dim', 'cudnn_lstm/rnn/multi_rnn_cell/cell_0/cudnn_compatible_lstm_cell/ExpandDims', 'cudnn_lstm/rnn/multi_rnn_cell/cell_0/cudnn_compatible_lstm_cell/Tile/multiples', 'cudnn_lstm/rnn/multi_rnn_cell/cell_0/cudnn_compatible_lstm_cell/Tile', 'cudnn_lstm/rnn/multi_rnn_cell/cell_0/cudnn_compatible_lstm_cell/mul', 'Reshape_3/shape', 'Reshape_3', 'layer_5/bias', 'layer_5/bias/read', 'layer_5/weights', 'layer_5/weights/read', 'MatMul_3', 'BiasAdd_3', 'Relu_3', 'Minimum_3/y', 'Minimum_3', 'layer_6/bias', 'layer_6/bias/read', 'layer_6/weights', 'layer_6/weights/read', 'MatMul_4', 'BiasAdd_4', 'raw_logits/shape', 'raw_logits']\n",
      "[]\n",
      "Found weight tensor layer_1/bias with shape (2048,)\n",
      "Found weight tensor layer_1/weights with shape (494, 2048)\n",
      "Found weight tensor layer_2/bias with shape (2048,)\n",
      "Found weight tensor layer_2/weights with shape (2048, 2048)\n",
      "Found weight tensor layer_3/bias with shape (2048,)\n",
      "Found weight tensor layer_3/weights with shape (2048, 2048)\n",
      "Found weight tensor cudnn_lstm/rnn/multi_rnn_cell/cell_0/cudnn_compatible_lstm_cell/kernel with shape (4096, 8192)\n",
      "Found weight tensor cudnn_lstm/rnn/multi_rnn_cell/cell_0/cudnn_compatible_lstm_cell/bias with shape (8192,)\n",
      "Found weight tensor layer_5/bias with shape (2048,)\n",
      "Found weight tensor layer_5/weights with shape (2048, 2048)\n",
      "Found weight tensor layer_6/bias with shape (29,)\n",
      "Found weight tensor layer_6/weights with shape (2048, 29)\n",
      "Shapes of weights prepared to be loaded into keras model\n",
      "[(19, 26, 1, 2048), (2048,), (2048, 2048), (2048,), (2048, 2048), (2048,), (2048, 8192), (2048, 8192), (8192,), (2048, 2048), (2048,), (2048, 29), (29,)]\n"
     ]
    }
   ],
   "source": [
    "# build the models\n",
    "model = asr.model.load_mozilla_deepspeech('./data/mozilla_deepspeech.pb', tflite_version=False, is_mixed_precision=False)"
   ]
  },
  {
   "cell_type": "code",
   "execution_count": 9,
   "metadata": {},
   "outputs": [
    {
     "name": "stdout",
     "output_type": "stream",
     "text": [
      "load graph\n",
      "['IteratorV2', 'IteratorGetNext', 'Shape', 'strided_slice/stack', 'strided_slice/stack_1', 'strided_slice/stack_2', 'strided_slice', 'Const', 'conv1d/ExpandDims/dim', 'conv1d/ExpandDims', 'conv1d/ExpandDims_1/dim', 'conv1d/ExpandDims_1', 'conv1d', 'conv1d/Squeeze', 'Reshape/shape/1', 'Reshape/shape/2', 'Reshape/shape/3', 'Reshape/shape', 'Reshape', 'transpose/perm', 'transpose', 'Reshape_1/shape', 'Reshape_1', 'layer_1/bias', 'layer_1/bias/read', 'layer_1/weights', 'layer_1/weights/read', 'MatMul', 'BiasAdd', 'Relu', 'Minimum/y', 'Minimum', 'StringFormat', 'PrintV2', 'Identity', 'layer_2/bias', 'layer_2/bias/read', 'layer_2/weights', 'layer_2/weights/read', 'MatMul_1', 'BiasAdd_1', 'Relu_1', 'Minimum_1/y', 'Minimum_1', 'layer_3/bias', 'layer_3/bias/read', 'layer_3/weights', 'layer_3/weights/read', 'MatMul_2', 'BiasAdd_2', 'Relu_2', 'Minimum_2/y', 'Minimum_2', 'Reshape_2/shape', 'Reshape_2', 'cudnn_lstm/rnn/multi_rnn_cell/cell_0/cudnn_compatible_lstm_cell/kernel', 'cudnn_lstm/rnn/multi_rnn_cell/cell_0/cudnn_compatible_lstm_cell/kernel/read', 'cudnn_lstm/rnn/multi_rnn_cell/cell_0/cudnn_compatible_lstm_cell/bias', 'cudnn_lstm/rnn/multi_rnn_cell/cell_0/cudnn_compatible_lstm_cell/bias/read', 'cudnn_lstm/rnn/multi_rnn_cell/cell_0/cudnn_compatible_lstm_cell/Shape', 'cudnn_lstm/rnn/multi_rnn_cell/cell_0/cudnn_compatible_lstm_cell/strided_slice/stack', 'cudnn_lstm/rnn/multi_rnn_cell/cell_0/cudnn_compatible_lstm_cell/strided_slice/stack_1', 'cudnn_lstm/rnn/multi_rnn_cell/cell_0/cudnn_compatible_lstm_cell/strided_slice/stack_2', 'cudnn_lstm/rnn/multi_rnn_cell/cell_0/cudnn_compatible_lstm_cell/strided_slice', 'cudnn_lstm/rnn/multi_rnn_cell/cell_0/cudnn_compatible_lstm_cell/stack', 'cudnn_lstm/rnn/multi_rnn_cell/cell_0/cudnn_compatible_lstm_cell/zeros/Const', 'cudnn_lstm/rnn/multi_rnn_cell/cell_0/cudnn_compatible_lstm_cell/zeros', 'cudnn_lstm/rnn/multi_rnn_cell/cell_0/cudnn_compatible_lstm_cell/zeros_1/shape_as_tensor', 'cudnn_lstm/rnn/multi_rnn_cell/cell_0/cudnn_compatible_lstm_cell/zeros_1/Const', 'cudnn_lstm/rnn/multi_rnn_cell/cell_0/cudnn_compatible_lstm_cell/zeros_1', 'cudnn_lstm/rnn/multi_rnn_cell/cell_0/cudnn_compatible_lstm_cell/Const', 'cudnn_lstm/rnn/multi_rnn_cell/cell_0/cudnn_compatible_lstm_cell/Max', 'cudnn_lstm/rnn/multi_rnn_cell/cell_0/cudnn_compatible_lstm_cell/Cast', 'cudnn_lstm/rnn/multi_rnn_cell/cell_0/cudnn_compatible_lstm_cell/BlockLSTM', 'cudnn_lstm/rnn/multi_rnn_cell/cell_0/cudnn_compatible_lstm_cell/SequenceMask/Const', 'cudnn_lstm/rnn/multi_rnn_cell/cell_0/cudnn_compatible_lstm_cell/SequenceMask/Const_1', 'cudnn_lstm/rnn/multi_rnn_cell/cell_0/cudnn_compatible_lstm_cell/SequenceMask/Range', 'cudnn_lstm/rnn/multi_rnn_cell/cell_0/cudnn_compatible_lstm_cell/SequenceMask/ExpandDims/dim', 'cudnn_lstm/rnn/multi_rnn_cell/cell_0/cudnn_compatible_lstm_cell/SequenceMask/ExpandDims', 'cudnn_lstm/rnn/multi_rnn_cell/cell_0/cudnn_compatible_lstm_cell/SequenceMask/Cast', 'cudnn_lstm/rnn/multi_rnn_cell/cell_0/cudnn_compatible_lstm_cell/SequenceMask/Less', 'cudnn_lstm/rnn/multi_rnn_cell/cell_0/cudnn_compatible_lstm_cell/SequenceMask/Cast_1', 'cudnn_lstm/rnn/multi_rnn_cell/cell_0/cudnn_compatible_lstm_cell/transpose/perm', 'cudnn_lstm/rnn/multi_rnn_cell/cell_0/cudnn_compatible_lstm_cell/transpose', 'cudnn_lstm/rnn/multi_rnn_cell/cell_0/cudnn_compatible_lstm_cell/ExpandDims/dim', 'cudnn_lstm/rnn/multi_rnn_cell/cell_0/cudnn_compatible_lstm_cell/ExpandDims', 'cudnn_lstm/rnn/multi_rnn_cell/cell_0/cudnn_compatible_lstm_cell/Tile/multiples', 'cudnn_lstm/rnn/multi_rnn_cell/cell_0/cudnn_compatible_lstm_cell/Tile', 'cudnn_lstm/rnn/multi_rnn_cell/cell_0/cudnn_compatible_lstm_cell/mul', 'Reshape_3/shape', 'Reshape_3', 'layer_5/bias', 'layer_5/bias/read', 'layer_5/weights', 'layer_5/weights/read', 'MatMul_3', 'BiasAdd_3', 'Relu_3', 'Minimum_3/y', 'Minimum_3', 'layer_6/bias', 'layer_6/bias/read', 'layer_6/weights', 'layer_6/weights/read', 'MatMul_4', 'BiasAdd_4', 'raw_logits/shape', 'raw_logits']\n",
      "[]\n",
      "Found weight tensor layer_1/bias with shape (2048,)\n",
      "Found weight tensor layer_1/weights with shape (494, 2048)\n",
      "Found weight tensor layer_2/bias with shape (2048,)\n",
      "Found weight tensor layer_2/weights with shape (2048, 2048)\n",
      "Found weight tensor layer_3/bias with shape (2048,)\n",
      "Found weight tensor layer_3/weights with shape (2048, 2048)\n",
      "Found weight tensor cudnn_lstm/rnn/multi_rnn_cell/cell_0/cudnn_compatible_lstm_cell/kernel with shape (4096, 8192)\n",
      "Found weight tensor cudnn_lstm/rnn/multi_rnn_cell/cell_0/cudnn_compatible_lstm_cell/bias with shape (8192,)\n",
      "Found weight tensor layer_5/bias with shape (2048,)\n",
      "Found weight tensor layer_5/weights with shape (2048, 2048)\n",
      "Found weight tensor layer_6/bias with shape (29,)\n",
      "Found weight tensor layer_6/weights with shape (2048, 29)\n",
      "Shapes of weights prepared to be loaded into keras model\n",
      "[(19, 26, 1, 2048), (2048,), (2048, 2048), (2048,), (2048, 2048), (2048,), (2048, 8192), (2048, 8192), (8192,), (2048, 2048), (2048,), (2048, 29), (29,)]\n",
      "WARNING:tensorflow:Mixed precision compatibility check (mixed_float16): WARNING\n",
      "The dtype policy mixed_float16 may run slowly because this machine does not have a GPU.\n",
      "If you will use compatible GPU(s) not attached to this host, e.g. by running a multi-worker model, you can ignore this warning. This message will only be logged once\n"
     ]
    }
   ],
   "source": [
    "# build the mixed precision model\n",
    "model_mp = asr.model.load_mozilla_deepspeech('./data/mozilla_deepspeech.pb', tflite_version=False, is_mixed_precision=True)"
   ]
  },
  {
   "cell_type": "code",
   "execution_count": 10,
   "metadata": {},
   "outputs": [],
   "source": [
    "model.save('./models/ds.h5')"
   ]
  },
  {
   "cell_type": "code",
   "execution_count": 11,
   "metadata": {},
   "outputs": [],
   "source": [
    "model_mp.save('./models/ds_mp.h5')"
   ]
  },
  {
   "cell_type": "markdown",
   "metadata": {},
   "source": [
    "## Accuracy without tuning"
   ]
  },
  {
   "cell_type": "code",
   "execution_count": 12,
   "metadata": {},
   "outputs": [],
   "source": [
    "tt_ranks = np.arange(2, 32, 1)\n",
    "shape = ((16, 2, 2, 2, 16), (16, 2, 2, 2, 16))"
   ]
  },
  {
   "cell_type": "code",
   "execution_count": 13,
   "metadata": {},
   "outputs": [],
   "source": [
    "dev_dataset = asr.dataset.Audio.from_csv('./data/dev-clean-index.csv', batch_size=8, use_filesizes=True, relative_paths=False)"
   ]
  },
  {
   "cell_type": "code",
   "execution_count": 14,
   "metadata": {},
   "outputs": [],
   "source": [
    "def get_tt_model_tuneall(model, shape, dense_ranks, lstm_rank, lstm_r_rank):\n",
    "    replacement_config = {\n",
    "        'dense_2': {\n",
    "            'config': {\n",
    "                'name': 'tt_dense_2',\n",
    "                'input_dims': shape[0],\n",
    "                'output_dims' : shape[1],\n",
    "                'activation': 'linear',\n",
    "                'tt_rank': dense_ranks[0],\n",
    "            },\n",
    "            'init': {\n",
    "                'max_tt_rank': dense_ranks[0],\n",
    "                'epsilon': 0.0\n",
    "            }\n",
    "        },\n",
    "       'dense_3': {\n",
    "            'config': {\n",
    "                'name': 'tt_dense_3',\n",
    "                'input_dims': shape[0],\n",
    "                'output_dims' : shape[1],\n",
    "                'activation': 'linear',\n",
    "                'tt_rank': dense_ranks[1],\n",
    "            },\n",
    "            'init': {\n",
    "                'max_tt_rank': dense_ranks[1],\n",
    "                'epsilon': 0.0\n",
    "            }\n",
    "        },\n",
    "        'lstm': {\n",
    "            'cell_type': 'FusedTTLSTMCell',\n",
    "            'config': {\n",
    "                'name': 'tt_fusedlstm_0',\n",
    "                'input_dims': shape[0],\n",
    "                'output_dims': shape[1],\n",
    "                'tt_rank': lstm_rank,\n",
    "                'recurrent_tt_rank': lstm_rank,\n",
    "            },\n",
    "            'init': {\n",
    "                'kernel': {\n",
    "                    'max_tt_rank': lstm_rank,\n",
    "                    'epsilon': 0.0\n",
    "                },\n",
    "                'recurrent': {\n",
    "                    'max_tt_rank': lstm_r_rank,\n",
    "                    'epsilon': 0.0\n",
    "                }\n",
    "            }\n",
    "        },\n",
    "        'dense_4': {\n",
    "            'config': {\n",
    "                'name': 'tt_dense0',\n",
    "                'input_dims': shape[0],\n",
    "                'output_dims' : shape[1],\n",
    "                'activation': 'linear',\n",
    "                'tt_rank': dense_ranks[2],\n",
    "            },\n",
    "            'init': {\n",
    "                'max_tt_rank': dense_ranks[2],\n",
    "                'epsilon': 0.0\n",
    "            }\n",
    "        },\n",
    "    }\n",
    "  \n",
    "    new_model = transform(model, replacement_config, from_layer=8)\n",
    "    new_model.trainable = True\n",
    "     \n",
    "    return new_model"
   ]
  },
  {
   "cell_type": "code",
   "execution_count": 15,
   "metadata": {},
   "outputs": [
    {
     "data": {
      "application/vnd.jupyter.widget-view+json": {
       "model_id": "a0f6c2e35d574225bf9d15bb00929584",
       "version_major": 2,
       "version_minor": 0
      },
      "text/plain": [
       "HBox(children=(FloatProgress(value=0.0, max=30.0), HTML(value='')))"
      ]
     },
     "metadata": {},
     "output_type": "display_data"
    },
    {
     "name": "stdout",
     "output_type": "stream",
     "text": [
      "\n"
     ]
    }
   ],
   "source": [
    "for rank in tqdm(tt_ranks):\n",
    "    tt_model = get_tt_model_tuneall(model, shape, [rank, rank, rank], rank, rank)\n",
    "    filename = f'./models/tt_ds_uniform_fix_r{rank}.h5'\n",
    "    tt_model.save(filename, save_format='h5')"
   ]
  },
  {
   "cell_type": "code",
   "execution_count": null,
   "metadata": {},
   "outputs": [],
   "source": [
    "ranks, wers_fix, cers_fix = get_accuracy_by_rank(dev_dataset, './models/tt_ds_uniform_fix_r{}.h5', tt_ranks)"
   ]
  },
  {
   "cell_type": "code",
   "execution_count": null,
   "metadata": {},
   "outputs": [],
   "source": [
    "fig, ax = plt.subplots(1, 1, figsize=(5, 5))\n",
    "\n",
    "ax.plot(ranks, ref_time / times, label='speedup')\n",
    "ax2 = ax.twinx()\n",
    "ax2.plot(r, wer_ref - wers_fix, ls='-', label='WER')\n",
    "ax2.plot(r, cer_ref - cers_fix, ls=':', label='CER')\n",
    "# r, acc_ref - acc_direct\n",
    "ax.set_xlabel('rank')\n",
    "ax.set_ylabel('speedup')\n",
    "ax2.set_ylabel('accuracy drop')\n",
    "\n",
    "fig.suptitle('Network execution time and accuracy as function of rank')"
   ]
  },
  {
   "cell_type": "markdown",
   "metadata": {},
   "source": [
    "## Accuracy with initializing all dense layers but tuning LSTM"
   ]
  },
  {
   "cell_type": "code",
   "execution_count": 17,
   "metadata": {},
   "outputs": [],
   "source": [
    "tt_ranks = np.arange(2, 32, 1)\n",
    "shape = ((16, 2, 2, 2, 16), (16, 2, 2, 2, 16))"
   ]
  },
  {
   "cell_type": "code",
   "execution_count": 18,
   "metadata": {},
   "outputs": [],
   "source": [
    "dev_dataset = asr.dataset.Audio.from_csv('./data/dev-clean-index.csv', batch_size=8, use_filesizes=True, relative_paths=False)"
   ]
  },
  {
   "cell_type": "code",
   "execution_count": 19,
   "metadata": {},
   "outputs": [],
   "source": [
    "def get_tt_model_initdense(model, shape, dense_ranks, lstm_rank, lstm_r_rank):\n",
    "    replacement_config = {\n",
    "        'dense_2': {\n",
    "            'config': {\n",
    "                'name': 'tt_dense_2',\n",
    "                'input_dims': shape[0],\n",
    "                'output_dims' : shape[1],\n",
    "                'activation': 'linear',\n",
    "                'tt_rank': dense_ranks[0],\n",
    "            },\n",
    "        },\n",
    "       'dense_3': {\n",
    "            'config': {\n",
    "                'name': 'tt_dense_3',\n",
    "                'input_dims': shape[0],\n",
    "                'output_dims' : shape[1],\n",
    "                'activation': 'linear',\n",
    "                'tt_rank': dense_ranks[1],\n",
    "            },\n",
    "        },\n",
    "        'lstm': {\n",
    "            'cell_type': 'FusedTTLSTMCell',\n",
    "            'config': {\n",
    "                'name': 'tt_fusedlstm_0',\n",
    "                'input_dims': shape[0],\n",
    "                'output_dims': shape[1],\n",
    "                'tt_rank': lstm_rank,\n",
    "                'recurrent_tt_rank': lstm_r_rank,\n",
    "            },\n",
    "            'init': {\n",
    "                'kernel': {\n",
    "                    'max_tt_rank': lstm_rank,\n",
    "                    'epsilon': 0.0\n",
    "                },\n",
    "                'recurrent': {\n",
    "                    'max_tt_rank': lstm_r_rank,\n",
    "                    'epsilon': 0.0\n",
    "                }\n",
    "            }\n",
    "        },\n",
    "        'dense_4': {\n",
    "            'config': {\n",
    "                'name': 'tt_dense0',\n",
    "                'input_dims': shape[0],\n",
    "                'output_dims' : shape[1],\n",
    "                'activation': 'linear',\n",
    "                'tt_rank': dense_ranks[2],\n",
    "            },\n",
    "        },\n",
    "    }\n",
    "  \n",
    "    new_model = transform(model, replacement_config, from_layer=8)\n",
    "    new_model.trainable = True\n",
    "     \n",
    "    return new_model"
   ]
  },
  {
   "cell_type": "code",
   "execution_count": 20,
   "metadata": {},
   "outputs": [
    {
     "data": {
      "application/vnd.jupyter.widget-view+json": {
       "model_id": "373bbf834d0e44cfae0af63ee9376360",
       "version_major": 2,
       "version_minor": 0
      },
      "text/plain": [
       "HBox(children=(FloatProgress(value=0.0, max=30.0), HTML(value='')))"
      ]
     },
     "metadata": {},
     "output_type": "display_data"
    },
    {
     "name": "stdout",
     "output_type": "stream",
     "text": [
      "\n"
     ]
    }
   ],
   "source": [
    "for rank in tqdm(tt_ranks):\n",
    "    tt_model = get_tt_model_initdense(model, shape, [rank, rank, rank], rank, rank)\n",
    "    filename = f'./models/tt_ds_uniform_initdense_r{rank}.h5'\n",
    "    tt_model.save(filename, save_format='h5')"
   ]
  },
  {
   "cell_type": "code",
   "execution_count": null,
   "metadata": {},
   "outputs": [],
   "source": [
    "ranks, wers_initdense, cers_initdense = get_accuracy_by_rank(dev_dataset, './models/tt_ds_uniform_initdense_r{}.h5', tt_ranks)"
   ]
  },
  {
   "cell_type": "code",
   "execution_count": null,
   "metadata": {},
   "outputs": [],
   "source": [
    "fig, ax = plt.subplots(1, 1, figsize=(5, 5))\n",
    "\n",
    "ax.plot(ranks, ref_time / times, label='speedup')\n",
    "ax2 = ax.twinx()\n",
    "ax2.plot(r, wer_ref - wers_initdense, ls='-', label='WER')\n",
    "ax2.plot(r, cer_ref - cers_initdense, ls=':', label='CER')\n",
    "# r, acc_ref - acc_direct\n",
    "ax.set_xlabel('rank')\n",
    "ax.set_ylabel('speedup')\n",
    "ax2.set_ylabel('accuracy drop')\n",
    "\n",
    "fig.suptitle('Network execution time and accuracy as function of rank')"
   ]
  },
  {
   "cell_type": "markdown",
   "metadata": {},
   "source": [
    "## Accuracy with initializing all layers"
   ]
  },
  {
   "cell_type": "code",
   "execution_count": 24,
   "metadata": {},
   "outputs": [],
   "source": [
    "tt_ranks = np.arange(2, 32, 1)\n",
    "shape = ((16, 2, 2, 2, 16), (16, 2, 2, 2, 16))"
   ]
  },
  {
   "cell_type": "code",
   "execution_count": 25,
   "metadata": {},
   "outputs": [],
   "source": [
    "dev_dataset = asr.dataset.Audio.from_csv('./data/dev-clean-index.csv', batch_size=8, use_filesizes=True, relative_paths=False)"
   ]
  },
  {
   "cell_type": "code",
   "execution_count": 26,
   "metadata": {},
   "outputs": [],
   "source": [
    "def get_tt_model_initall(model, shape, dense_ranks, lstm_rank, lstm_r_rank):\n",
    "    replacement_config = {\n",
    "        'dense_2': {\n",
    "            'config': {\n",
    "                'name': 'tt_dense_2',\n",
    "                'input_dims': shape[0],\n",
    "                'output_dims' : shape[1],\n",
    "                'activation': 'linear',\n",
    "                'tt_rank': dense_ranks[0],\n",
    "            },\n",
    "        },\n",
    "       'dense_3': {\n",
    "            'config': {\n",
    "                'name': 'tt_dense_3',\n",
    "                'input_dims': shape[0],\n",
    "                'output_dims' : shape[1],\n",
    "                'activation': 'linear',\n",
    "                'tt_rank': dense_ranks[1],\n",
    "            },\n",
    "        },\n",
    "        'lstm': {\n",
    "            'cell_type': 'FusedTTLSTMCell',\n",
    "            'config': {\n",
    "                'name': 'tt_fusedlstm_0',\n",
    "                'input_dims': shape[0],\n",
    "                'output_dims': shape[1],\n",
    "                'tt_rank': lstm_rank,\n",
    "                'recurrent_tt_rank': lstm_r_rank,\n",
    "            },\n",
    "        },\n",
    "        'dense_4': {\n",
    "            'config': {\n",
    "                'name': 'tt_dense0',\n",
    "                'input_dims': shape[0],\n",
    "                'output_dims' : shape[1],\n",
    "                'activation': 'linear',\n",
    "                'tt_rank': dense_ranks[2],\n",
    "            },\n",
    "        },\n",
    "    }\n",
    "  \n",
    "    new_model = transform(model, replacement_config, from_layer=8)\n",
    "    new_model.trainable = True\n",
    "     \n",
    "    return new_model"
   ]
  },
  {
   "cell_type": "code",
   "execution_count": 27,
   "metadata": {},
   "outputs": [
    {
     "data": {
      "application/vnd.jupyter.widget-view+json": {
       "model_id": "622ee242788941af9cfb1ba1acca7821",
       "version_major": 2,
       "version_minor": 0
      },
      "text/plain": [
       "HBox(children=(FloatProgress(value=0.0, max=30.0), HTML(value='')))"
      ]
     },
     "metadata": {},
     "output_type": "display_data"
    },
    {
     "name": "stdout",
     "output_type": "stream",
     "text": [
      "\n"
     ]
    }
   ],
   "source": [
    "for rank in tqdm(tt_ranks):\n",
    "    tt_model = get_tt_model_initall(model, shape, [rank, rank, rank], rank, rank)\n",
    "    filename = f'./models/tt_ds_uniform_initall_r{rank}.h5'\n",
    "    tt_model.save(filename, save_format='h5')"
   ]
  },
  {
   "cell_type": "code",
   "execution_count": null,
   "metadata": {},
   "outputs": [],
   "source": [
    "ranks, wers_initall, cers_initall = get_accuracy_by_rank(dev_dataset, './models/tt_ds_uniform_initdense_r{}.h5', tt_ranks)"
   ]
  },
  {
   "cell_type": "code",
   "execution_count": null,
   "metadata": {},
   "outputs": [],
   "source": [
    "fig, ax = plt.subplots(1, 1, figsize=(5, 5))\n",
    "\n",
    "ax.plot(ranks, ref_time / times, label='speedup')\n",
    "ax2 = ax.twinx()\n",
    "ax2.plot(r, wer_ref - wers_initall, ls='-', label='WER')\n",
    "ax2.plot(r, cer_ref - cers_initall, ls=':', label='CER')\n",
    "# r, acc_ref - acc_direct\n",
    "ax.set_xlabel('rank')\n",
    "ax.set_ylabel('speedup')\n",
    "ax2.set_ylabel('accuracy drop')\n",
    "\n",
    "fig.suptitle('Network execution time and accuracy as function of rank')"
   ]
  }
 ],
 "metadata": {
  "kernelspec": {
   "display_name": "tf2",
   "language": "python",
   "name": "tf2"
  },
  "language_info": {
   "codemirror_mode": {
    "name": "ipython",
    "version": 3
   },
   "file_extension": ".py",
   "mimetype": "text/x-python",
   "name": "python",
   "nbconvert_exporter": "python",
   "pygments_lexer": "ipython3",
   "version": "3.7.7"
  },
  "toc": {
   "base_numbering": 1,
   "nav_menu": {},
   "number_sections": true,
   "sideBar": true,
   "skip_h1_title": false,
   "title_cell": "Table of Contents",
   "title_sidebar": "Contents",
   "toc_cell": false,
   "toc_position": {},
   "toc_section_display": true,
   "toc_window_display": false
  }
 },
 "nbformat": 4,
 "nbformat_minor": 4
}
