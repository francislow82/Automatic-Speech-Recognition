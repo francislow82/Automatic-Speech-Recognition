{
 "cells": [
  {
   "cell_type": "code",
   "execution_count": 1,
   "metadata": {},
   "outputs": [],
   "source": [
    "import tensorflow as tf\n",
    "# tf.debugging.set_log_device_placement(True)\n",
    "import tensorflow_addons as tfa\n",
    "import sys\n",
    "import os\n",
    "if os.path.abspath('../') not in sys.path:\n",
    "    sys.path.append(os.path.abspath('../'))\n",
    "\n",
    "\n",
    "import automatic_speech_recognition as asr\n",
    "import time\n",
    "from datetime import datetime\n",
    "import argparse\n",
    "import pickle"
   ]
  },
  {
   "cell_type": "code",
   "execution_count": 2,
   "metadata": {},
   "outputs": [],
   "source": [
    "import numpy as np\n",
    "import pandas as pd\n"
   ]
  },
  {
   "cell_type": "code",
   "execution_count": 3,
   "metadata": {},
   "outputs": [],
   "source": [
    "from tensorflow import keras\n",
    "from tensorflow.keras.callbacks import LearningRateScheduler\n",
    "from tensorflow.keras.mixed_precision import experimental as mixed_precision"
   ]
  },
  {
   "cell_type": "code",
   "execution_count": 4,
   "metadata": {},
   "outputs": [],
   "source": [
    "from automatic_speech_recognition.model.quartznet import QUARTZNET_LAYERS"
   ]
  },
  {
   "cell_type": "code",
   "execution_count": 5,
   "metadata": {},
   "outputs": [],
   "source": [
    "import horovod.tensorflow.keras as hvd"
   ]
  },
  {
   "cell_type": "code",
   "execution_count": 6,
   "metadata": {},
   "outputs": [],
   "source": [
    "#%load_ext tensorboard\n",
    "#%tensorboard --logdir=./models/ --port=32779"
   ]
  },
  {
   "cell_type": "code",
   "execution_count": 7,
   "metadata": {},
   "outputs": [
    {
     "name": "stdout",
     "output_type": "stream",
     "text": [
      "Automatic pdb calling has been turned OFF\n"
     ]
    }
   ],
   "source": [
    "%pdb off"
   ]
  },
  {
   "cell_type": "markdown",
   "metadata": {},
   "source": [
    "## Train"
   ]
  },
  {
   "cell_type": "code",
   "execution_count": 8,
   "metadata": {},
   "outputs": [],
   "source": [
    "#os.environ[\"CUDA_VISIBLE_DEVICES\"] = \"-1\""
   ]
  },
  {
   "cell_type": "code",
   "execution_count": 9,
   "metadata": {},
   "outputs": [],
   "source": [
    "# Initialize Horovod\n",
    "hvd.init()\n",
    "# Pin GPU to be used to process local rank (one GPU per process)\n",
    "gpus = tf.config.experimental.list_physical_devices('GPU')\n",
    "for gpu in gpus:\n",
    "    tf.config.experimental.set_memory_growth(gpu, True)\n",
    "if gpus:\n",
    "    tf.config.experimental.set_visible_devices(gpus[hvd.local_rank()], 'GPU')"
   ]
  },
  {
   "cell_type": "code",
   "execution_count": 10,
   "metadata": {},
   "outputs": [],
   "source": [
    "def get_pipeline(model, optimizer=None):\n",
    "    alphabet = asr.text.Alphabet(lang='en')\n",
    "    features_extractor = asr.features.FilterBanks(\n",
    "        features_num=64,\n",
    "        standardize=None,\n",
    "        winlen=0.02,\n",
    "        winstep=0.01,\n",
    "    )\n",
    "    if not optimizer:\n",
    "        optimizer = tf.optimizers.Adam(lr=1e-3, beta_1=0.9, beta_2=0.999)\n",
    "    decoder = asr.decoder.GreedyDecoder()\n",
    "    pipeline = asr.pipeline.CTCPipeline(\n",
    "        alphabet, features_extractor, model, optimizer, decoder\n",
    "    )\n",
    "    return pipeline"
   ]
  },
  {
   "cell_type": "code",
   "execution_count": null,
   "metadata": {},
   "outputs": [],
   "source": []
  },
  {
   "cell_type": "code",
   "execution_count": 11,
   "metadata": {},
   "outputs": [],
   "source": [
    "def train_model(filename, dataset_idx, val_dataset_idx=None, initial_lr=0.001, batch_size=10, epochs=25, tensorboard=False, restart_filename=None,\n",
    "               is_mixed_precision=False, n_blocks=1):\n",
    "    basename = os.path.basename(filename).split('.')[0]\n",
    "    model_dir = os.path.join(os.path.dirname(filename), basename + '_train')\n",
    "    os.makedirs(model_dir, exist_ok=True)\n",
    "    \n",
    "    model = asr.model.get_quartznet(64, 29, is_mixed_precision=is_mixed_precision, num_b_block_repeats=n_blocks)\n",
    "\n",
    "    if restart_filename:\n",
    "        model.load_weights(restart_filename)\n",
    "    \n",
    "    batch_size_global = batch_size * hvd.size()\n",
    "    initial_lr_global = initial_lr * hvd.size()\n",
    "    \n",
    "    dataset = asr.dataset.Audio.from_csv(dataset_idx, batch_size=batch_size_global, use_filesizes=True)\n",
    "    dataset.sort_by_length()\n",
    "    dataset.shuffle_indices()\n",
    "    if val_dataset_idx:\n",
    "        val_dataset = asr.dataset.Audio.from_csv(val_dataset_idx, batch_size=batch_size_global, use_filesizes=True)\n",
    "\n",
    "    opt_instance = tf.optimizers.Adam(initial_lr_global, beta_1=0.9, beta_2=0.999)\n",
    "    #opt_instance = tfa.optimizers.NovoGrad(initial_lr_global, beta_1=0.95, beta_2=0.5, weight_decay=0.001)\n",
    "\n",
    "    opt = hvd.DistributedOptimizer(opt_instance)\n",
    "    pipeline = get_pipeline(model, opt)\n",
    "    \n",
    "    callbacks = [\n",
    "        hvd.callbacks.BroadcastGlobalVariablesCallback(0),\n",
    "        hvd.callbacks.MetricAverageCallback(),\n",
    "    ]\n",
    "    schedule=tf.keras.experimental.CosineDecayRestarts(\n",
    "        initial_lr_global, 10, t_mul=2.0, m_mul=1.0, alpha=0.0,\n",
    "    )\n",
    "    callbacks.append(LearningRateScheduler(schedule))\n",
    "    if hvd.rank() == 0:\n",
    "        prefix = datetime.now().strftime(\"%Y%m%d-%H%M%S\")\n",
    "        monitor_metric_name = 'loss' # if not val_dataset_idx else 'val_loss'  # val_loss is wrong and broken\n",
    "        callbacks.append(\n",
    "            keras.callbacks.ModelCheckpoint(\n",
    "                os.path.join(model_dir, prefix + '_best.h5'),\n",
    "                monitor=monitor_metric_name, save_weights_only=True,\n",
    "                save_best_only=True))\n",
    "        if tensorboard:\n",
    "            logdir = os.path.join(model_dir, 'tb', prefix)\n",
    "            tensorboard_callback = keras.callbacks.TensorBoard(log_dir=logdir)\n",
    "            callbacks.append(tensorboard_callback)\n",
    "\n",
    "    time_start = time.time()\n",
    "\n",
    "    hist = pipeline.fit(dataset, epochs=epochs, dev_dataset=val_dataset,\n",
    "                        #steps_per_epoch=270,\n",
    "                        callbacks=callbacks,\n",
    "                        verbose=1 if hvd.rank() == 0 else 0)\n",
    "    elapsed = time.time() - time_start\n",
    "    \n",
    "    if hvd.rank() == 0:\n",
    "        print(f'Elapsed time: {elapsed}')\n",
    "        #np.save(os.path.join(model_dir, prefix + '_hist.p'), np.array(hist))"
   ]
  },
  {
   "cell_type": "code",
   "execution_count": 12,
   "metadata": {},
   "outputs": [],
   "source": [
    "#train_model(\n",
    "#    filename='./models/quartznet_5x5_mp.h5', \n",
    "#    dataset_idx='./data/train-clean-100-index.csv',\n",
    "#    val_dataset_idx='./data/dev-clean-index.csv',\n",
    "#    is_mixed_precision=True,\n",
    "#    batch_size=32,\n",
    "#    initial_lr=0.005,\n",
    "#    epochs=100,\n",
    "#    tensorboard=False,\n",
    "#    restart_filename=None,\n",
    "#)"
   ]
  },
  {
   "cell_type": "code",
   "execution_count": null,
   "metadata": {},
   "outputs": [],
   "source": []
  },
  {
   "cell_type": "code",
   "execution_count": 16,
   "metadata": {},
   "outputs": [],
   "source": [
    "dataset = asr.dataset.Audio.from_csv('./data/train-clean-100-index.csv', batch_size=128, use_filesizes=True)\n",
    "extractor = asr.features.FilterBanks(features_num=64, winlen=0.02, winstep=0.01)"
   ]
  },
  {
   "cell_type": "code",
   "execution_count": 24,
   "metadata": {},
   "outputs": [],
   "source": [
    "ft, ln = extractor(dataset.get_batch(0)[0])"
   ]
  },
  {
   "cell_type": "code",
   "execution_count": 27,
   "metadata": {},
   "outputs": [
    {
     "data": {
      "text/plain": [
       "13721600"
      ]
     },
     "execution_count": 27,
     "metadata": {},
     "output_type": "execute_result"
    }
   ],
   "source": [
    "np.array(ft).size"
   ]
  },
  {
   "cell_type": "markdown",
   "metadata": {},
   "source": [
    "'rnn_72' => 'rnn_216' [13], 'time_distributed_144' => 'time_distributed_431' [10], 'time_distributed_145' => 'time_distributed_432' [15]"
   ]
  },
  {
   "cell_type": "code",
   "execution_count": null,
   "metadata": {},
   "outputs": [],
   "source": [
    "if __name__ == '__main__':\n",
    "    parser = argparse.ArgumentParser(\n",
    "        description='Train ctc asr model')\n",
    "    parser.add_argument('--filename', type=str,\n",
    "                        help='filename of the model')\n",
    "    parser.add_argument('--dataset', type=str,\n",
    "                        help='path to the dataset index',)\n",
    "    parser.add_argument('--val_dataset', type=str,\n",
    "                        help='path to the validation dataset index (optional)',\n",
    "                        default=None)\n",
    "    parser.add_argument('--batch_size', type=int,\n",
    "                       help='batch size for training and validation',\n",
    "                       default=10)\n",
    "    parser.add_argument('--lr', type=float,\n",
    "                       help='initial learning rate',\n",
    "                       default=0.005)\n",
    "    parser.add_argument('--epochs', type=int,\n",
    "                       help='number of epochs to use for training',\n",
    "                       default=25)\n",
    "    parser.add_argument('--tensorboard', type=bool,\n",
    "                       help='if tensorboard log will be written',\n",
    "                       default=False)\n",
    "    parser.add_argument('--restart_filename', type=str,\n",
    "                       help='filename of the checkpoint to restart from',\n",
    "                       default=None)\n",
    "    parser.add_argument('--mp', type=bool,\n",
    "                       help='if mixed precision training is requested',\n",
    "                       default=False)\n",
    "    args = parser.parse_args()\n",
    "    \n",
    "    train_model(filename=args.filename, dataset_idx=args.dataset,\n",
    "                val_dataset_idx=args.val_dataset, epochs=args.epochs,\n",
    "                tensorboard=args.tensorboard, restart_filename=args.restart_filename,\n",
    "                is_mixed_precision=args.mp, initial_lr=args.lr)"
   ]
  },
  {
   "cell_type": "markdown",
   "metadata": {},
   "source": [
    "training times: 25 epochs - 10 batch / epoch\n",
    " tt mixed - gpu - 9427s - batch = 1\n",
    " tt mixed - cpu - 29900s - batch = 1\n",
    " tt full  - cpu - 14050s - batch = 1"
   ]
  },
  {
   "cell_type": "code",
   "execution_count": null,
   "metadata": {},
   "outputs": [],
   "source": []
  },
  {
   "cell_type": "code",
   "execution_count": 13,
   "metadata": {},
   "outputs": [],
   "source": []
  },
  {
   "cell_type": "code",
   "execution_count": null,
   "metadata": {},
   "outputs": [],
   "source": []
  },
  {
   "cell_type": "code",
   "execution_count": null,
   "metadata": {},
   "outputs": [],
   "source": []
  },
  {
   "cell_type": "code",
   "execution_count": null,
   "metadata": {},
   "outputs": [],
   "source": []
  },
  {
   "cell_type": "code",
   "execution_count": null,
   "metadata": {},
   "outputs": [],
   "source": []
  },
  {
   "cell_type": "code",
   "execution_count": null,
   "metadata": {},
   "outputs": [],
   "source": []
  }
 ],
 "metadata": {
  "kernelspec": {
   "display_name": "asr",
   "language": "python",
   "name": "asr"
  },
  "language_info": {
   "codemirror_mode": {
    "name": "ipython",
    "version": 3
   },
   "file_extension": ".py",
   "mimetype": "text/x-python",
   "name": "python",
   "nbconvert_exporter": "python",
   "pygments_lexer": "ipython3",
   "version": "3.7.1"
  },
  "toc": {
   "base_numbering": 1,
   "nav_menu": {},
   "number_sections": true,
   "sideBar": true,
   "skip_h1_title": false,
   "title_cell": "Table of Contents",
   "title_sidebar": "Contents",
   "toc_cell": false,
   "toc_position": {},
   "toc_section_display": true,
   "toc_window_display": false
  }
 },
 "nbformat": 4,
 "nbformat_minor": 4
}
