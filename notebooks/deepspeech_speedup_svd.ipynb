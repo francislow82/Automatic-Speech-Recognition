{
 "cells": [
  {
   "cell_type": "code",
   "execution_count": 1,
   "metadata": {},
   "outputs": [
    {
     "name": "stdout",
     "output_type": "stream",
     "text": [
      "Automatic pdb calling has been turned ON\n"
     ]
    }
   ],
   "source": [
    "%pdb on"
   ]
  },
  {
   "cell_type": "code",
   "execution_count": 2,
   "metadata": {
    "scrolled": true
   },
   "outputs": [],
   "source": [
    "import numpy as np\n",
    "import tensorflow as tf\n",
    "import sys\n",
    "import os\n",
    "if os.path.abspath('../') not in sys.path:\n",
    "    sys.path.append(os.path.abspath('../'))\n",
    "if os.path.abspath('../../tt_keras') not in sys.path:\n",
    "    sys.path.append(os.path.abspath('../../tt_keras'))\n",
    "\n",
    "if os.path.abspath('../../t3f') not in sys.path:\n",
    "    sys.path.append(os.path.abspath('../../t3f'))\n",
    "\n",
    "import automatic_speech_recognition as asr\n",
    "import time\n",
    "from datetime import datetime"
   ]
  },
  {
   "cell_type": "code",
   "execution_count": 3,
   "metadata": {},
   "outputs": [],
   "source": [
    "import numpy as np\n",
    "import pandas as pd\n",
    "import matplotlib.pyplot as plt\n",
    "import matplotlib.image as mpimg\n",
    "from tqdm.notebook import tqdm"
   ]
  },
  {
   "cell_type": "code",
   "execution_count": 4,
   "metadata": {},
   "outputs": [],
   "source": [
    "import horovod.tensorflow.keras as hvd"
   ]
  },
  {
   "cell_type": "code",
   "execution_count": 5,
   "metadata": {},
   "outputs": [],
   "source": [
    "hvd.init()\n",
    "# Pin GPU to be used to process local rank (one GPU per process)\n",
    "gpus = tf.config.experimental.list_physical_devices('GPU')\n",
    "for gpu in gpus:\n",
    "    tf.config.experimental.set_memory_growth(gpu, True)\n",
    "if gpus:\n",
    "    tf.config.experimental.set_visible_devices(gpus[hvd.local_rank()], 'GPU')"
   ]
  },
  {
   "cell_type": "code",
   "execution_count": 6,
   "metadata": {},
   "outputs": [],
   "source": [
    "from tensorflow import keras\n",
    "from tensorflow.keras.callbacks import LearningRateScheduler\n",
    "from tensorflow.keras.mixed_precision import experimental as mixed_precision"
   ]
  },
  {
   "cell_type": "markdown",
   "metadata": {},
   "source": [
    "## The model / pipeline"
   ]
  },
  {
   "cell_type": "code",
   "execution_count": 7,
   "metadata": {},
   "outputs": [],
   "source": [
    "def get_pipeline(model, optimizer=None):\n",
    "    alphabet = asr.text.Alphabet(lang='en')\n",
    "    features_extractor = asr.features.MFCC_legacy(\n",
    "        features_num=26,\n",
    "        standardize=None,\n",
    "        winlen=0.032,\n",
    "        winstep=0.02,\n",
    "    )\n",
    "    if not optimizer:\n",
    "        optimizer = tf.optimizers.Adam(lr=1e-3, beta_1=0.9, beta_2=0.999)\n",
    "    decoder = asr.decoder.GreedyDecoder()\n",
    "    pipeline = asr.pipeline.CTCPipeline(\n",
    "        alphabet, features_extractor, model, optimizer, decoder\n",
    "    )\n",
    "    callbacks = []\n",
    "    return pipeline"
   ]
  },
  {
   "cell_type": "code",
   "execution_count": 8,
   "metadata": {},
   "outputs": [],
   "source": [
    "dev_dataset = asr.dataset.Audio.from_csv('./data/dev-clean-index.csv', batch_size=24, use_filesizes=True)"
   ]
  },
  {
   "cell_type": "code",
   "execution_count": 9,
   "metadata": {},
   "outputs": [],
   "source": [
    "model = asr.model.load_mozilla_deepspeech('./data/mozilla_deepspeech.pb', is_mixed_precision=False)"
   ]
  },
  {
   "cell_type": "code",
   "execution_count": 10,
   "metadata": {
    "scrolled": true
   },
   "outputs": [
    {
     "name": "stdout",
     "output_type": "stream",
     "text": [
      "Failed to import pydot. You must install pydot and graphviz for `pydotprint` to work.\n"
     ]
    }
   ],
   "source": [
    "tf.keras.utils.plot_model(model, 'model.png', show_shapes=True)"
   ]
  },
  {
   "cell_type": "code",
   "execution_count": 11,
   "metadata": {
    "scrolled": true
   },
   "outputs": [],
   "source": [
    "pipeline = get_pipeline(model)"
   ]
  },
  {
   "cell_type": "markdown",
   "metadata": {},
   "source": [
    "### Evaluation"
   ]
  },
  {
   "cell_type": "code",
   "execution_count": null,
   "metadata": {
    "scrolled": true
   },
   "outputs": [
    {
     "name": "stdout",
     "output_type": "stream",
     "text": [
      "WARNING:tensorflow:5 out of the last 5 calls to <function Model.make_predict_function.<locals>.predict_function at 0x1554701482f0> triggered tf.function retracing. Tracing is expensive and the excessive number of tracings is likely due to passing python objects instead of tensors. Also, tf.function has experimental_relax_shapes=True option that relaxes argument shapes that can avoid unnecessary retracing. Please refer to https://www.tensorflow.org/tutorials/customization/performance#python_or_tensor_args and https://www.tensorflow.org/api_docs/python/tf/function for more details.\n",
      "WARNING:tensorflow:6 out of the last 6 calls to <function Model.make_predict_function.<locals>.predict_function at 0x1554701482f0> triggered tf.function retracing. Tracing is expensive and the excessive number of tracings is likely due to passing python objects instead of tensors. Also, tf.function has experimental_relax_shapes=True option that relaxes argument shapes that can avoid unnecessary retracing. Please refer to https://www.tensorflow.org/tutorials/customization/performance#python_or_tensor_args and https://www.tensorflow.org/api_docs/python/tf/function for more details.\n",
      "WARNING:tensorflow:7 out of the last 7 calls to <function Model.make_predict_function.<locals>.predict_function at 0x1554701482f0> triggered tf.function retracing. Tracing is expensive and the excessive number of tracings is likely due to passing python objects instead of tensors. Also, tf.function has experimental_relax_shapes=True option that relaxes argument shapes that can avoid unnecessary retracing. Please refer to https://www.tensorflow.org/tutorials/customization/performance#python_or_tensor_args and https://www.tensorflow.org/api_docs/python/tf/function for more details.\n"
     ]
    }
   ],
   "source": [
    "start = time.time()\n",
    "wer_ref, cer_ref = asr.evaluate.calculate_error_rates(pipeline, dev_dataset, print_pred=False)\n",
    "elapsed_time = time.time() - start\n",
    "print(f'WER: {wer_ref}   CER: {cer_ref}')\n",
    "print(f'Elapsed time {elapsed_time}')"
   ]
  },
  {
   "cell_type": "markdown",
   "metadata": {},
   "source": [
    "### Training script"
   ]
  },
  {
   "cell_type": "code",
   "execution_count": null,
   "metadata": {},
   "outputs": [],
   "source": [
    "def train_model(model, dataset_idx, val_dataset_idx=None, initial_lr=0.001,\n",
    "                batch_size=10, epochs=25,\n",
    "                restart_filename=None):\n",
    "\n",
    "    if restart_filename:\n",
    "        model.load_weights(restart_filename)\n",
    "    \n",
    "    initial_lr_global = initial_lr * hvd.size()\n",
    "    \n",
    "    dataset = asr.dataset.Audio.from_csv(\n",
    "        dataset_idx, batch_size=batch_size, max_filesize=750000,\n",
    "        use_filesizes=True, group_size=hvd.size(), rank=hvd.rank())\n",
    "    dataset.sort_by_length()\n",
    "    #dataset._references = dataset._references[-batch_size*2:]\n",
    "    #dataset._indices = np.arange(len(dataset))\n",
    "    dataset.shuffle_indices()\n",
    "\n",
    "    print(f'Group size: {hvd.size()} rank {hvd.rank()} got {len(dataset)} batches')\n",
    "\n",
    "    if val_dataset_idx:\n",
    "        val_dataset = asr.dataset.Audio.from_csv(\n",
    "            val_dataset_idx, batch_size=batch_size, use_filesizes=True,\n",
    "            group_size=hvd.size(), rank=hvd.rank())\n",
    "\n",
    "        print(f'Group size: {hvd.size()} rank {hvd.rank()} got {len(val_dataset)} val batches')\n",
    "\n",
    "    opt_instance = tf.optimizers.Adam(initial_lr_global)\n",
    "\n",
    "    opt = hvd.DistributedOptimizer(opt_instance)\n",
    "    pipeline = get_pipeline(model, opt)\n",
    "    \n",
    "    callbacks = [\n",
    "        hvd.callbacks.BroadcastGlobalVariablesCallback(0),\n",
    "        hvd.callbacks.MetricAverageCallback(),\n",
    "    ]\n",
    "\n",
    "    time_start = time.time()\n",
    "        \n",
    "    if hvd.rank() == 0:\n",
    "        prefix = datetime.now().strftime(\"%Y%m%d-%H%M%S\")\n",
    "        print('Will save to: {}'.format(prefix))\n",
    "        monitor_metric_name = 'loss' if not val_dataset_idx else 'val_loss'  # val_loss is wrong and broken\n",
    "        callbacks.append(\n",
    "            keras.callbacks.ModelCheckpoint(\n",
    "                prefix + '_best.h5',\n",
    "                monitor=monitor_metric_name, save_weights_only=True,\n",
    "                save_best_only=True))\n",
    "\n",
    "    hist = pipeline.fit(dataset, dev_dataset=None, # val_dataset,\n",
    "                        augmentation=None,\n",
    "                        epochs=epochs,\n",
    "                        #steps_per_epoch=270,\n",
    "                        callbacks=callbacks,\n",
    "                        verbose=1 if hvd.rank() == 0 else 0)\n",
    "        \n",
    "    elapsed = time.time() - time_start\n",
    "    \n",
    "    if hvd.rank() == 0:\n",
    "        print(f'Elapsed time: {elapsed}')\n",
    "\n",
    "    return model, hist"
   ]
  },
  {
   "cell_type": "markdown",
   "metadata": {},
   "source": [
    "### Training"
   ]
  },
  {
   "cell_type": "code",
   "execution_count": null,
   "metadata": {},
   "outputs": [],
   "source": [
    "model, hist = train_model(model, dataset_idx='./data/train-clean-360-index.csv',\n",
    "                          val_dataset_idx='./data/dev-clean-index.csv',\n",
    "                          batch_size=24, epochs=1)"
   ]
  },
  {
   "cell_type": "code",
   "execution_count": null,
   "metadata": {},
   "outputs": [],
   "source": []
  }
 ],
 "metadata": {
  "kernelspec": {
   "display_name": "asr",
   "language": "python",
   "name": "asr"
  },
  "language_info": {
   "codemirror_mode": {
    "name": "ipython",
    "version": 3
   },
   "file_extension": ".py",
   "mimetype": "text/x-python",
   "name": "python",
   "nbconvert_exporter": "python",
   "pygments_lexer": "ipython3",
   "version": "3.7.1"
  },
  "toc": {
   "base_numbering": 1,
   "nav_menu": {},
   "number_sections": true,
   "sideBar": true,
   "skip_h1_title": false,
   "title_cell": "Table of Contents",
   "title_sidebar": "Contents",
   "toc_cell": false,
   "toc_position": {},
   "toc_section_display": true,
   "toc_window_display": false
  }
 },
 "nbformat": 4,
 "nbformat_minor": 4
}
