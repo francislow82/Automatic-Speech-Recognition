{
 "cells": [
  {
   "cell_type": "code",
   "execution_count": 1,
   "metadata": {},
   "outputs": [],
   "source": [
    "import numpy as np\n",
    "import tensorflow as tf\n",
    "from tensorflow import keras\n",
    "import sys\n",
    "import os\n",
    "if os.path.abspath('../') not in sys.path:\n",
    "    sys.path.append(os.path.abspath('../'))\n",
    "if os.path.abspath('../../tt_keras') not in sys.path:\n",
    "    sys.path.append(os.path.abspath('../../tt_keras'))\n",
    "\n",
    "if os.path.abspath('../../t3f') not in sys.path:\n",
    "    sys.path.append(os.path.abspath('../../t3f'))\n",
    "\n",
    "import automatic_speech_recognition as asr\n",
    "from automatic_speech_recognition.utils.graph_utils import fixate_rnn_shape\n",
    "import time\n",
    "\n",
    "import numpy as np\n",
    "import pandas as pd\n",
    "import matplotlib.pyplot as plt\n",
    "import matplotlib.image as mpimg\n",
    "from tqdm.notebook import tqdm\n",
    "\n",
    "os.environ['PATH'] += ':/gpfs/gpfs0/r.schutski/'"
   ]
  },
  {
   "cell_type": "markdown",
   "metadata": {},
   "source": [
    "# Testing utilities"
   ]
  },
  {
   "cell_type": "code",
   "execution_count": 2,
   "metadata": {},
   "outputs": [],
   "source": [
    "from glob import glob\n",
    "import json\n",
    "from tflite_device_profile import (check_device, run_on_device, parse_profiler_output, batch_profile)\n",
    "from tflite_device_profile import DEFAULT_PROF_CONFIG as config\n",
    "from h5_to_tflite import (export_model, batch_export)"
   ]
  },
  {
   "cell_type": "code",
   "execution_count": 39,
   "metadata": {},
   "outputs": [
    {
     "name": "stdout",
     "output_type": "stream",
     "text": [
      "Found device: AEJ0117C11000167\n"
     ]
    }
   ],
   "source": [
    "os.environ['ANDROID_ADB_SERVER_PORT'] = '5039'  # select which ADB to use. 5037 - local, 5038 - remote\n",
    "\n",
    "check_device(True, adb_cmd='adb-1.0.39')\n",
    "\n",
    "# Turn off phone's gpu usage, it can't handle anything\n",
    "config['use_gpu'] = False\n",
    "config['num_threads'] = 4\n",
    "config['enable_op_profiling'] = False\n",
    "config['num_runs'] = 1000\n",
    "cpu_affinity = [0, 1, 2, 3]"
   ]
  },
  {
   "cell_type": "markdown",
   "metadata": {},
   "source": [
    "# Test original deepspeech"
   ]
  },
  {
   "cell_type": "code",
   "execution_count": 4,
   "metadata": {},
   "outputs": [
    {
     "name": "stdout",
     "output_type": "stream",
     "text": [
      "load graph\n",
      "WARNING:tensorflow:From /gpfs/data/home/g.leleitner/lab/Horovod/Automatic-Speech-Recognition/automatic_speech_recognition/utils/utils.py:117: FastGFile.__init__ (from tensorflow.python.platform.gfile) is deprecated and will be removed in a future version.\n",
      "Instructions for updating:\n",
      "Use tf.gfile.GFile.\n",
      "WARNING:tensorflow:Layer lstm_1 will not use cuDNN kernel since it doesn't meet the cuDNN kernel criteria. It will use generic GPU kernel as fallback when running on GPU\n",
      "converting: ./models/mozilla_deepspeech_tfliteready.h5 => ./tflite_models/mozilla_deepspeech.tflite\n",
      "WARNING:tensorflow:Layer lstm_1 will not use cuDNN kernel since it doesn't meet the cuDNN kernel criteria. It will use generic GPU kernel as fallback when running on GPU\n",
      "WARNING:tensorflow:No training configuration found in the save file, so the model was *not* compiled. Compile it manually.\n"
     ]
    }
   ],
   "source": [
    "deepspeech = asr.model.load_mozilla_deepspeech('./data/myfrozen.pb', verbose=False)\n",
    "fixate_rnn_shape(deepspeech, 1).save(f'./models/mozilla_deepspeech_tfliteready.h5')\n",
    "export_model(f'./models/mozilla_deepspeech_tfliteready.h5', f'./tflite_models/mozilla_deepspeech.tflite', run_tests=True)"
   ]
  },
  {
   "cell_type": "code",
   "execution_count": 40,
   "metadata": {},
   "outputs": [
    {
     "name": "stdout",
     "output_type": "stream",
     "text": [
      "Reference time 43391.9 +- 9756.0\n"
     ]
    }
   ],
   "source": [
    "# profile reference model\n",
    "ref_res = run_on_device('./tflite_models/mozilla_deepspeech.tflite', \n",
    "                        prof_config=config, \n",
    "                        cpu_affinity=cpu_affinity)\n",
    "ref_result = parse_profiler_output(ref_res, is_file=False)\n",
    "ref_result\n",
    "\n",
    "ref_time = float(ref_result['main']['avg'])\n",
    "ref_std = float(ref_result['main']['std'])\n",
    "\n",
    "print(f\"Reference time {ref_time} +- {ref_std}\")"
   ]
  },
  {
   "cell_type": "markdown",
   "metadata": {},
   "source": [
    "# Convert maxvol models to tflite"
   ]
  },
  {
   "cell_type": "code",
   "execution_count": 6,
   "metadata": {
    "collapsed": true,
    "jupyter": {
     "outputs_hidden": true
    }
   },
   "outputs": [
    {
     "name": "stdout",
     "output_type": "stream",
     "text": [
      "Start fixating desnse4_2vol_maxvolled_deepspeech_r700\n",
      "WARNING:tensorflow:No training configuration found in the save file, so the model was *not* compiled. Compile it manually.\n"
     ]
    },
    {
     "name": "stderr",
     "output_type": "stream",
     "text": [
      "WARNING:tensorflow:No training configuration found in the save file, so the model was *not* compiled. Compile it manually.\n"
     ]
    },
    {
     "name": "stdout",
     "output_type": "stream",
     "text": [
      "WARNING:tensorflow:Layer lstm_38 will not use cuDNN kernel since it doesn't meet the cuDNN kernel criteria. It will use generic GPU kernel as fallback when running on GPU\n"
     ]
    },
    {
     "name": "stderr",
     "output_type": "stream",
     "text": [
      "WARNING:tensorflow:Layer lstm_38 will not use cuDNN kernel since it doesn't meet the cuDNN kernel criteria. It will use generic GPU kernel as fallback when running on GPU\n"
     ]
    },
    {
     "name": "stdout",
     "output_type": "stream",
     "text": [
      "converting: ./models/desnse4_2vol_maxvolled_deepspeech_r700_tfliteready.h5 => ./tflite_models/desnse4_2vol_maxvolled_deepspeech_r700.tflite\n",
      "WARNING:tensorflow:Layer lstm_38 will not use cuDNN kernel since it doesn't meet the cuDNN kernel criteria. It will use generic GPU kernel as fallback when running on GPU\n"
     ]
    },
    {
     "name": "stderr",
     "output_type": "stream",
     "text": [
      "WARNING:tensorflow:Layer lstm_38 will not use cuDNN kernel since it doesn't meet the cuDNN kernel criteria. It will use generic GPU kernel as fallback when running on GPU\n"
     ]
    },
    {
     "name": "stdout",
     "output_type": "stream",
     "text": [
      "WARNING:tensorflow:No training configuration found in the save file, so the model was *not* compiled. Compile it manually.\n"
     ]
    },
    {
     "name": "stderr",
     "output_type": "stream",
     "text": [
      "WARNING:tensorflow:No training configuration found in the save file, so the model was *not* compiled. Compile it manually.\n"
     ]
    },
    {
     "name": "stdout",
     "output_type": "stream",
     "text": [
      "Start fixating desnse4_2vol_maxvolled_deepspeech_r1500\n",
      "WARNING:tensorflow:No training configuration found in the save file, so the model was *not* compiled. Compile it manually.\n"
     ]
    },
    {
     "name": "stderr",
     "output_type": "stream",
     "text": [
      "WARNING:tensorflow:No training configuration found in the save file, so the model was *not* compiled. Compile it manually.\n"
     ]
    },
    {
     "name": "stdout",
     "output_type": "stream",
     "text": [
      "WARNING:tensorflow:Layer lstm_30 will not use cuDNN kernel since it doesn't meet the cuDNN kernel criteria. It will use generic GPU kernel as fallback when running on GPU\n"
     ]
    },
    {
     "name": "stderr",
     "output_type": "stream",
     "text": [
      "WARNING:tensorflow:Layer lstm_30 will not use cuDNN kernel since it doesn't meet the cuDNN kernel criteria. It will use generic GPU kernel as fallback when running on GPU\n"
     ]
    },
    {
     "name": "stdout",
     "output_type": "stream",
     "text": [
      "converting: ./models/desnse4_2vol_maxvolled_deepspeech_r1500_tfliteready.h5 => ./tflite_models/desnse4_2vol_maxvolled_deepspeech_r1500.tflite\n",
      "WARNING:tensorflow:Layer lstm_30 will not use cuDNN kernel since it doesn't meet the cuDNN kernel criteria. It will use generic GPU kernel as fallback when running on GPU\n"
     ]
    },
    {
     "name": "stderr",
     "output_type": "stream",
     "text": [
      "WARNING:tensorflow:Layer lstm_30 will not use cuDNN kernel since it doesn't meet the cuDNN kernel criteria. It will use generic GPU kernel as fallback when running on GPU\n"
     ]
    },
    {
     "name": "stdout",
     "output_type": "stream",
     "text": [
      "WARNING:tensorflow:No training configuration found in the save file, so the model was *not* compiled. Compile it manually.\n"
     ]
    },
    {
     "name": "stderr",
     "output_type": "stream",
     "text": [
      "WARNING:tensorflow:No training configuration found in the save file, so the model was *not* compiled. Compile it manually.\n"
     ]
    },
    {
     "name": "stdout",
     "output_type": "stream",
     "text": [
      "Start fixating desnse4_2vol_maxvolled_deepspeech_r100\n",
      "WARNING:tensorflow:No training configuration found in the save file, so the model was *not* compiled. Compile it manually.\n"
     ]
    },
    {
     "name": "stderr",
     "output_type": "stream",
     "text": [
      "WARNING:tensorflow:No training configuration found in the save file, so the model was *not* compiled. Compile it manually.\n"
     ]
    },
    {
     "name": "stdout",
     "output_type": "stream",
     "text": [
      "WARNING:tensorflow:Layer lstm_44 will not use cuDNN kernel since it doesn't meet the cuDNN kernel criteria. It will use generic GPU kernel as fallback when running on GPU\n"
     ]
    },
    {
     "name": "stderr",
     "output_type": "stream",
     "text": [
      "WARNING:tensorflow:Layer lstm_44 will not use cuDNN kernel since it doesn't meet the cuDNN kernel criteria. It will use generic GPU kernel as fallback when running on GPU\n"
     ]
    },
    {
     "name": "stdout",
     "output_type": "stream",
     "text": [
      "converting: ./models/desnse4_2vol_maxvolled_deepspeech_r100_tfliteready.h5 => ./tflite_models/desnse4_2vol_maxvolled_deepspeech_r100.tflite\n",
      "WARNING:tensorflow:Layer lstm_44 will not use cuDNN kernel since it doesn't meet the cuDNN kernel criteria. It will use generic GPU kernel as fallback when running on GPU\n"
     ]
    },
    {
     "name": "stderr",
     "output_type": "stream",
     "text": [
      "WARNING:tensorflow:Layer lstm_44 will not use cuDNN kernel since it doesn't meet the cuDNN kernel criteria. It will use generic GPU kernel as fallback when running on GPU\n"
     ]
    },
    {
     "name": "stdout",
     "output_type": "stream",
     "text": [
      "WARNING:tensorflow:No training configuration found in the save file, so the model was *not* compiled. Compile it manually.\n"
     ]
    },
    {
     "name": "stderr",
     "output_type": "stream",
     "text": [
      "WARNING:tensorflow:No training configuration found in the save file, so the model was *not* compiled. Compile it manually.\n"
     ]
    },
    {
     "name": "stdout",
     "output_type": "stream",
     "text": [
      "Start fixating desnse4_2vol_maxvolled_deepspeech_r500\n",
      "WARNING:tensorflow:No training configuration found in the save file, so the model was *not* compiled. Compile it manually.\n"
     ]
    },
    {
     "name": "stderr",
     "output_type": "stream",
     "text": [
      "WARNING:tensorflow:No training configuration found in the save file, so the model was *not* compiled. Compile it manually.\n"
     ]
    },
    {
     "name": "stdout",
     "output_type": "stream",
     "text": [
      "WARNING:tensorflow:Layer lstm_40 will not use cuDNN kernel since it doesn't meet the cuDNN kernel criteria. It will use generic GPU kernel as fallback when running on GPU\n"
     ]
    },
    {
     "name": "stderr",
     "output_type": "stream",
     "text": [
      "WARNING:tensorflow:Layer lstm_40 will not use cuDNN kernel since it doesn't meet the cuDNN kernel criteria. It will use generic GPU kernel as fallback when running on GPU\n"
     ]
    },
    {
     "name": "stdout",
     "output_type": "stream",
     "text": [
      "converting: ./models/desnse4_2vol_maxvolled_deepspeech_r500_tfliteready.h5 => ./tflite_models/desnse4_2vol_maxvolled_deepspeech_r500.tflite\n",
      "WARNING:tensorflow:Layer lstm_40 will not use cuDNN kernel since it doesn't meet the cuDNN kernel criteria. It will use generic GPU kernel as fallback when running on GPU\n"
     ]
    },
    {
     "name": "stderr",
     "output_type": "stream",
     "text": [
      "WARNING:tensorflow:Layer lstm_40 will not use cuDNN kernel since it doesn't meet the cuDNN kernel criteria. It will use generic GPU kernel as fallback when running on GPU\n"
     ]
    },
    {
     "name": "stdout",
     "output_type": "stream",
     "text": [
      "WARNING:tensorflow:No training configuration found in the save file, so the model was *not* compiled. Compile it manually.\n"
     ]
    },
    {
     "name": "stderr",
     "output_type": "stream",
     "text": [
      "WARNING:tensorflow:No training configuration found in the save file, so the model was *not* compiled. Compile it manually.\n"
     ]
    },
    {
     "name": "stdout",
     "output_type": "stream",
     "text": [
      "Start fixating desnse4_2vol_maxvolled_deepspeech_r1400\n",
      "WARNING:tensorflow:No training configuration found in the save file, so the model was *not* compiled. Compile it manually.\n"
     ]
    },
    {
     "name": "stderr",
     "output_type": "stream",
     "text": [
      "WARNING:tensorflow:No training configuration found in the save file, so the model was *not* compiled. Compile it manually.\n"
     ]
    },
    {
     "name": "stdout",
     "output_type": "stream",
     "text": [
      "WARNING:tensorflow:Layer lstm_32 will not use cuDNN kernel since it doesn't meet the cuDNN kernel criteria. It will use generic GPU kernel as fallback when running on GPU\n"
     ]
    },
    {
     "name": "stderr",
     "output_type": "stream",
     "text": [
      "WARNING:tensorflow:Layer lstm_32 will not use cuDNN kernel since it doesn't meet the cuDNN kernel criteria. It will use generic GPU kernel as fallback when running on GPU\n"
     ]
    },
    {
     "name": "stdout",
     "output_type": "stream",
     "text": [
      "converting: ./models/desnse4_2vol_maxvolled_deepspeech_r1400_tfliteready.h5 => ./tflite_models/desnse4_2vol_maxvolled_deepspeech_r1400.tflite\n",
      "WARNING:tensorflow:Layer lstm_32 will not use cuDNN kernel since it doesn't meet the cuDNN kernel criteria. It will use generic GPU kernel as fallback when running on GPU\n"
     ]
    },
    {
     "name": "stderr",
     "output_type": "stream",
     "text": [
      "WARNING:tensorflow:Layer lstm_32 will not use cuDNN kernel since it doesn't meet the cuDNN kernel criteria. It will use generic GPU kernel as fallback when running on GPU\n"
     ]
    },
    {
     "name": "stdout",
     "output_type": "stream",
     "text": [
      "WARNING:tensorflow:No training configuration found in the save file, so the model was *not* compiled. Compile it manually.\n"
     ]
    },
    {
     "name": "stderr",
     "output_type": "stream",
     "text": [
      "WARNING:tensorflow:No training configuration found in the save file, so the model was *not* compiled. Compile it manually.\n"
     ]
    },
    {
     "name": "stdout",
     "output_type": "stream",
     "text": [
      "Start fixating desnse4_2vol_maxvolled_deepspeech_r1700\n",
      "WARNING:tensorflow:No training configuration found in the save file, so the model was *not* compiled. Compile it manually.\n"
     ]
    },
    {
     "name": "stderr",
     "output_type": "stream",
     "text": [
      "WARNING:tensorflow:No training configuration found in the save file, so the model was *not* compiled. Compile it manually.\n"
     ]
    },
    {
     "name": "stdout",
     "output_type": "stream",
     "text": [
      "WARNING:tensorflow:Layer lstm_28 will not use cuDNN kernel since it doesn't meet the cuDNN kernel criteria. It will use generic GPU kernel as fallback when running on GPU\n"
     ]
    },
    {
     "name": "stderr",
     "output_type": "stream",
     "text": [
      "WARNING:tensorflow:Layer lstm_28 will not use cuDNN kernel since it doesn't meet the cuDNN kernel criteria. It will use generic GPU kernel as fallback when running on GPU\n"
     ]
    },
    {
     "name": "stdout",
     "output_type": "stream",
     "text": [
      "converting: ./models/desnse4_2vol_maxvolled_deepspeech_r1700_tfliteready.h5 => ./tflite_models/desnse4_2vol_maxvolled_deepspeech_r1700.tflite\n",
      "WARNING:tensorflow:Layer lstm_28 will not use cuDNN kernel since it doesn't meet the cuDNN kernel criteria. It will use generic GPU kernel as fallback when running on GPU\n"
     ]
    },
    {
     "name": "stderr",
     "output_type": "stream",
     "text": [
      "WARNING:tensorflow:Layer lstm_28 will not use cuDNN kernel since it doesn't meet the cuDNN kernel criteria. It will use generic GPU kernel as fallback when running on GPU\n"
     ]
    },
    {
     "name": "stdout",
     "output_type": "stream",
     "text": [
      "WARNING:tensorflow:No training configuration found in the save file, so the model was *not* compiled. Compile it manually.\n"
     ]
    },
    {
     "name": "stderr",
     "output_type": "stream",
     "text": [
      "WARNING:tensorflow:No training configuration found in the save file, so the model was *not* compiled. Compile it manually.\n"
     ]
    },
    {
     "name": "stdout",
     "output_type": "stream",
     "text": [
      "Start fixating desnse4_2vol_maxvolled_deepspeech_r1000\n",
      "WARNING:tensorflow:No training configuration found in the save file, so the model was *not* compiled. Compile it manually.\n"
     ]
    },
    {
     "name": "stderr",
     "output_type": "stream",
     "text": [
      "WARNING:tensorflow:No training configuration found in the save file, so the model was *not* compiled. Compile it manually.\n"
     ]
    },
    {
     "name": "stdout",
     "output_type": "stream",
     "text": [
      "WARNING:tensorflow:Layer lstm_36 will not use cuDNN kernel since it doesn't meet the cuDNN kernel criteria. It will use generic GPU kernel as fallback when running on GPU\n"
     ]
    },
    {
     "name": "stderr",
     "output_type": "stream",
     "text": [
      "WARNING:tensorflow:Layer lstm_36 will not use cuDNN kernel since it doesn't meet the cuDNN kernel criteria. It will use generic GPU kernel as fallback when running on GPU\n"
     ]
    },
    {
     "name": "stdout",
     "output_type": "stream",
     "text": [
      "converting: ./models/desnse4_2vol_maxvolled_deepspeech_r1000_tfliteready.h5 => ./tflite_models/desnse4_2vol_maxvolled_deepspeech_r1000.tflite\n",
      "WARNING:tensorflow:Layer lstm_36 will not use cuDNN kernel since it doesn't meet the cuDNN kernel criteria. It will use generic GPU kernel as fallback when running on GPU\n"
     ]
    },
    {
     "name": "stderr",
     "output_type": "stream",
     "text": [
      "WARNING:tensorflow:Layer lstm_36 will not use cuDNN kernel since it doesn't meet the cuDNN kernel criteria. It will use generic GPU kernel as fallback when running on GPU\n"
     ]
    },
    {
     "name": "stdout",
     "output_type": "stream",
     "text": [
      "WARNING:tensorflow:No training configuration found in the save file, so the model was *not* compiled. Compile it manually.\n"
     ]
    },
    {
     "name": "stderr",
     "output_type": "stream",
     "text": [
      "WARNING:tensorflow:No training configuration found in the save file, so the model was *not* compiled. Compile it manually.\n"
     ]
    },
    {
     "name": "stdout",
     "output_type": "stream",
     "text": [
      "Start fixating desnse4_2vol_maxvolled_deepspeech_r300\n",
      "WARNING:tensorflow:No training configuration found in the save file, so the model was *not* compiled. Compile it manually.\n"
     ]
    },
    {
     "name": "stderr",
     "output_type": "stream",
     "text": [
      "WARNING:tensorflow:No training configuration found in the save file, so the model was *not* compiled. Compile it manually.\n"
     ]
    },
    {
     "name": "stdout",
     "output_type": "stream",
     "text": [
      "WARNING:tensorflow:Layer lstm_42 will not use cuDNN kernel since it doesn't meet the cuDNN kernel criteria. It will use generic GPU kernel as fallback when running on GPU\n"
     ]
    },
    {
     "name": "stderr",
     "output_type": "stream",
     "text": [
      "WARNING:tensorflow:Layer lstm_42 will not use cuDNN kernel since it doesn't meet the cuDNN kernel criteria. It will use generic GPU kernel as fallback when running on GPU\n"
     ]
    },
    {
     "name": "stdout",
     "output_type": "stream",
     "text": [
      "converting: ./models/desnse4_2vol_maxvolled_deepspeech_r300_tfliteready.h5 => ./tflite_models/desnse4_2vol_maxvolled_deepspeech_r300.tflite\n",
      "WARNING:tensorflow:Layer lstm_42 will not use cuDNN kernel since it doesn't meet the cuDNN kernel criteria. It will use generic GPU kernel as fallback when running on GPU\n"
     ]
    },
    {
     "name": "stderr",
     "output_type": "stream",
     "text": [
      "WARNING:tensorflow:Layer lstm_42 will not use cuDNN kernel since it doesn't meet the cuDNN kernel criteria. It will use generic GPU kernel as fallback when running on GPU\n"
     ]
    },
    {
     "name": "stdout",
     "output_type": "stream",
     "text": [
      "WARNING:tensorflow:No training configuration found in the save file, so the model was *not* compiled. Compile it manually.\n"
     ]
    },
    {
     "name": "stderr",
     "output_type": "stream",
     "text": [
      "WARNING:tensorflow:No training configuration found in the save file, so the model was *not* compiled. Compile it manually.\n"
     ]
    },
    {
     "name": "stdout",
     "output_type": "stream",
     "text": [
      "Start fixating desnse4_2vol_maxvolled_deepspeech_r1200\n",
      "WARNING:tensorflow:No training configuration found in the save file, so the model was *not* compiled. Compile it manually.\n"
     ]
    },
    {
     "name": "stderr",
     "output_type": "stream",
     "text": [
      "WARNING:tensorflow:No training configuration found in the save file, so the model was *not* compiled. Compile it manually.\n"
     ]
    },
    {
     "name": "stdout",
     "output_type": "stream",
     "text": [
      "WARNING:tensorflow:Layer lstm_34 will not use cuDNN kernel since it doesn't meet the cuDNN kernel criteria. It will use generic GPU kernel as fallback when running on GPU\n"
     ]
    },
    {
     "name": "stderr",
     "output_type": "stream",
     "text": [
      "WARNING:tensorflow:Layer lstm_34 will not use cuDNN kernel since it doesn't meet the cuDNN kernel criteria. It will use generic GPU kernel as fallback when running on GPU\n"
     ]
    },
    {
     "name": "stdout",
     "output_type": "stream",
     "text": [
      "converting: ./models/desnse4_2vol_maxvolled_deepspeech_r1200_tfliteready.h5 => ./tflite_models/desnse4_2vol_maxvolled_deepspeech_r1200.tflite\n",
      "WARNING:tensorflow:Layer lstm_34 will not use cuDNN kernel since it doesn't meet the cuDNN kernel criteria. It will use generic GPU kernel as fallback when running on GPU\n"
     ]
    },
    {
     "name": "stderr",
     "output_type": "stream",
     "text": [
      "WARNING:tensorflow:Layer lstm_34 will not use cuDNN kernel since it doesn't meet the cuDNN kernel criteria. It will use generic GPU kernel as fallback when running on GPU\n"
     ]
    },
    {
     "name": "stdout",
     "output_type": "stream",
     "text": [
      "WARNING:tensorflow:No training configuration found in the save file, so the model was *not* compiled. Compile it manually.\n"
     ]
    },
    {
     "name": "stderr",
     "output_type": "stream",
     "text": [
      "WARNING:tensorflow:No training configuration found in the save file, so the model was *not* compiled. Compile it manually.\n"
     ]
    }
   ],
   "source": [
    "for filename in os.listdir('./models'):\n",
    "    if 'maxvolled' in filename and 'tfliteready' not in filename:\n",
    "        name = filename.split('.')[0]\n",
    "        # skip if already cnverted to save time\n",
    "        if os.path.exists(f'./tflite_models/{name}.tflite'):\n",
    "            continue\n",
    "        # fixate shape\n",
    "        print(f\"Start fixating {name}\")\n",
    "        fixate_rnn_shape(keras.models.load_model(f'./models/{name}.h5'), 1).save(f'./models/{name}_tfliteready.h5')\n",
    "        # export dense model\n",
    "        export_model(f'./models/{name}_tfliteready.h5', f'./tflite_models/{name}.tflite', run_tests=True)"
   ]
  },
  {
   "cell_type": "code",
   "execution_count": 7,
   "metadata": {
    "collapsed": true,
    "jupyter": {
     "outputs_hidden": true
    }
   },
   "outputs": [
    {
     "name": "stdout",
     "output_type": "stream",
     "text": [
      "Profiling desnse2_2vol_maxvolled_deepspeech_r100\n",
      "Reference time for desnse2_2vol_maxvolled_deepspeech_r100 is 33716.7 +- 7343.0\n",
      "Profiling desnse3_1vol_maxvolled_deepspeech_r1000\n",
      "Reference time for desnse3_1vol_maxvolled_deepspeech_r1000 is 27235.5 +- 2073.0\n",
      "Profiling lstm_1vol_maxvolled_deepspeech_r1400\n",
      "Reference time for lstm_1vol_maxvolled_deepspeech_r1400 is 31308.1 +- 4431.0\n",
      "Profiling lstm_desnse234_2vol_maxvolled_deepspeech_r500\n",
      "Reference time for lstm_desnse234_2vol_maxvolled_deepspeech_r500 is 12622.8 +- 2891.0\n",
      "Profiling desnse3_2vol_maxvolled_deepspeech_r700\n",
      "Reference time for desnse3_2vol_maxvolled_deepspeech_r700 is 36220.6 +- 5503.0\n",
      "Profiling lstm_2vol_maxvolled_deepspeech_r500\n",
      "Reference time for lstm_2vol_maxvolled_deepspeech_r500 is 24382.6 +- 4473.0\n",
      "Profiling desnse4_2vol_maxvolled_deepspeech_r1400\n",
      "Reference time for desnse4_2vol_maxvolled_deepspeech_r1400 is 39097.4 +- 8255.0\n",
      "Profiling lstm_1vol_maxvolled_deepspeech_r100\n",
      "Reference time for lstm_1vol_maxvolled_deepspeech_r100 is 16652.4 +- 3699.0\n",
      "Profiling lstm_1vol_maxvolled_deepspeech_r1200\n",
      "Reference time for lstm_1vol_maxvolled_deepspeech_r1200 is 30751.8 +- 5257.0\n",
      "Profiling desnse4_2vol_maxvolled_deepspeech_r300\n",
      "Reference time for desnse4_2vol_maxvolled_deepspeech_r300 is 37237.6 +- 7710.0\n",
      "Profiling lstm_desnse234_2vol_maxvolled_deepspeech_r1400\n",
      "Reference time for lstm_desnse234_2vol_maxvolled_deepspeech_r1400 is 25141.3 +- 3654.0\n",
      "Profiling lstm_desnse234_2vol_maxvolled_deepspeech_r1000\n",
      "Reference time for lstm_desnse234_2vol_maxvolled_deepspeech_r1000 is 29291.5 +- 297.0\n",
      "Profiling desnse2_1vol_maxvolled_deepspeech_r300\n",
      "Reference time for desnse2_1vol_maxvolled_deepspeech_r300 is 47397.0 +- 931.0\n",
      "Profiling desnse2_1vol_maxvolled_deepspeech_r1700\n",
      "Reference time for desnse2_1vol_maxvolled_deepspeech_r1700 is 54576.8 +- 1463.0\n",
      "Profiling desnse2_2vol_maxvolled_deepspeech_r1700\n",
      "Reference time for desnse2_2vol_maxvolled_deepspeech_r1700 is 54925.5 +- 1716.0\n",
      "Profiling lstm_desnse234_2vol_maxvolled_deepspeech_r1200\n",
      "Reference time for lstm_desnse234_2vol_maxvolled_deepspeech_r1200 is 33576.2 +- 1631.0\n",
      "Profiling lstm_1vol_maxvolled_deepspeech_r700\n",
      "Reference time for lstm_1vol_maxvolled_deepspeech_r700 is 35455.4 +- 193.0\n",
      "Profiling desnse3_1vol_maxvolled_deepspeech_r1200\n",
      "Reference time for desnse3_1vol_maxvolled_deepspeech_r1200 is 40221.4 +- 836.0\n",
      "Profiling desnse3_2vol_maxvolled_deepspeech_r1200\n",
      "Reference time for desnse3_2vol_maxvolled_deepspeech_r1200 is 46717.7 +- 674.0\n",
      "Profiling desnse4_2vol_maxvolled_deepspeech_r1500\n",
      "Reference time for desnse4_2vol_maxvolled_deepspeech_r1500 is 57368.0 +- 356.0\n",
      "Profiling lstm_2vol_maxvolled_deepspeech_r300\n",
      "Reference time for lstm_2vol_maxvolled_deepspeech_r300 is 33049.4 +- 168.0\n",
      "Profiling desnse4_2vol_maxvolled_deepspeech_r700\n",
      "Reference time for desnse4_2vol_maxvolled_deepspeech_r700 is 55186.2 +- 242.0\n",
      "Profiling lstm_1vol_maxvolled_deepspeech_r1000\n",
      "Reference time for lstm_1vol_maxvolled_deepspeech_r1000 is 39850.7 +- 904.0\n",
      "Profiling desnse3_2vol_maxvolled_deepspeech_r300\n",
      "Reference time for desnse3_2vol_maxvolled_deepspeech_r300 is 36623.5 +- 166.0\n",
      "Profiling desnse3_1vol_maxvolled_deepspeech_r300\n",
      "Reference time for desnse3_1vol_maxvolled_deepspeech_r300 is 31566.0 +- 170.0\n",
      "Profiling desnse2_2vol_maxvolled_deepspeech_r1400\n",
      "Reference time for desnse2_2vol_maxvolled_deepspeech_r1400 is 53573.8 +- 1701.0\n",
      "Profiling desnse4_2vol_maxvolled_deepspeech_r100\n",
      "Reference time for desnse4_2vol_maxvolled_deepspeech_r100 is 51984.0 +- 223.0\n",
      "Profiling desnse3_2vol_maxvolled_deepspeech_r1400\n",
      "Reference time for desnse3_2vol_maxvolled_deepspeech_r1400 is 46415.2 +- 1571.0\n",
      "Profiling lstm_1vol_maxvolled_deepspeech_r1700\n",
      "Reference time for lstm_1vol_maxvolled_deepspeech_r1700 is 51461.0 +- 993.0\n",
      "Profiling lstm_2vol_maxvolled_deepspeech_r1400\n",
      "Reference time for lstm_2vol_maxvolled_deepspeech_r1400 is 52177.7 +- 1771.0\n",
      "Profiling desnse2_2vol_maxvolled_deepspeech_r700\n",
      "Reference time for desnse2_2vol_maxvolled_deepspeech_r700 is 50296.2 +- 1547.0\n",
      "Profiling desnse2_2vol_maxvolled_deepspeech_r1200\n",
      "Reference time for desnse2_2vol_maxvolled_deepspeech_r1200 is 53119.4 +- 966.0\n",
      "Profiling desnse4_2vol_maxvolled_deepspeech_r1700\n",
      "Reference time for desnse4_2vol_maxvolled_deepspeech_r1700 is 57144.4 +- 1172.0\n",
      "Profiling desnse2_1vol_maxvolled_deepspeech_r1200\n",
      "Reference time for desnse2_1vol_maxvolled_deepspeech_r1200 is 51799.5 +- 1157.0\n",
      "Profiling lstm_desnse234_2vol_maxvolled_deepspeech_r1500\n",
      "Reference time for lstm_desnse234_2vol_maxvolled_deepspeech_r1500 is 37883.4 +- 1170.0\n",
      "Profiling desnse4_2vol_maxvolled_deepspeech_r500\n",
      "Reference time for desnse4_2vol_maxvolled_deepspeech_r500 is 54251.5 +- 221.0\n",
      "Profiling desnse2_1vol_maxvolled_deepspeech_r1400\n",
      "Reference time for desnse2_1vol_maxvolled_deepspeech_r1400 is 53025.4 +- 1337.0\n",
      "Profiling lstm_desnse234_2vol_maxvolled_deepspeech_r300\n",
      "Reference time for lstm_desnse234_2vol_maxvolled_deepspeech_r300 is 15086.5 +- 163.0\n",
      "Profiling lstm_desnse234_2vol_maxvolled_deepspeech_r100\n",
      "Reference time for lstm_desnse234_2vol_maxvolled_deepspeech_r100 is 10438.5 +- 89.0\n",
      "Profiling lstm_desnse234_2vol_maxvolled_deepspeech_r1700\n",
      "Reference time for lstm_desnse234_2vol_maxvolled_deepspeech_r1700 is 38373.5 +- 1065.0\n",
      "Profiling desnse2_1vol_maxvolled_deepspeech_r1500\n",
      "Reference time for desnse2_1vol_maxvolled_deepspeech_r1500 is 53527.2 +- 1142.0\n",
      "Profiling desnse2_1vol_maxvolled_deepspeech_r100\n",
      "Reference time for desnse2_1vol_maxvolled_deepspeech_r100 is 46515.1 +- 468.0\n",
      "Profiling desnse3_1vol_maxvolled_deepspeech_r700\n",
      "Reference time for desnse3_1vol_maxvolled_deepspeech_r700 is 34065.3 +- 576.0\n",
      "Profiling desnse2_2vol_maxvolled_deepspeech_r300\n",
      "Reference time for desnse2_2vol_maxvolled_deepspeech_r300 is 49117.7 +- 465.0\n",
      "Profiling desnse3_1vol_maxvolled_deepspeech_r100\n",
      "Reference time for desnse3_1vol_maxvolled_deepspeech_r100 is 26279.9 +- 146.0\n",
      "Profiling lstm_2vol_maxvolled_deepspeech_r700\n",
      "Reference time for lstm_2vol_maxvolled_deepspeech_r700 is 42148.9 +- 544.0\n",
      "Profiling desnse4_2vol_maxvolled_deepspeech_r1200\n",
      "Reference time for desnse4_2vol_maxvolled_deepspeech_r1200 is 54999.8 +- 744.0\n",
      "Profiling desnse2_2vol_maxvolled_deepspeech_r1500\n",
      "Reference time for desnse2_2vol_maxvolled_deepspeech_r1500 is 54681.0 +- 686.0\n",
      "Profiling lstm_2vol_maxvolled_deepspeech_r100\n",
      "Reference time for lstm_2vol_maxvolled_deepspeech_r100 is 27676.0 +- 158.0\n",
      "Profiling lstm_2vol_maxvolled_deepspeech_r1000\n",
      "Reference time for lstm_2vol_maxvolled_deepspeech_r1000 is 47471.8 +- 1833.0\n",
      "Profiling desnse3_1vol_maxvolled_deepspeech_r1700\n",
      "Reference time for desnse3_1vol_maxvolled_deepspeech_r1700 is 43810.1 +- 1829.0\n",
      "Profiling lstm_1vol_maxvolled_deepspeech_r1500\n",
      "Reference time for lstm_1vol_maxvolled_deepspeech_r1500 is 48372.6 +- 1360.0\n",
      "Profiling desnse4_2vol_maxvolled_deepspeech_r1000\n",
      "Reference time for desnse4_2vol_maxvolled_deepspeech_r1000 is 56185.6 +- 240.0\n",
      "Profiling desnse3_2vol_maxvolled_deepspeech_r1700\n",
      "Reference time for desnse3_2vol_maxvolled_deepspeech_r1700 is 45474.7 +- 1112.0\n",
      "Profiling desnse3_1vol_maxvolled_deepspeech_r1400\n",
      "Reference time for desnse3_1vol_maxvolled_deepspeech_r1400 is 42366.4 +- 1002.0\n",
      "Profiling lstm_2vol_maxvolled_deepspeech_r1200\n",
      "Reference time for lstm_2vol_maxvolled_deepspeech_r1200 is 51279.0 +- 1477.0\n",
      "Profiling desnse3_2vol_maxvolled_deepspeech_r1000\n",
      "Reference time for desnse3_2vol_maxvolled_deepspeech_r1000 is 42825.7 +- 1104.0\n",
      "Profiling desnse4_1vol_maxvolled_deepspeech_r1700\n",
      "Reference time for desnse4_1vol_maxvolled_deepspeech_r1700 is 57578.0 +- 742.0\n",
      "Profiling desnse2_1vol_maxvolled_deepspeech_r1000\n",
      "Reference time for desnse2_1vol_maxvolled_deepspeech_r1000 is 50580.5 +- 1252.0\n",
      "Profiling desnse3_2vol_maxvolled_deepspeech_r1500\n",
      "Reference time for desnse3_2vol_maxvolled_deepspeech_r1500 is 47420.3 +- 942.0\n",
      "Profiling lstm_2vol_maxvolled_deepspeech_r1500\n",
      "Reference time for lstm_2vol_maxvolled_deepspeech_r1500 is 53641.6 +- 1351.0\n",
      "Profiling desnse3_1vol_maxvolled_deepspeech_r1500\n",
      "Reference time for desnse3_1vol_maxvolled_deepspeech_r1500 is 41511.4 +- 2157.0\n",
      "Profiling lstm_2vol_maxvolled_deepspeech_r1700\n",
      "Reference time for lstm_2vol_maxvolled_deepspeech_r1700 is 55122.8 +- 989.0\n",
      "Profiling lstm_1vol_maxvolled_deepspeech_r300\n",
      "Reference time for lstm_1vol_maxvolled_deepspeech_r300 is 29805.0 +- 181.0\n",
      "Profiling desnse3_1vol_maxvolled_deepspeech_r500\n",
      "Reference time for desnse3_1vol_maxvolled_deepspeech_r500 is 37264.4 +- 462.0\n",
      "Profiling desnse2_1vol_maxvolled_deepspeech_r700\n",
      "Reference time for desnse2_1vol_maxvolled_deepspeech_r700 is 49082.0 +- 237.0\n",
      "Profiling desnse3_2vol_maxvolled_deepspeech_r500\n",
      "Reference time for desnse3_2vol_maxvolled_deepspeech_r500 is 38170.4 +- 497.0\n",
      "Profiling lstm_desnse234_2vol_maxvolled_deepspeech_r700\n",
      "Reference time for lstm_desnse234_2vol_maxvolled_deepspeech_r700 is 23812.5 +- 263.0\n",
      "Profiling desnse2_2vol_maxvolled_deepspeech_r500\n",
      "Reference time for desnse2_2vol_maxvolled_deepspeech_r500 is 49505.1 +- 235.0\n",
      "Profiling desnse3_2vol_maxvolled_deepspeech_r100\n",
      "Reference time for desnse3_2vol_maxvolled_deepspeech_r100 is 29022.6 +- 186.0\n",
      "Profiling desnse2_1vol_maxvolled_deepspeech_r500\n",
      "Reference time for desnse2_1vol_maxvolled_deepspeech_r500 is 49346.5 +- 230.0\n",
      "Profiling desnse2_2vol_maxvolled_deepspeech_r1000\n",
      "Reference time for desnse2_2vol_maxvolled_deepspeech_r1000 is 52391.3 +- 514.0\n",
      "Profiling lstm_1vol_maxvolled_deepspeech_r500\n",
      "Reference time for lstm_1vol_maxvolled_deepspeech_r500 is 33964.5 +- 449.0\n"
     ]
    }
   ],
   "source": [
    "test_results = {}\n",
    "for filename in os.listdir('./tflite_models'):\n",
    "    if 'maxvolled' in filename:\n",
    "        name = filename.split('.')[0]\n",
    "        print(f\"Profiling {name}\")\n",
    "        # profile model\n",
    "        res = run_on_device(f'./tflite_models/{name}.tflite', \n",
    "                                prof_config=config, \n",
    "                                cpu_affinity=cpu_affinity)\n",
    "        result = parse_profiler_output(res, is_file=False)\n",
    "        time = float(result['main']['avg'])\n",
    "        std = float(result['main']['std'])\n",
    "\n",
    "        print(f\"Time for {name} is {time} +- {std}\")\n",
    "        test_results[name] = (time, std)"
   ]
  },
  {
   "cell_type": "code",
   "execution_count": 11,
   "metadata": {},
   "outputs": [],
   "source": [
    "def get_run_rank(name):\n",
    "    return int(name[name.index('_r') + 2:])\n",
    "\n",
    "def get_run_name(name):\n",
    "    return name[:name.index('_2vol_maxvolled')]\n",
    "\n",
    "def is_full_change(name):\n",
    "    return name.startswith('lstm_desnse234_2vol')"
   ]
  },
  {
   "cell_type": "code",
   "execution_count": 12,
   "metadata": {},
   "outputs": [],
   "source": [
    "full_change_ranks = []\n",
    "full_change_avg = []\n",
    "full_change_std = []\n",
    "for result_name, result_data in test_results.items():\n",
    "    if is_full_change(result_name):\n",
    "        full_change_ranks.append(get_run_rank(result_name))\n",
    "        full_change_avg.append(result_data[0])\n",
    "        full_change_std.append(result_data[1])\n",
    "        \n",
    "full_change_avg = np.array(full_change_avg)\n",
    "full_change_std = np.array(full_change_std)"
   ]
  },
  {
   "cell_type": "code",
   "execution_count": 41,
   "metadata": {},
   "outputs": [
    {
     "data": {
      "text/plain": [
       "<matplotlib.legend.Legend at 0x1553ed8ead68>"
      ]
     },
     "execution_count": 41,
     "metadata": {},
     "output_type": "execute_result"
    },
    {
     "data": {
      "image/png": "[encoded data removed]",
      "text/plain": [
       "<Figure size 1152x720 with 1 Axes>"
      ]
     },
     "metadata": {
      "needs_background": "light"
     },
     "output_type": "display_data"
    }
   ],
   "source": [
    "plt.figure(figsize=(16, 10))\n",
    "plt.title('Run time of model with all changed layers')\n",
    "plt.xlabel('svd rank')\n",
    "plt.ylabel('miliseconds')\n",
    "plt.plot([0, 2000], [ref_time, ref_time], label='original deepspeech')\n",
    "plt.fill_between([0, 2000], [ref_time - ref_std, ref_time - ref_std], [ref_time + ref_std, ref_time + ref_std], alpha=0.1)\n",
    "plt.errorbar(full_change_ranks, full_change_avg, yerr=full_change_std, fmt='o',label='full changed deepspeech')\n",
    "# plt.fill_between([0, 2000], full_change_avg + full_change_std, full_change_avg - full_change_std)\n",
    "plt.legend()"
   ]
  }
 ],
 "metadata": {
  "kernelspec": {
   "display_name": "asr_3.7",
   "language": "python",
   "name": "asr_3.7"
  },
  "language_info": {
   "codemirror_mode": {
    "name": "ipython",
    "version": 3
   },
   "file_extension": ".py",
   "mimetype": "text/x-python",
   "name": "python",
   "nbconvert_exporter": "python",
   "pygments_lexer": "ipython3",
   "version": "3.7.1"
  }
 },
 "nbformat": 4,
 "nbformat_minor": 4
}
