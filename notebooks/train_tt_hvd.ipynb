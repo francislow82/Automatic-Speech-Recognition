{
 "cells": [
  {
   "cell_type": "code",
   "execution_count": 1,
   "metadata": {},
   "outputs": [],
   "source": [
    "import tensorflow as tf\n",
    "# tf.debugging.set_log_device_placement(True)\n",
    "import tensorflow_addons as tfa\n",
    "import sys\n",
    "import os\n",
    "if os.path.abspath('../') not in sys.path:\n",
    "    sys.path.append(os.path.abspath('../'))\n",
    "if os.path.abspath('../../tt_keras') not in sys.path:\n",
    "    sys.path.append(os.path.abspath('../../tt_keras'))\n",
    "if os.path.abspath('../../tf2-gradient-checkpointing') not in sys.path:\n",
    "    sys.path.append(os.path.abspath('../../tf2-gradient-checkpointing'))\n",
    "\n",
    "if os.path.abspath('../../t3f') not in sys.path:\n",
    "    sys.path.append(os.path.abspath('../../t3f'))\n",
    "\n",
    "import automatic_speech_recognition as asr\n",
    "from automatic_speech_recognition.utils import wrap_call_methods\n",
    "import time\n",
    "from datetime import datetime\n",
    "import argparse\n",
    "import pickle\n",
    "from checkpointing import checkpointable\n",
    "from functools import partial"
   ]
  },
  {
   "cell_type": "code",
   "execution_count": 2,
   "metadata": {},
   "outputs": [],
   "source": [
    "import numpy as np\n",
    "import pandas as pd\n",
    "from h5_to_tflite import TF_CUSTOM_OBJECTS"
   ]
  },
  {
   "cell_type": "code",
   "execution_count": 3,
   "metadata": {},
   "outputs": [],
   "source": [
    "from tensorflow import keras\n",
    "from tensorflow.keras.callbacks import LearningRateScheduler\n",
    "from tensorflow.keras.mixed_precision import experimental as mixed_precision"
   ]
  },
  {
   "cell_type": "code",
   "execution_count": 4,
   "metadata": {},
   "outputs": [],
   "source": [
    "import horovod.tensorflow.keras as hvd"
   ]
  },
  {
   "cell_type": "code",
   "execution_count": 5,
   "metadata": {},
   "outputs": [],
   "source": [
    "#%load_ext tensorboard\n",
    "#%tensorboard --logdir=./models/ --port=32779"
   ]
  },
  {
   "cell_type": "code",
   "execution_count": 6,
   "metadata": {},
   "outputs": [
    {
     "name": "stdout",
     "output_type": "stream",
     "text": [
      "Automatic pdb calling has been turned OFF\n"
     ]
    }
   ],
   "source": [
    "%pdb off"
   ]
  },
  {
   "cell_type": "markdown",
   "metadata": {},
   "source": [
    "## Train"
   ]
  },
  {
   "cell_type": "code",
   "execution_count": 7,
   "metadata": {},
   "outputs": [],
   "source": [
    "#os.environ[\"CUDA_VISIBLE_DEVICES\"] = \"-1\""
   ]
  },
  {
   "cell_type": "code",
   "execution_count": 7,
   "metadata": {},
   "outputs": [],
   "source": [
    "# Initialize Horovod\n",
    "hvd.init()\n",
    "# Pin GPU to be used to process local rank (one GPU per process)\n",
    "gpus = tf.config.experimental.list_physical_devices('GPU')\n",
    "for gpu in gpus:\n",
    "    tf.config.experimental.set_memory_growth(gpu, True)\n",
    "if gpus:\n",
    "    tf.config.experimental.set_visible_devices(gpus[hvd.local_rank()], 'GPU')"
   ]
  },
  {
   "cell_type": "code",
   "execution_count": 8,
   "metadata": {},
   "outputs": [],
   "source": [
    "def get_pipeline(model, optimizer=None):\n",
    "    alphabet = asr.text.Alphabet(lang='en')\n",
    "    features_extractor = asr.features.MFCC(\n",
    "        features_num=26,\n",
    "        sample_rate=16000,\n",
    "        standardize=None,\n",
    "        winlen=0.032,\n",
    "        winstep=0.02,\n",
    "    )\n",
    "    if not optimizer:\n",
    "        optimizer = tf.optimizers.Adam(lr=1e-3, beta_1=0.9, beta_2=0.999)\n",
    "    decoder = asr.decoder.GreedyDecoder()\n",
    "    pipeline = asr.pipeline.CTCPipeline(\n",
    "        alphabet, features_extractor, model, optimizer, decoder\n",
    "    )\n",
    "    return pipeline"
   ]
  },
  {
   "cell_type": "code",
   "execution_count": 10,
   "metadata": {},
   "outputs": [],
   "source": [
    "def tf_func_wrapper(layer):\n",
    "    return tf.function(layer.call, experimental_relax_shapes=True)\n",
    "\n",
    "def checkpointing_wrapper(layer):\n",
    "    call_method = checkpointable(layer.call)\n",
    "    call_method = partial(call_method, \n",
    "                         _checkpoint=True, \n",
    "                         _watch_vars=layer.trainable_variables)\n",
    "\n",
    "    return call_method"
   ]
  },
  {
   "cell_type": "code",
   "execution_count": 11,
   "metadata": {},
   "outputs": [],
   "source": [
    "def train_model(filename, dataset_idx, val_dataset_idx=None, initial_lr=0.002, batch_size=10, epochs=25,\n",
    "                is_mixed_precision=False, tensorboard=False, restart_filename=None):\n",
    "    basename = os.path.basename(filename).split('.')[0]\n",
    "    model_dir = os.path.join(os.path.dirname(filename), basename + '_train')\n",
    "    os.makedirs(model_dir, exist_ok=True)\n",
    "    \n",
    "    model = keras.models.load_model(filename, custom_objects=TF_CUSTOM_OBJECTS)\n",
    "    # Wrap layers in tf func and checkpoints\n",
    "    model = wrap_call_methods(model, tf_func_wrapper, \n",
    "                              wrap_rnn_cells=True, \n",
    "                              wrap_time_distributed_inner=True)\n",
    "    model = wrap_call_methods(model, checkpointing_wrapper, \n",
    "                              names=['time_distributed_144', 'rnn_72', 'time_distributed_145'],\n",
    "                              #names=['time_distributed_431', 'rnn_216', 'time_distributed_432'], \n",
    "                              wrap_rnn_cells=True, \n",
    "                              wrap_time_distributed_inner=True)\n",
    "    \n",
    "    if restart_filename:\n",
    "        model.load_weights(restart_filename)\n",
    "    dataset = asr.dataset.Audio.from_csv(dataset_idx, batch_size=batch_size, use_filesizes=True,\n",
    "                                         group_size=hvd.size(), rank=hvd.rank())\n",
    "    dataset.sort_by_length()\n",
    "    dataset.shuffle_indices()\n",
    "    if val_dataset_idx:\n",
    "        val_dataset = asr.dataset.Audio.from_csv(val_dataset_idx, batch_size=batch_size, use_filesizes=True,\n",
    "                                                 group_size=hvd.size(), rank=hvd.rank())\n",
    "\n",
    "    initial_lr_global = initial_lr * hvd.size()\n",
    "    opt_instance = tf.optimizers.Adam(initial_lr_global, beta_1=0.9, beta_2=0.999)\n",
    "    #opt_instance = tfa.optimizers.NovoGrad(initial_lr_global, beta_1=0.95, beta_2=0.5, weight_decay=0.001)\n",
    "\n",
    "    opt = hvd.DistributedOptimizer(opt_instance)\n",
    "    pipeline = get_pipeline(model, opt)\n",
    "    \n",
    "    callbacks = [\n",
    "        hvd.callbacks.BroadcastGlobalVariablesCallback(0),\n",
    "        hvd.callbacks.MetricAverageCallback(),\n",
    "    ]\n",
    "    schedule=tf.keras.experimental.CosineDecayRestarts(\n",
    "        initial_lr_global, 10, t_mul=2.0, m_mul=1.0, alpha=0.0,\n",
    "    )\n",
    "    callbacks.append(LearningRateScheduler(schedule))\n",
    "    if hvd.rank() == 0:\n",
    "        prefix = datetime.now().strftime(\"%Y%m%d-%H%M%S\")\n",
    "        monitor_metric_name = 'loss' # if not val_dataset_idx else 'val_loss'  # val_loss is wrong and broken\n",
    "        callbacks.append(\n",
    "            keras.callbacks.ModelCheckpoint(\n",
    "                os.path.join(model_dir, prefix + '_best.ckpt'),\n",
    "                monitor=monitor_metric_name, save_weights_only=True,\n",
    "                save_best_only=True))\n",
    "        if tensorboard:\n",
    "            logdir = os.path.join(model_dir, 'tb', prefix)\n",
    "            tensorboard_callback = keras.callbacks.TensorBoard(log_dir=logdir, profile_batch=1)\n",
    "            callbacks.append(tensorboard_callback)\n",
    "\n",
    "    time_start = time.time()\n",
    "\n",
    "    hist = pipeline.fit(dataset, epochs=epochs, dev_dataset=val_dataset,\n",
    "                        #steps_per_epoch=270,\n",
    "                        callbacks=callbacks,\n",
    "                        verbose=1 if hvd.rank() == 0 else 0,\n",
    "                        )\n",
    "    elapsed = time.time() - time_start\n",
    "    \n",
    "    if hvd.rank() == 0:\n",
    "        print(f'Elapsed time: {elapsed}')\n",
    "        #np.save(os.path.join(model_dir, prefix + '_hist.p'), np.array(hist))"
   ]
  },
  {
   "cell_type": "code",
   "execution_count": null,
   "metadata": {},
   "outputs": [
    {
     "name": "stdout",
     "output_type": "stream",
     "text": [
      "WARNING:tensorflow:No training configuration found in the save file, so the model was *not* compiled. Compile it manually.\n",
      "Epoch 1/1000\n",
      "WARNING:tensorflow:multiprocessing can interact badly with TensorFlow, causing nondeterministic deadlocks. For high performance data pipelines tf.data is recommended.\n",
      "WARNING:tensorflow:From /trinity/home/r.schutski/asr_speedup/venv/lib/python3.7/site-packages/tensorflow/python/ops/ctc_ops.py:1399: alias_inplace_add (from tensorflow.python.ops.inplace_ops) is deprecated and will be removed in a future version.\n",
      "Instructions for updating:\n",
      "Prefer tf.tensor_scatter_nd_add, which offers the same functionality with well-defined read-write semantics.\n",
      "WARNING:tensorflow:From /trinity/home/r.schutski/asr_speedup/venv/lib/python3.7/site-packages/tensorflow/python/ops/ctc_ops.py:1382: alias_inplace_update (from tensorflow.python.ops.inplace_ops) is deprecated and will be removed in a future version.\n",
      "Instructions for updating:\n",
      "Prefer tf.tensor_scatter_nd_update, which offers the same functionality with well-defined read-write semantics.\n",
      "167/168 [============================>.] - ETA: 5s - loss: 706.8956 WARNING:tensorflow:multiprocessing can interact badly with TensorFlow, causing nondeterministic deadlocks. For high performance data pipelines tf.data is recommended.\n",
      "168/168 [==============================] - ETA: 0s - loss: 706.8956WARNING:tensorflow:multiprocessing can interact badly with TensorFlow, causing nondeterministic deadlocks. For high performance data pipelines tf.data is recommended.\n",
      "WARNING:tensorflow:multiprocessing can interact badly with TensorFlow, causing nondeterministic deadlocks. For high performance data pipelines tf.data is recommended.\n",
      "168/168 [==============================] - 1912s 11s/step - loss: 706.8956 - val_loss: 661.6176 - lr: 0.0010\n",
      "Epoch 2/1000\n",
      "WARNING:tensorflow:multiprocessing can interact badly with TensorFlow, causing nondeterministic deadlocks. For high performance data pipelines tf.data is recommended.\n",
      "167/168 [============================>.] - ETA: 5s - loss: 527.3150 WARNING:tensorflow:multiprocessing can interact badly with TensorFlow, causing nondeterministic deadlocks. For high performance data pipelines tf.data is recommended.\n",
      "168/168 [==============================] - ETA: 0s - loss: 527.1761WARNING:tensorflow:multiprocessing can interact badly with TensorFlow, causing nondeterministic deadlocks. For high performance data pipelines tf.data is recommended.\n",
      "WARNING:tensorflow:multiprocessing can interact badly with TensorFlow, causing nondeterministic deadlocks. For high performance data pipelines tf.data is recommended.\n",
      "168/168 [==============================] - 1862s 11s/step - loss: 527.1761 - val_loss: 483.2599 - lr: 9.7553e-04\n",
      "Epoch 3/1000\n",
      "WARNING:tensorflow:multiprocessing can interact badly with TensorFlow, causing nondeterministic deadlocks. For high performance data pipelines tf.data is recommended.\n",
      "167/168 [============================>.] - ETA: 5s - loss: 512.9785 WARNING:tensorflow:multiprocessing can interact badly with TensorFlow, causing nondeterministic deadlocks. For high performance data pipelines tf.data is recommended.\n",
      "168/168 [==============================] - ETA: 0s - loss: 512.1720WARNING:tensorflow:multiprocessing can interact badly with TensorFlow, causing nondeterministic deadlocks. For high performance data pipelines tf.data is recommended.\n",
      "WARNING:tensorflow:multiprocessing can interact badly with TensorFlow, causing nondeterministic deadlocks. For high performance data pipelines tf.data is recommended.\n",
      "168/168 [==============================] - 1883s 11s/step - loss: 512.1720 - val_loss: 454.8801 - lr: 9.0451e-04\n",
      "Epoch 4/1000\n",
      "WARNING:tensorflow:multiprocessing can interact badly with TensorFlow, causing nondeterministic deadlocks. For high performance data pipelines tf.data is recommended.\n",
      "167/168 [============================>.] - ETA: 5s - loss: 511.8329 WARNING:tensorflow:multiprocessing can interact badly with TensorFlow, causing nondeterministic deadlocks. For high performance data pipelines tf.data is recommended.\n",
      "168/168 [==============================] - ETA: 0s - loss: 511.8981WARNING:tensorflow:multiprocessing can interact badly with TensorFlow, causing nondeterministic deadlocks. For high performance data pipelines tf.data is recommended.\n",
      "WARNING:tensorflow:multiprocessing can interact badly with TensorFlow, causing nondeterministic deadlocks. For high performance data pipelines tf.data is recommended.\n",
      "168/168 [==============================] - 1885s 11s/step - loss: 511.8981 - val_loss: 463.0675 - lr: 7.9389e-04\n",
      "Epoch 5/1000\n",
      "WARNING:tensorflow:multiprocessing can interact badly with TensorFlow, causing nondeterministic deadlocks. For high performance data pipelines tf.data is recommended.\n",
      "167/168 [============================>.] - ETA: 5s - loss: 511.1211 WARNING:tensorflow:multiprocessing can interact badly with TensorFlow, causing nondeterministic deadlocks. For high performance data pipelines tf.data is recommended.\n",
      "168/168 [==============================] - ETA: 0s - loss: 510.6856WARNING:tensorflow:multiprocessing can interact badly with TensorFlow, causing nondeterministic deadlocks. For high performance data pipelines tf.data is recommended.\n",
      "WARNING:tensorflow:multiprocessing can interact badly with TensorFlow, causing nondeterministic deadlocks. For high performance data pipelines tf.data is recommended.\n",
      "168/168 [==============================] - 1843s 11s/step - loss: 510.6856 - val_loss: 463.5797 - lr: 6.5451e-04\n",
      "Epoch 6/1000\n",
      "WARNING:tensorflow:multiprocessing can interact badly with TensorFlow, causing nondeterministic deadlocks. For high performance data pipelines tf.data is recommended.\n",
      "167/168 [============================>.] - ETA: 5s - loss: 509.2110 WARNING:tensorflow:multiprocessing can interact badly with TensorFlow, causing nondeterministic deadlocks. For high performance data pipelines tf.data is recommended.\n",
      "168/168 [==============================] - ETA: 0s - loss: 509.4211WARNING:tensorflow:multiprocessing can interact badly with TensorFlow, causing nondeterministic deadlocks. For high performance data pipelines tf.data is recommended.\n",
      "WARNING:tensorflow:multiprocessing can interact badly with TensorFlow, causing nondeterministic deadlocks. For high performance data pipelines tf.data is recommended.\n",
      "168/168 [==============================] - 1848s 11s/step - loss: 509.4211 - val_loss: 449.8560 - lr: 5.0000e-04\n",
      "Epoch 7/1000\n",
      "WARNING:tensorflow:multiprocessing can interact badly with TensorFlow, causing nondeterministic deadlocks. For high performance data pipelines tf.data is recommended.\n",
      "167/168 [============================>.] - ETA: 5s - loss: 508.8298 WARNING:tensorflow:multiprocessing can interact badly with TensorFlow, causing nondeterministic deadlocks. For high performance data pipelines tf.data is recommended.\n",
      "168/168 [==============================] - ETA: 0s - loss: 508.3890WARNING:tensorflow:multiprocessing can interact badly with TensorFlow, causing nondeterministic deadlocks. For high performance data pipelines tf.data is recommended.\n",
      "WARNING:tensorflow:multiprocessing can interact badly with TensorFlow, causing nondeterministic deadlocks. For high performance data pipelines tf.data is recommended.\n",
      "168/168 [==============================] - 1849s 11s/step - loss: 508.3890 - val_loss: 447.7030 - lr: 3.4549e-04\n",
      "Epoch 8/1000\n",
      "WARNING:tensorflow:multiprocessing can interact badly with TensorFlow, causing nondeterministic deadlocks. For high performance data pipelines tf.data is recommended.\n",
      "167/168 [============================>.] - ETA: 5s - loss: 507.8860 WARNING:tensorflow:multiprocessing can interact badly with TensorFlow, causing nondeterministic deadlocks. For high performance data pipelines tf.data is recommended.\n",
      "168/168 [==============================] - ETA: 0s - loss: 508.0101WARNING:tensorflow:multiprocessing can interact badly with TensorFlow, causing nondeterministic deadlocks. For high performance data pipelines tf.data is recommended.\n",
      "WARNING:tensorflow:multiprocessing can interact badly with TensorFlow, causing nondeterministic deadlocks. For high performance data pipelines tf.data is recommended.\n",
      "168/168 [==============================] - 1853s 11s/step - loss: 508.0101 - val_loss: 425.6635 - lr: 2.0611e-04\n",
      "Epoch 9/1000\n",
      "WARNING:tensorflow:multiprocessing can interact badly with TensorFlow, causing nondeterministic deadlocks. For high performance data pipelines tf.data is recommended.\n",
      "167/168 [============================>.] - ETA: 5s - loss: 506.8187 WARNING:tensorflow:multiprocessing can interact badly with TensorFlow, causing nondeterministic deadlocks. For high performance data pipelines tf.data is recommended.\n",
      "168/168 [==============================] - ETA: 0s - loss: 507.0709WARNING:tensorflow:multiprocessing can interact badly with TensorFlow, causing nondeterministic deadlocks. For high performance data pipelines tf.data is recommended.\n",
      "WARNING:tensorflow:multiprocessing can interact badly with TensorFlow, causing nondeterministic deadlocks. For high performance data pipelines tf.data is recommended.\n",
      "168/168 [==============================] - 1848s 11s/step - loss: 507.0709 - val_loss: 436.0106 - lr: 9.5492e-05\n",
      "Epoch 10/1000\n",
      "WARNING:tensorflow:multiprocessing can interact badly with TensorFlow, causing nondeterministic deadlocks. For high performance data pipelines tf.data is recommended.\n",
      "167/168 [============================>.] - ETA: 5s - loss: 506.2287 WARNING:tensorflow:multiprocessing can interact badly with TensorFlow, causing nondeterministic deadlocks. For high performance data pipelines tf.data is recommended.\n",
      "168/168 [==============================] - ETA: 0s - loss: 506.2111WARNING:tensorflow:multiprocessing can interact badly with TensorFlow, causing nondeterministic deadlocks. For high performance data pipelines tf.data is recommended.\n",
      "WARNING:tensorflow:multiprocessing can interact badly with TensorFlow, causing nondeterministic deadlocks. For high performance data pipelines tf.data is recommended.\n",
      "168/168 [==============================] - 1853s 11s/step - loss: 506.2111 - val_loss: 434.6854 - lr: 2.4472e-05\n",
      "Epoch 11/1000\n",
      "WARNING:tensorflow:multiprocessing can interact badly with TensorFlow, causing nondeterministic deadlocks. For high performance data pipelines tf.data is recommended.\n",
      "167/168 [============================>.] - ETA: 5s - loss: 513.1992 WARNING:tensorflow:multiprocessing can interact badly with TensorFlow, causing nondeterministic deadlocks. For high performance data pipelines tf.data is recommended.\n",
      "168/168 [==============================] - ETA: 0s - loss: 513.3795WARNING:tensorflow:multiprocessing can interact badly with TensorFlow, causing nondeterministic deadlocks. For high performance data pipelines tf.data is recommended.\n",
      "WARNING:tensorflow:multiprocessing can interact badly with TensorFlow, causing nondeterministic deadlocks. For high performance data pipelines tf.data is recommended.\n",
      "168/168 [==============================] - 1852s 11s/step - loss: 513.3795 - val_loss: 447.3841 - lr: 0.0010\n",
      "Epoch 12/1000\n",
      "WARNING:tensorflow:multiprocessing can interact badly with TensorFlow, causing nondeterministic deadlocks. For high performance data pipelines tf.data is recommended.\n",
      "167/168 [============================>.] - ETA: 5s - loss: 510.5296 WARNING:tensorflow:multiprocessing can interact badly with TensorFlow, causing nondeterministic deadlocks. For high performance data pipelines tf.data is recommended.\n",
      "168/168 [==============================] - ETA: 0s - loss: 511.1193WARNING:tensorflow:multiprocessing can interact badly with TensorFlow, causing nondeterministic deadlocks. For high performance data pipelines tf.data is recommended.\n",
      "WARNING:tensorflow:multiprocessing can interact badly with TensorFlow, causing nondeterministic deadlocks. For high performance data pipelines tf.data is recommended.\n",
      "168/168 [==============================] - 1855s 11s/step - loss: 511.1193 - val_loss: 379.5443 - lr: 9.9384e-04\n",
      "Epoch 13/1000\n",
      "WARNING:tensorflow:multiprocessing can interact badly with TensorFlow, causing nondeterministic deadlocks. For high performance data pipelines tf.data is recommended.\n",
      "167/168 [============================>.] - ETA: 5s - loss: 509.9687 WARNING:tensorflow:multiprocessing can interact badly with TensorFlow, causing nondeterministic deadlocks. For high performance data pipelines tf.data is recommended.\n",
      "168/168 [==============================] - ETA: 0s - loss: 510.3091WARNING:tensorflow:multiprocessing can interact badly with TensorFlow, causing nondeterministic deadlocks. For high performance data pipelines tf.data is recommended.\n",
      "WARNING:tensorflow:multiprocessing can interact badly with TensorFlow, causing nondeterministic deadlocks. For high performance data pipelines tf.data is recommended.\n",
      "168/168 [==============================] - 1853s 11s/step - loss: 510.3091 - val_loss: 372.2421 - lr: 9.7553e-04\n",
      "Epoch 14/1000\n",
      "WARNING:tensorflow:multiprocessing can interact badly with TensorFlow, causing nondeterministic deadlocks. For high performance data pipelines tf.data is recommended.\n",
      "167/168 [============================>.] - ETA: 5s - loss: 510.0435 WARNING:tensorflow:multiprocessing can interact badly with TensorFlow, causing nondeterministic deadlocks. For high performance data pipelines tf.data is recommended.\n",
      "168/168 [==============================] - ETA: 0s - loss: 509.9932WARNING:tensorflow:multiprocessing can interact badly with TensorFlow, causing nondeterministic deadlocks. For high performance data pipelines tf.data is recommended.\n",
      "WARNING:tensorflow:multiprocessing can interact badly with TensorFlow, causing nondeterministic deadlocks. For high performance data pipelines tf.data is recommended.\n",
      "168/168 [==============================] - 1840s 11s/step - loss: 509.9932 - val_loss: 393.1835 - lr: 9.4550e-04\n",
      "Epoch 15/1000\n",
      "WARNING:tensorflow:multiprocessing can interact badly with TensorFlow, causing nondeterministic deadlocks. For high performance data pipelines tf.data is recommended.\n",
      "167/168 [============================>.] - ETA: 5s - loss: 510.2250 WARNING:tensorflow:multiprocessing can interact badly with TensorFlow, causing nondeterministic deadlocks. For high performance data pipelines tf.data is recommended.\n",
      "168/168 [==============================] - ETA: 0s - loss: 509.6467WARNING:tensorflow:multiprocessing can interact badly with TensorFlow, causing nondeterministic deadlocks. For high performance data pipelines tf.data is recommended.\n",
      "WARNING:tensorflow:multiprocessing can interact badly with TensorFlow, causing nondeterministic deadlocks. For high performance data pipelines tf.data is recommended.\n",
      "168/168 [==============================] - 1845s 11s/step - loss: 509.6467 - val_loss: 380.9746 - lr: 9.0451e-04\n",
      "Epoch 16/1000\n",
      "WARNING:tensorflow:multiprocessing can interact badly with TensorFlow, causing nondeterministic deadlocks. For high performance data pipelines tf.data is recommended.\n",
      "167/168 [============================>.] - ETA: 5s - loss: 509.9383 WARNING:tensorflow:multiprocessing can interact badly with TensorFlow, causing nondeterministic deadlocks. For high performance data pipelines tf.data is recommended.\n",
      "168/168 [==============================] - ETA: 0s - loss: 509.2805WARNING:tensorflow:multiprocessing can interact badly with TensorFlow, causing nondeterministic deadlocks. For high performance data pipelines tf.data is recommended.\n"
     ]
    }
   ],
   "source": [
    "train_model(\n",
    "    filename='./models/tt_ds_uniform_initall_r14.h5', \n",
    "    dataset_idx='./data/dev-clean-index.csv',\n",
    "    val_dataset_idx='./data/dev-clean-index.csv',\n",
    "    batch_size=16,\n",
    "    epochs=1000,\n",
    "    tensorboard=False,\n",
    "    restart_filename=None,\n",
    ")"
   ]
  },
  {
   "cell_type": "code",
   "execution_count": null,
   "metadata": {},
   "outputs": [],
   "source": []
  },
  {
   "cell_type": "code",
   "execution_count": null,
   "metadata": {},
   "outputs": [],
   "source": []
  },
  {
   "cell_type": "code",
   "execution_count": null,
   "metadata": {},
   "outputs": [],
   "source": []
  },
  {
   "cell_type": "markdown",
   "metadata": {},
   "source": [
    "'rnn_72' => 'rnn_216' [13], 'time_distributed_144' => 'time_distributed_431' [10], 'time_distributed_145' => 'time_distributed_432' [15]"
   ]
  },
  {
   "cell_type": "code",
   "execution_count": null,
   "metadata": {},
   "outputs": [],
   "source": [
    "if __name__ == '__main__':\n",
    "    parser = argparse.ArgumentParser(\n",
    "        description='Train ctc asr model')\n",
    "    parser.add_argument('--filename', type=str,\n",
    "                        help='filename of the model')\n",
    "    parser.add_argument('--dataset', type=str,\n",
    "                        help='path to the dataset index',)\n",
    "    parser.add_argument('--val_dataset', type=str,\n",
    "                        help='path to the validation dataset index (optional)',\n",
    "                        default=None)\n",
    "    parser.add_argument('--lr', type=float,\n",
    "                       help='initial learning rate',\n",
    "    parser.add_argument('--batch_size', type=int,\n",
    "                       help='batch size for training and validation',\n",
    "                       default=10)\n",
    "    parser.add_argument('--epochs', type=int,\n",
    "                       help='number of epochs to use for training',\n",
    "                       default=25)\n",
    "    parser.add_argument('--mix_pres', type=bool,\n",
    "                       help='if mixed precision training is requested',\n",
    "                       default=False)                    \n",
    "    parser.add_argument('--tensorboard', type=bool,\n",
    "                       help='if tensorboard log will be written',\n",
    "                       default=False)\n",
    "    parser.add_argument('--restart_filename', type=str,\n",
    "                       help='filename of the checkpoint to restart from',\n",
    "                       default=None)\n",
    "    args = parser.parse_args()\n",
    "    \n",
    "    train_model(filename=args.filename, dataset_idx=args.dataset,\n",
    "                val_dataset_idx=args.val_dataset, epochs=args.epochs,\n",
    "                batch_size=args.batch_size, is_mixed_precision=args.mix_pres,\n",
    "                initial_lr=args.lr,\n",
    "                args.tensorboard, args.restart_filename)"
   ]
  },
  {
   "cell_type": "markdown",
   "metadata": {},
   "source": [
    "training times: 25 epochs - 10 batch / epoch\n",
    " tt mixed - gpu - 9427s - batch = 1\n",
    " tt mixed - cpu - 29900s - batch = 1\n",
    " tt full  - cpu - 14050s - batch = 1"
   ]
  },
  {
   "cell_type": "code",
   "execution_count": null,
   "metadata": {},
   "outputs": [],
   "source": []
  },
  {
   "cell_type": "code",
   "execution_count": 13,
   "metadata": {},
   "outputs": [],
   "source": []
  },
  {
   "cell_type": "code",
   "execution_count": null,
   "metadata": {},
   "outputs": [],
   "source": []
  },
  {
   "cell_type": "code",
   "execution_count": null,
   "metadata": {},
   "outputs": [],
   "source": []
  },
  {
   "cell_type": "code",
   "execution_count": null,
   "metadata": {},
   "outputs": [],
   "source": []
  },
  {
   "cell_type": "code",
   "execution_count": null,
   "metadata": {},
   "outputs": [],
   "source": []
  },
  {
   "cell_type": "code",
   "execution_count": null,
   "metadata": {},
   "outputs": [],
   "source": []
  }
 ],
 "metadata": {
  "kernelspec": {
   "display_name": "asr",
   "language": "python",
   "name": "asr"
  },
  "language_info": {
   "codemirror_mode": {
    "name": "ipython",
    "version": 3
   },
   "file_extension": ".py",
   "mimetype": "text/x-python",
   "name": "python",
   "nbconvert_exporter": "python",
   "pygments_lexer": "ipython3",
   "version": "3.7.1"
  },
  "toc": {
   "base_numbering": 1,
   "nav_menu": {},
   "number_sections": true,
   "sideBar": true,
   "skip_h1_title": false,
   "title_cell": "Table of Contents",
   "title_sidebar": "Contents",
   "toc_cell": false,
   "toc_position": {},
   "toc_section_display": true,
   "toc_window_display": false
  }
 },
 "nbformat": 4,
 "nbformat_minor": 4
}
